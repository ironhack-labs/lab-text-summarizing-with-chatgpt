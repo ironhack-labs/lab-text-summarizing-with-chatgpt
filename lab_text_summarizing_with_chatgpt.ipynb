{
  "cells": [
    {
      "cell_type": "markdown",
      "metadata": {
        "id": "doaduFdoGpWW"
      },
      "source": [
        "# Text summarizing with ChaptGPT\n",
        "In this lesson, you will summarize text with a focus on specific topics.\n",
        "\n",
        "## Setup"
      ]
    },
    {
      "cell_type": "code",
      "execution_count": 1,
      "metadata": {
        "tags": [],
        "id": "71iesOXuGpWX"
      },
      "outputs": [],
      "source": [
        "from openai import OpenAI\n",
        "from google.colab import userdata\n",
        "import os\n",
        "\n",
        "\n",
        "\n",
        "OPENAI_API_KEY  = userdata.get('openaikey')"
      ]
    },
    {
      "cell_type": "code",
      "execution_count": 2,
      "metadata": {
        "tags": [],
        "id": "kfhBYMm8GpWX"
      },
      "outputs": [],
      "source": [
        "client = OpenAI(\n",
        "    # This is the default and can be omitted\n",
        "    api_key=OPENAI_API_KEY,\n",
        ")\n",
        "\n",
        "\n",
        "def get_completion(prompt, model=\"gpt-4\"): # Andrew mentioned that the prompt/ completion paradigm is preferable for this class\n",
        "    messages = [{\"role\": \"user\", \"content\": prompt}]\n",
        "    response = client.chat.completions.create(\n",
        "        model=model,\n",
        "        messages=messages,\n",
        "        temperature=0, # this is the degree of randomness of the model's output\n",
        "    )\n",
        "    return response.choices[0].message.content\n"
      ]
    },
    {
      "cell_type": "markdown",
      "metadata": {
        "id": "3qqHTii4GpWY"
      },
      "source": [
        "## Text to summarize"
      ]
    },
    {
      "cell_type": "code",
      "execution_count": 3,
      "metadata": {
        "tags": [],
        "id": "dC0XG1SOGpWY"
      },
      "outputs": [],
      "source": [
        "prod_review = \"\"\"\n",
        "Got this panda plush toy for my daughter's birthday, \\\n",
        "who loves it and takes it everywhere. It's soft and \\\n",
        "super cute, and its face has a friendly look. It's \\\n",
        "a bit small for what I paid though. I think there \\\n",
        "might be other options that are bigger for the \\\n",
        "same price. It arrived a day earlier than expected, \\\n",
        "so I got to play with it myself before I gave it \\\n",
        "to her.\n",
        "\"\"\""
      ]
    },
    {
      "cell_type": "markdown",
      "metadata": {
        "id": "wAAXflwQGpWY"
      },
      "source": [
        "## Summarize with a word/sentence/character limit"
      ]
    },
    {
      "cell_type": "code",
      "execution_count": 4,
      "metadata": {
        "tags": [],
        "colab": {
          "base_uri": "https://localhost:8080/"
        },
        "id": "IaU6TU85GpWY",
        "outputId": "027301c8-123a-4fa3-d5b8-a2aeab174fb7"
      },
      "outputs": [
        {
          "output_type": "stream",
          "name": "stdout",
          "text": [
            "The reviewer bought a panda plush toy for their daughter's birthday. They found it soft, cute, and friendly-looking, but smaller than expected for the price. It arrived early.\n"
          ]
        }
      ],
      "source": [
        "prompt = f\"\"\"\n",
        "Your task is to generate a short summary of a product \\\n",
        "review from an ecommerce site.\n",
        "\n",
        "Summarize the review below, delimited by triple\n",
        "backticks, in at most 30 words.\n",
        "\n",
        "Review: ```{prod_review}```\n",
        "\"\"\"\n",
        "\n",
        "response = get_completion(prompt)\n",
        "print(response)\n"
      ]
    },
    {
      "cell_type": "markdown",
      "metadata": {
        "id": "K6cxFCOSGpWZ"
      },
      "source": [
        "## Summarize with a focus on shipping and delivery"
      ]
    },
    {
      "cell_type": "code",
      "execution_count": 5,
      "metadata": {
        "tags": [],
        "colab": {
          "base_uri": "https://localhost:8080/"
        },
        "id": "6_NT8ThBGpWZ",
        "outputId": "1a27a46f-6232-4d9f-8170-8704902bc093"
      },
      "outputs": [
        {
          "output_type": "stream",
          "name": "stdout",
          "text": [
            "The panda plush toy arrived a day earlier than expected, providing a positive shipping experience for the customer.\n"
          ]
        }
      ],
      "source": [
        "prompt = f\"\"\"\n",
        "Your task is to generate a short summary of a product \\\n",
        "review from an ecommerce site to give feedback to the \\\n",
        "Shipping deparmtment.\n",
        "\n",
        "Summarize the review below, delimited by triple\n",
        "backticks, in at most 30 words, and focusing on any aspects \\\n",
        "that mention shipping and delivery of the product.\n",
        "\n",
        "Review: ```{prod_review}```\n",
        "\"\"\"\n",
        "\n",
        "response = get_completion(prompt)\n",
        "print(response)\n"
      ]
    },
    {
      "cell_type": "markdown",
      "metadata": {
        "id": "qTADYjiOGpWZ"
      },
      "source": [
        "## Summarize with a focus on price and value"
      ]
    },
    {
      "cell_type": "code",
      "execution_count": 6,
      "metadata": {
        "tags": [],
        "colab": {
          "base_uri": "https://localhost:8080/"
        },
        "id": "zC0E_qFsGpWa",
        "outputId": "e3a38afe-783d-4074-aee9-b085c6e4c9aa"
      },
      "outputs": [
        {
          "output_type": "stream",
          "name": "stdout",
          "text": [
            "The customer feels the panda plush toy is smaller than expected for its price, suggesting there may be larger alternatives available at the same cost.\n"
          ]
        }
      ],
      "source": [
        "prompt = f\"\"\"\n",
        "Your task is to generate a short summary of a product \\\n",
        "review from an ecommerce site to give feedback to the \\\n",
        "pricing deparmtment, responsible for determining the \\\n",
        "price of the product.\n",
        "\n",
        "Summarize the review below, delimited by triple\n",
        "backticks, in at most 30 words, and focusing on any aspects \\\n",
        "that are relevant to the price and perceived value.\n",
        "\n",
        "Review: ```{prod_review}```\n",
        "\"\"\"\n",
        "\n",
        "response = get_completion(prompt)\n",
        "print(response)\n"
      ]
    },
    {
      "cell_type": "markdown",
      "metadata": {
        "id": "H2OCfA6jGpWa"
      },
      "source": [
        "#### Comment\n",
        "- Summaries include topics that are not related to the topic of focus."
      ]
    },
    {
      "cell_type": "markdown",
      "metadata": {
        "id": "tCCKKzyjGpWa"
      },
      "source": [
        "## Try \"extract\" instead of \"summarize\""
      ]
    },
    {
      "cell_type": "code",
      "execution_count": 7,
      "metadata": {
        "tags": [],
        "colab": {
          "base_uri": "https://localhost:8080/"
        },
        "id": "Ku1r_eHyGpWa",
        "outputId": "d36ca437-e545-47d8-bb08-2e498e80cc36"
      },
      "outputs": [
        {
          "output_type": "stream",
          "name": "stdout",
          "text": [
            "The panda plush toy arrived a day earlier than expected.\n"
          ]
        }
      ],
      "source": [
        "prompt = f\"\"\"\n",
        "Your task is to extract relevant information from \\\n",
        "a product review from an ecommerce site to give \\\n",
        "feedback to the Shipping department.\n",
        "\n",
        "From the review below, delimited by triple quotes \\\n",
        "extract the information relevant to shipping and \\\n",
        "delivery. Limit to 30 words.\n",
        "\n",
        "Review: ```{prod_review}```\n",
        "\"\"\"\n",
        "\n",
        "response = get_completion(prompt)\n",
        "print(response)"
      ]
    },
    {
      "cell_type": "markdown",
      "metadata": {
        "id": "YyxWJri1GpWa"
      },
      "source": [
        "## Summarize multiple product reviews"
      ]
    },
    {
      "cell_type": "code",
      "execution_count": 8,
      "metadata": {
        "tags": [],
        "id": "U3uiJRmFGpWa"
      },
      "outputs": [],
      "source": [
        "\n",
        "review_1 = prod_review\n",
        "\n",
        "# review for a standing lamp\n",
        "review_2 = \"\"\"\n",
        "Needed a nice lamp for my bedroom, and this one \\\n",
        "had additional storage and not too high of a price \\\n",
        "point. Got it fast - arrived in 2 days. The string \\\n",
        "to the lamp broke during the transit and the company \\\n",
        "happily sent over a new one. Came within a few days \\\n",
        "as well. It was easy to put together. Then I had a \\\n",
        "missing part, so I contacted their support and they \\\n",
        "very quickly got me the missing piece! Seems to me \\\n",
        "to be a great company that cares about their customers \\\n",
        "and products.\n",
        "\"\"\"\n",
        "\n",
        "# review for an electric toothbrush\n",
        "review_3 = \"\"\"\n",
        "My dental hygienist recommended an electric toothbrush, \\\n",
        "which is why I got this. The battery life seems to be \\\n",
        "pretty impressive so far. After initial charging and \\\n",
        "leaving the charger plugged in for the first week to \\\n",
        "condition the battery, I've unplugged the charger and \\\n",
        "been using it for twice daily brushing for the last \\\n",
        "3 weeks all on the same charge. But the toothbrush head \\\n",
        "is too small. I’ve seen baby toothbrushes bigger than \\\n",
        "this one. I wish the head was bigger with different \\\n",
        "length bristles to get between teeth better because \\\n",
        "this one doesn’t.  Overall if you can get this one \\\n",
        "around the $50 mark, it's a good deal. The manufactuer's \\\n",
        "replacements heads are pretty expensive, but you can \\\n",
        "get generic ones that're more reasonably priced. This \\\n",
        "toothbrush makes me feel like I've been to the dentist \\\n",
        "every day. My teeth feel sparkly clean!\n",
        "\"\"\"\n",
        "\n",
        "# review for a blender\n",
        "review_4 = \"\"\"\n",
        "So, they still had the 17 piece system on seasonal \\\n",
        "sale for around $49 in the month of November, about \\\n",
        "half off, but for some reason (call it price gouging) \\\n",
        "around the second week of December the prices all went \\\n",
        "up to about anywhere from between $70-$89 for the same \\\n",
        "system. And the 11 piece system went up around $10 or \\\n",
        "so in price also from the earlier sale price of $29. \\\n",
        "So it looks okay, but if you look at the base, the part \\\n",
        "where the blade locks into place doesn’t look as good \\\n",
        "as in previous editions from a few years ago, but I \\\n",
        "plan to be very gentle with it (example, I crush \\\n",
        "very hard items like beans, ice, rice, etc. in the \\\n",
        "blender first then pulverize them in the serving size \\\n",
        "I want in the blender then switch to the whipping \\\n",
        "blade for a finer flour, and use the cross cutting blade \\\n",
        "first when making smoothies, then use the flat blade \\\n",
        "if I need them finer/less pulpy). Special tip when making \\\n",
        "smoothies, finely cut and freeze the fruits and \\\n",
        "vegetables (if using spinach-lightly stew soften the \\\n",
        "spinach then freeze until ready for use-and if making \\\n",
        "sorbet, use a small to medium sized food processor) \\\n",
        "that you plan to use that way you can avoid adding so \\\n",
        "much ice if at all-when making your smoothie. \\\n",
        "After about a year, the motor was making a funny noise. \\\n",
        "I called customer service but the warranty expired \\\n",
        "already, so I had to buy another one. FYI: The overall \\\n",
        "quality has gone done in these types of products, so \\\n",
        "they are kind of counting on brand recognition and \\\n",
        "consumer loyalty to maintain sales. Got it in about \\\n",
        "two days.\n",
        "\"\"\"\n",
        "\n",
        "reviews = [review_1, review_2, review_3, review_4]"
      ]
    },
    {
      "cell_type": "code",
      "execution_count": 9,
      "metadata": {
        "tags": [],
        "colab": {
          "base_uri": "https://localhost:8080/"
        },
        "id": "-uQTODbEGpWa",
        "outputId": "c17262bf-00cf-4025-faee-a252c754642c"
      },
      "outputs": [
        {
          "output_type": "stream",
          "name": "stdout",
          "text": [
            "0 The reviewer's daughter loves the soft, cute panda plush toy, but it's smaller than expected for the price. It arrived early. \n",
            "\n",
            "1 The reviewer appreciated the affordable lamp with storage, praised the company's quick delivery and responsive customer service. \n",
            "\n",
            "2 The reviewer recommends the electric toothbrush for its impressive battery life and clean feeling, but criticizes the small brush head. \n",
            "\n",
            "3 The reviewer bought a 17-piece system on sale but noticed a price increase in December. They found the blade lock quality decreased compared to previous versions. After a year, the motor started making a noise and the warranty had expired. They believe the overall quality of such products has declined. \n",
            "\n"
          ]
        }
      ],
      "source": [
        "for i in range(len(reviews)):\n",
        "    prompt = f\"\"\"\n",
        "    Your task is to generate a short summary of a product \\\n",
        "    review from an ecommerce site.\n",
        "\n",
        "    Summarize the review below, delimited by triple \\\n",
        "    backticks in at most 20 words.\n",
        "\n",
        "    Review: ```{reviews[i]}```\n",
        "    \"\"\"\n",
        "\n",
        "    response = get_completion(prompt)\n",
        "    print(i, response, \"\\n\")"
      ]
    },
    {
      "cell_type": "markdown",
      "metadata": {
        "id": "vtjpKTXMGpWb"
      },
      "source": [
        "# Exercise\n",
        " - Complete the prompts similar to what we did in class.\n",
        "     - Try at least 3 versions\n",
        "     - Be creative\n",
        " - Write a one page report summarizing your findings.\n",
        "     - Were there variations that didn't work well? i.e., where GPT either hallucinated or wrong\n",
        " - What did you learn?"
      ]
    },
    {
      "cell_type": "code",
      "execution_count": null,
      "metadata": {
        "id": "2WWXke-nGpWb"
      },
      "outputs": [],
      "source": []
    },
    {
      "cell_type": "code",
      "execution_count": 11,
      "metadata": {
        "tags": [],
        "id": "Od0k2zsLKHD5"
      },
      "outputs": [],
      "source": [
        "\n",
        "review1 = \"\"\"\n",
        "War lange auf der Suche nach einem Trimmer/Rasierer bei dem ich meine Kopfbehaarung kürzer als 1mm bekomme - jedoch noch keine Glatze habe. Durch den Barbier meines Vertrauens vor Ort wurde ich auf den Trimmer von Wahl aufmerksam. Gleich bei Amazon nachgeschaut, bestellt - und bin begeistert.\n",
        "Bei dem Gerät von Wahl handelt es sich um einen Konturentrimmer. Soll heißen, das Scherblatt ist etwas kürzer als bei handelsüblichen Trümmern, eben um gut Konturen bearbeiten zu können. Der Trimmer hat trotzdem genug Power um den ganzen Kopf sauber zu rasieren.\n",
        "Bei der Rasur beachten, man sollte mit dem Gerät genau arbeiten. Rasieren in Wuchsrichtung und nicht mit zuviel Druck. Das Ergebnis überzeugt. Egal ob bei mir am Kopf mit 0,5mm oder beim Sidecut meiner besseren Hälfte.\n",
        "Klar kostet der Wahl im ersten Moment etwas mehr, umgerechnet an denen Kosten für Friseur welche man einspart, hat man den Mehrbetrag bald wieder eingefahren.\n",
        "Qualität des Gerätes spricht für sich. Und keine Angst wenn der Scherkopf etwas wärmer wird - das ist kein Mangel an Gerät. Würde ich mit jederzeit wieder kaufen, mich hat der Wahl Konturentrimmer restlos überzeugt.\n",
        "Ganz klare Kaufempfehlung von mir!\n",
        "\"\"\"\n",
        "\n",
        "# review for a standing lamp\n",
        "review2 = \"\"\"\n",
        "Ich fand die Maschine nicht gut.\n",
        "Die Aufsätze sind das billigste, das ich jemals bei Rasierern gesehen habe und ich hatte schon mehrere.\n",
        "Die halten nur mit einer winzigen Haltenase, die noch 1mm Spiel hat.\n",
        "\n",
        "Somit fallen die Aufsätze fast ab und wackeln total hin und her.\n",
        "\n",
        "Schade...\n",
        "\"\"\"\n",
        "\n",
        "# review for an electric toothbrush\n",
        "review3 = \"\"\"\n",
        "Die vielen guten Bewertungen (rund 80%) kann ich nicht im Geringsten nachvollziehen!\n",
        "\n",
        "Billige Verarbeitung (Plastikgehäuse).\n",
        "Die Aufsätze sitzen nicht fest, sondern haben nach links und rechts Luft und vibrieren.\n",
        "Das könnte auch der Grund sein, weshalb der Rasierer beim Schneiden reisst und zerrt.\n",
        "\n",
        "Zudem ist die Schnittleistung völlig UNGENÜGEND!\n",
        "Vlt. liegt es an den deutlich kleineren Messern als beim 9818-116 oder an einem (evtl.) schwächerem Motor.\n",
        "Der Rasierer schneidet in jedem Fall nur Wasser.\n",
        "\n",
        "Ich selbst habe leicht zu schneidendes weiches Barthaar.\n",
        "Mit diesem Rasierer blieb dieses jedoch (auch bei mehrfachem Ansetzen in unterschiedl. Winkeln und unterschiedl. Druck) einfach stehen.\n",
        "Ein sauberer Konturenschnitt war quasi unmöglich!\n",
        "\n",
        "Habe dann zum direkten Vergleich mal den 9818-116 verwendet.\n",
        "Einmal ansetzten genügte: Sauberer Schnitt ohne Ziehen und Reissen.\n",
        "\n",
        "Résumé:\n",
        "Im Vergleich zum 9818-116 (der ja auch schon bei den Bewertungen nicht so sonderlich gut wegkommt) ein Fall für den ELEKTROSCHRITT!\n",
        "\n",
        "Ich habe den Rasierer wieder zurückgeschickt.\n",
        "\"\"\"\n",
        "\n",
        "# review for a blender\n",
        "review4 = \"\"\"\n",
        "Auf Empfehlung meines Friseurs entschied ich mich für meinen Bart mal etwas mehr Geld in die Hand zu nehmen um mir diese tolle Bartschneidemaschine zuzulegen.\n",
        "\n",
        "Bereits einen Tag nach der Bestellung kam das Gerät an.\n",
        "Es ist ein wunderbar kleiner handlicher Rasierer in erstaunlich guter Qualität.\n",
        "\n",
        "Die Maschine eignet sich ohne Aufsatz perfekt für die Bartkonturen, dafür habe ich sie auch angeschafft.\n",
        "\n",
        "Akku bietet eine tolle Laufzeit und die Maschine ist im Betrieb schön leise.\n",
        "\n",
        "Ich bin absolut zufrieden mit dem Gerät und das Schnittbild der Barthaare sieht gleich viel besser aus\n",
        "\n",
        "Einziger Abzug gibt es für dir Aufsätze, der kleinste Aufsatz sitzt etwas schlaff auf der Maschine und man muss aufpassen das er beim rasieren nicht abfällt.\n",
        "\"\"\"\n",
        "\n",
        "reviews_2 = [review1, review2, review3, review4]"
      ]
    },
    {
      "cell_type": "code",
      "execution_count": 12,
      "metadata": {
        "tags": [],
        "colab": {
          "base_uri": "https://localhost:8080/"
        },
        "outputId": "04dac256-7627-43e7-c0f5-4fef26339bd4",
        "id": "HQemkQhhQDG4"
      },
      "outputs": [
        {
          "output_type": "stream",
          "name": "stdout",
          "text": [
            "0 The reviewer highly recommends the Wahl contour trimmer for its ability to trim hair shorter than 1mm without causing baldness. They praise its power, precision, and quality, and believe it's worth the higher initial cost due to savings on barber costs. \n",
            "\n",
            "1 The reviewer is dissatisfied with the machine, criticizing the cheap quality of the attachments which are unstable and wobbly. \n",
            "\n",
            "2 The reviewer is dissatisfied with the product, citing poor build quality, ineffective cutting performance, and excessive vibration. They returned the product. \n",
            "\n",
            "3 The reviewer highly recommends the beard trimmer for its quality, battery life, and quiet operation, but criticizes the loose attachment. \n",
            "\n"
          ]
        }
      ],
      "source": [
        "for i in range(len(reviews_2)):\n",
        "    prompt = f\"\"\"\n",
        "    Your task is to generate a short summary of a product \\\n",
        "    review from an ecommerce site.\n",
        "\n",
        "    Summarize the review below, delimited by triple \\\n",
        "    backticks in at most 20 words.\n",
        "\n",
        "    Review: ```{reviews_2[i]}```\n",
        "    \"\"\"\n",
        "\n",
        "    response = get_completion(prompt)\n",
        "    print(i, response, \"\\n\")"
      ]
    },
    {
      "cell_type": "code",
      "source": [
        "for i in range(len(reviews_2)):\n",
        "    prompt = f\"\"\"\n",
        "    Your task is to generate a short summary of a product \\\n",
        "    review from an ecommerce site.\n",
        "\n",
        "    Summarize the review below, delimited by triple \\\n",
        "    backticks in at most 20 words. Keep the original language that the review was given.\n",
        "\n",
        "    Also, add an one word sentiment result if the review is poistive/neutral/neagtive. \\\n",
        "\n",
        "    You can return this in the form of:\n",
        "\n",
        "    Overall sentiment: <positive/neutral/negative>\n",
        "\n",
        "    Review: ```{reviews_2[i]}```\n",
        "    \"\"\"\n",
        "\n",
        "    response = get_completion(prompt)\n",
        "    print(i, response, \"\\n\")"
      ],
      "metadata": {
        "colab": {
          "base_uri": "https://localhost:8080/"
        },
        "id": "Dl2Dkzw4RHnJ",
        "outputId": "f46efd59-5cb8-4291-913e-54223d7c9c14"
      },
      "execution_count": 14,
      "outputs": [
        {
          "output_type": "stream",
          "name": "stdout",
          "text": [
            "0 Overall sentiment: Positive\n",
            "\n",
            "Review: The reviewer highly recommends the Wahl contour trimmer for its quality and power, appreciating its ability to trim hair shorter than 1mm. \n",
            "\n",
            "1 Overall sentiment: Negative\n",
            "\n",
            "Review: The reviewer found the machine poor quality, particularly the attachments, which they described as the cheapest they've seen. \n",
            "\n",
            "2 Overall sentiment: Negative\n",
            "\n",
            "Review: The reviewer criticizes the product's poor quality, loose attachments, and insufficient cutting performance, comparing it unfavorably to model 9818-116. \n",
            "\n",
            "3 Overall sentiment: Positive\n",
            "\n",
            "Review: The customer highly recommends the beard trimmer for its quality, quiet operation, and battery life, but criticizes the loose attachment. \n",
            "\n"
          ]
        }
      ]
    },
    {
      "cell_type": "code",
      "source": [
        "for i in range(len(reviews_2)):\n",
        "    prompt = f\"\"\"\n",
        "    Your task is to generate a short summary of a product \\\n",
        "    review from an ecommerce site.\n",
        "\n",
        "    Summarize the review below, delimited by triple \\\n",
        "    backticks in at most 20 words. Keep the original language that the review was given. Do NOT translate in English.\n",
        "\n",
        "    Also, add an one word sentiment result if the review is poistive/neutral/neagtive. \\\n",
        "\n",
        "    You can return this in the form of:\n",
        "\n",
        "    Overall sentiment: <positive/neutral/negative>\n",
        "\n",
        "    Review: ```{reviews_2[i]}```\n",
        "    \"\"\"\n",
        "\n",
        "    response = get_completion(prompt)\n",
        "    print(i, response, \"\\n\")"
      ],
      "metadata": {
        "colab": {
          "base_uri": "https://localhost:8080/"
        },
        "id": "H2uZ-Jo2Rhir",
        "outputId": "4847a0f9-64a4-4470-980c-54366a2c6a7f"
      },
      "execution_count": 15,
      "outputs": [
        {
          "output_type": "stream",
          "name": "stdout",
          "text": [
            "0 Overall sentiment: Positive\n",
            "\n",
            "Review: Der Kunde ist begeistert von dem Wahl Konturentrimmer, der eine präzise Rasur ermöglicht. Er lobt die Qualität und Leistung des Geräts und gibt eine klare Kaufempfehlung. \n",
            "\n",
            "1 Overall sentiment: Negative\n",
            "\n",
            "Review: Unzufrieden mit der Qualität der Maschine und der Aufsätze, die billig wirken und nicht gut halten. \n",
            "\n",
            "2 Overall sentiment: Negative\n",
            "\n",
            "Review: Unzufrieden mit der billigen Verarbeitung und unzureichenden Schneidleistung des Rasierers, verglichen mit dem 9818-116 Modell. Produkt zurückgeschickt. \n",
            "\n",
            "3 Overall sentiment: Positive\n",
            "\n",
            "Review: Der Kunde ist mit der Bartschneidemaschine sehr zufrieden, lobt die Qualität, Handlichkeit und Akkulaufzeit, kritisiert jedoch den lockeren Aufsatz. \n",
            "\n"
          ]
        }
      ]
    },
    {
      "cell_type": "markdown",
      "source": [
        "## Report summary\n",
        "\n",
        "The overall outcome of the given reviews was good, the LLM performed well in summarising the reviews and extract the sentiment of them.  \n",
        "\n",
        "The challenge was thought to keep the initial language in the results (German). The LLM first continued to return the results in English although instructed not to, untill it was explicitly mentioned to not translate the reviews."
      ],
      "metadata": {
        "id": "S_oAwf-ER-B_"
      }
    },
    {
      "cell_type": "code",
      "source": [],
      "metadata": {
        "id": "k01se9riSgjy"
      },
      "execution_count": null,
      "outputs": []
    }
  ],
  "metadata": {
    "kernelspec": {
      "display_name": "Python 3 (ipykernel)",
      "language": "python",
      "name": "python3"
    },
    "language_info": {
      "codemirror_mode": {
        "name": "ipython",
        "version": 3
      },
      "file_extension": ".py",
      "mimetype": "text/x-python",
      "name": "python",
      "nbconvert_exporter": "python",
      "pygments_lexer": "ipython3",
      "version": "3.11.8"
    },
    "colab": {
      "provenance": []
    }
  },
  "nbformat": 4,
  "nbformat_minor": 0
}