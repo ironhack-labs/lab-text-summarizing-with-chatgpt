{
 "cells": [
  {
   "cell_type": "markdown",
   "metadata": {},
   "source": [
    "# Text summarizing with ChaptGPT\n",
    "In this lesson, you will summarize text with a focus on specific topics.\n",
    "\n",
    "## Setup"
   ]
  },
  {
   "cell_type": "code",
   "execution_count": 21,
   "metadata": {
    "tags": []
   },
   "outputs": [],
   "source": [
    "from openai import OpenAI\n",
    "import os\n",
    "\n",
    "from dotenv import load_dotenv, find_dotenv\n",
    "_ = load_dotenv(find_dotenv()) # read local .env file\n",
    "\n",
    "OPENAI_API_KEY  = os.getenv('OPENAI_API_KEY')"
   ]
  },
  {
   "cell_type": "code",
   "execution_count": 22,
   "metadata": {
    "tags": []
   },
   "outputs": [],
   "source": [
    "client = OpenAI(\n",
    "    # This is the default and can be omitted\n",
    "    api_key=OPENAI_API_KEY,\n",
    ")\n",
    "\n",
    "\n",
    "def get_completion(prompt, model=\"gpt-3.5-turbo\"): # Andrew mentioned that the prompt/ completion paradigm is preferable for this class\n",
    "    messages = [{\"role\": \"user\", \"content\": prompt}]\n",
    "    response = client.chat.completions.create(\n",
    "        model=model,\n",
    "        messages=messages,\n",
    "        temperature=0, # this is the degree of randomness of the model's output\n",
    "    )\n",
    "    return response.choices[0].message.content\n"
   ]
  },
  {
   "cell_type": "markdown",
   "metadata": {},
   "source": [
    "## Text to summarize"
   ]
  },
  {
   "cell_type": "code",
   "execution_count": 23,
   "metadata": {
    "tags": []
   },
   "outputs": [],
   "source": [
    "prod_review = \"\"\"\n",
    "We were so happy everything was so good staff so helpful and extremely friendly.Restaurant was great,Hot chocolate was the best we have had for a long time.the room was amazing,location is great so central to walk to all the markets and lights.\n",
    "If we ever return to Budapest we will definitely stay in this hotel again both of us just loved it.\n",
    "\"\"\""
   ]
  },
  {
   "cell_type": "markdown",
   "metadata": {},
   "source": [
    "## Summarize with a word/sentence/character limit"
   ]
  },
  {
   "cell_type": "code",
   "execution_count": 24,
   "metadata": {
    "tags": []
   },
   "outputs": [
    {
     "name": "stdout",
     "output_type": "stream",
     "text": [
      "This review praises the hotel for its friendly staff, great restaurant, amazing room, and central location in Budapest. Highly recommended for future stays.\n"
     ]
    }
   ],
   "source": [
    "prompt = f\"\"\"\n",
    "Your task is to generate a short summary of a product \\\n",
    "review from an ecommerce site. \n",
    "\n",
    "Summarize the review below, delimited by triple \n",
    "backticks, in at most 30 words. \n",
    "\n",
    "Review: ```{prod_review}```\n",
    "\"\"\"\n",
    "\n",
    "response = get_completion(prompt)\n",
    "print(response)\n"
   ]
  },
  {
   "cell_type": "markdown",
   "metadata": {},
   "source": [
    "## Summarize with a focus on shipping and delivery"
   ]
  },
  {
   "cell_type": "code",
   "execution_count": 25,
   "metadata": {
    "tags": []
   },
   "outputs": [
    {
     "name": "stdout",
     "output_type": "stream",
     "text": [
      "The reviewer was pleased with the hotel's location, room, and staff. They mentioned the central location for walking to markets and lights.\n"
     ]
    }
   ],
   "source": [
    "prompt = f\"\"\"\n",
    "Your task is to generate a short summary of a product \\\n",
    "review from an ecommerce site to give feedback to the \\\n",
    "Shipping deparmtment. \n",
    "\n",
    "Summarize the review below, delimited by triple \n",
    "backticks, in at most 30 words, and focusing on any aspects \\\n",
    "that mention shipping and delivery of the product. \n",
    "\n",
    "Review: ```{prod_review}```\n",
    "\"\"\"\n",
    "\n",
    "response = get_completion(prompt)\n",
    "print(response)\n"
   ]
  },
  {
   "cell_type": "markdown",
   "metadata": {},
   "source": [
    "## Summarize with a focus on price and value"
   ]
  },
  {
   "cell_type": "code",
   "execution_count": 26,
   "metadata": {
    "tags": []
   },
   "outputs": [
    {
     "name": "stdout",
     "output_type": "stream",
     "text": [
      "The overall experience was exceptional with great staff, delicious hot chocolate, amazing room, and convenient location. The price was justified for the value received.\n"
     ]
    }
   ],
   "source": [
    "prompt = f\"\"\"\n",
    "Your task is to generate a short summary of a product \\\n",
    "review from an ecommerce site to give feedback to the \\\n",
    "pricing deparmtment, responsible for determining the \\\n",
    "price of the product.  \n",
    "\n",
    "Summarize the review below, delimited by triple \n",
    "backticks, in at most 30 words, and focusing on any aspects \\\n",
    "that are relevant to the price and perceived value. \n",
    "\n",
    "Review: ```{prod_review}```\n",
    "\"\"\"\n",
    "\n",
    "response = get_completion(prompt)\n",
    "print(response)\n"
   ]
  },
  {
   "cell_type": "markdown",
   "metadata": {},
   "source": [
    "#### Comment\n",
    "- Summaries include topics that are not related to the topic of focus."
   ]
  },
  {
   "cell_type": "markdown",
   "metadata": {},
   "source": [
    "## Try \"extract\" instead of \"summarize\""
   ]
  },
  {
   "cell_type": "code",
   "execution_count": 27,
   "metadata": {
    "tags": []
   },
   "outputs": [
    {
     "name": "stdout",
     "output_type": "stream",
     "text": [
      "No information on shipping and delivery was provided in the review.\n"
     ]
    }
   ],
   "source": [
    "prompt = f\"\"\"\n",
    "Your task is to extract relevant information from \n",
    "a hotel review from an booking site to give,\n",
    "feedback to the UX department. \n",
    "\n",
    "From the review below, delimited by triple quotes,\n",
    "extract the information relevant to shipping and \n",
    "delivery. Limit to 30 words. \n",
    "\n",
    "Review: ```{prod_review}```\n",
    "\"\"\"\n",
    "\n",
    "response = get_completion(prompt)\n",
    "print(response)"
   ]
  },
  {
   "cell_type": "markdown",
   "metadata": {},
   "source": [
    "## Summarize multiple product reviews"
   ]
  },
  {
   "cell_type": "code",
   "execution_count": 28,
   "metadata": {
    "tags": []
   },
   "outputs": [],
   "source": [
    "\n",
    "review_1 = prod_review \n",
    "\n",
    "# review for hotel \n",
    "review_2 = \"\"\"\n",
    "Daily cleaning was poor. Double attic room does not have a shower as advertised and the bed is up two very steep steps that most older people would not be able to accommodate. Bathroom has cottage spiders in all four corners. \n",
    "\"\"\"\n",
    "\n",
    "# review for hotel user 2\n",
    "review_3 = \"\"\"\n",
    "The room was meant to be deluxe, but was tired and badly need of refurbishment. There was no shower in the bathroom, with an old bath instead that sagged as soon as it took any type of weight - quite unsafe.\n",
    "The worst feature was the frosted glass between the bedroom and bathroom, which left nothing for the imagination- the unfrosted motifs unhelpfully at toilet seat level! Needless to say, not a room for a couple on their first trip away together!\n",
    "\"\"\"\n",
    "\n",
    "# review for hotel user 3\n",
    "review_4 = \"\"\"\n",
    "Gerlóczy Boutique Hotel far exceeded all our expectations. It's located super centrally - the Christmas markets were less than 10 minutes away by foot, it was central to many other restaurants, a 25 minute walk away from the river, and the airport bus for drop-off/ pick-up was just 2 minutes away, The room was cosy, warm, and beautifully decorated. The staff at reception were excellent and very helpful. We had dinner at the attached restaurant and the food was great!\n",
    "\"\"\"\n",
    "\n",
    "reviews = [review_1, review_2, review_3, review_4]"
   ]
  },
  {
   "cell_type": "code",
   "execution_count": 30,
   "metadata": {
    "tags": []
   },
   "outputs": [
    {
     "name": "stderr",
     "output_type": "stream",
     "text": [
      "<>:12: SyntaxWarning: invalid escape sequence '\\ '\n",
      "<>:12: SyntaxWarning: invalid escape sequence '\\ '\n",
      "/var/folders/ln/h2lpkllx5fl21m8307tnfsdc0000gn/T/ipykernel_16531/2934975574.py:12: SyntaxWarning: invalid escape sequence '\\ '\n",
      "  \"\"\"\n"
     ]
    },
    {
     "name": "stdout",
     "output_type": "stream",
     "text": [
      "0 Summary: Excellent hotel experience with friendly staff, great restaurant, and perfect location in Budapest.\n",
      "\n",
      "As a UX designer, we can improve the user experience by implementing a feature that allows guests to easily access information about nearby attractions and markets from the hotel's app or website. \n",
      "\n",
      "1 Summary: Poor daily cleaning, missing shower in double attic room, steep bed steps, and cottage spiders in bathroom corners.\n",
      "\n",
      "As a UX designer, we can improve this by ensuring accurate room descriptions and addressing cleanliness issues promptly. \n",
      "\n",
      "2 Summary: Disappointing deluxe room with outdated amenities and lack of privacy.\n",
      "\n",
      "As a UX designer, creating a more modern and functional bathroom layout with proper privacy features can improve this negative review. \n",
      "\n",
      "3 Summary: Gerlóczy Boutique Hotel exceeded expectations with central location, cozy room, helpful staff, and great food.\n",
      "\n",
      "As a UX designer, we can improve the user experience by implementing a feature that allows guests to easily access information about nearby attractions, restaurants, and transportation options directly through the hotel's website or app. \n",
      "\n"
     ]
    }
   ],
   "source": [
    "for i in range(len(reviews)):\n",
    "    prompt = f\"\"\"\n",
    "    Your task is to generate a short summary of a product \\ \n",
    "    review from an ecommerce site. \n",
    "\n",
    "    Summarize the review below, delimited by triple \\\n",
    "    backticks in at most 20 words. \n",
    "\n",
    "    An explain at thi end only with one sentence what type of feuture can we fix or create as ux designer for the users to dont have this problem anymore or improve this positive review or negative depending on the case.\n",
    "\n",
    "    Review: ```{reviews[i]}```\n",
    "    \"\"\"\n",
    "\n",
    "    response = get_completion(prompt)\n",
    "    print(i, response, \"\\n\")"
   ]
  },
  {
   "cell_type": "markdown",
   "metadata": {},
   "source": [
    "# Exercise\n",
    " - Complete the prompts similar to what we did in class. \n",
    "     - Try at least 3 versions\n",
    "     - Be creative\n",
    " - Write a one page report summarizing your findings.\n",
    "     - Were there variations that didn't work well? i.e., where GPT either hallucinated or wrong\n",
    " - What did you learn?"
   ]
  },
  {
   "cell_type": "markdown",
   "metadata": {},
   "source": [
    "I tested various types of summaries that ChatGPT can generate, as shown in the image in the file. Initially, I experimented with the exercise provided, summarizing e-commerce product descriptions from an online store. Then, I tried the same with Amazon product listings and finally with reviews for the hotel where we’ll stay during our vacation in Budapest. Across all these cases, the summaries were incredibly coherent and fit perfectly for the task.\n",
    "\n",
    "To explore further, I experimented with the extract prompt instead of summarize. For this, I requested summaries tailored to the UX design department at Booking.com. Interestingly, the output felt almost identical to the other summaries until I adjusted the prompt. I instructed the model to provide advice for UX design in sentence form, and the results were astonishing. The chatbot delivered concise, actionable tips for UX design, proving how versatile and powerful the summarization capabilities are when properly guided by a prompt.\n",
    "\n",
    "This exercise demonstrated that while different summary types (e.g., extract, summarize) may appear similar at first glance, their real power lies in how you define the prompt. Providing additional context or specific instructions, like asking for UX tips, can significantly influence the depth and utility of the output. The results were consistently impressive, showcasing ChatGPT's adaptability to different summarization needs."
   ]
  }
 ],
 "metadata": {
  "kernelspec": {
   "display_name": "base",
   "language": "python",
   "name": "python3"
  },
  "language_info": {
   "codemirror_mode": {
    "name": "ipython",
    "version": 3
   },
   "file_extension": ".py",
   "mimetype": "text/x-python",
   "name": "python",
   "nbconvert_exporter": "python",
   "pygments_lexer": "ipython3",
   "version": "3.12.4"
  }
 },
 "nbformat": 4,
 "nbformat_minor": 4
}
