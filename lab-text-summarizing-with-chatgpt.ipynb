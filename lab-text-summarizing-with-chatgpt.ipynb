{
 "cells": [
  {
   "cell_type": "markdown",
   "metadata": {},
   "source": [
    "# Text summarizing with ChaptGPT\n",
    "In this lesson, you will summarize text with a focus on specific topics.\n",
    "\n",
    "## Setup"
   ]
  },
  {
   "cell_type": "code",
   "execution_count": 1,
   "metadata": {
    "tags": []
   },
   "outputs": [],
   "source": [
    "from openai import OpenAI\n",
    "import os\n",
    "\n",
    "from dotenv import load_dotenv, find_dotenv\n",
    "_ = load_dotenv(find_dotenv()) # read local .env file\n",
    "\n",
    "OPENAI_API_KEY  = os.getenv('your_api_key')"
   ]
  },
  {
   "cell_type": "code",
   "execution_count": 5,
   "metadata": {
    "tags": []
   },
   "outputs": [],
   "source": [
    "client = OpenAI(\n",
    "    # This is the default and can be omitted\n",
    "    api_key=OPENAI_API_KEY,\n",
    ")\n",
    "\n",
    "\n",
    "def get_completion(prompt, model=\"gpt-3.5-turbo\"): # Andrew mentioned that the prompt/ completion paradigm is preferable for this class\n",
    "    messages = [{\"role\": \"user\", \"content\": prompt}]\n",
    "    response = client.chat.completions.create(\n",
    "        model=model,\n",
    "        messages=messages,\n",
    "        temperature=0.25, # this is the degree of randomness of the model's output\n",
    "    )\n",
    "    return response.choices[0].message.content\n"
   ]
  },
  {
   "cell_type": "markdown",
   "metadata": {},
   "source": [
    "## Text to summarize"
   ]
  },
  {
   "cell_type": "code",
   "execution_count": 6,
   "metadata": {
    "tags": []
   },
   "outputs": [],
   "source": [
    "prod_review = \"\"\"\n",
    "Got this panda plush toy for my daughter's birthday, \\\n",
    "who loves it and takes it everywhere. It's soft and \\ \n",
    "super cute, and its face has a friendly look. It's \\ \n",
    "a bit small for what I paid though. I think there \\ \n",
    "might be other options that are bigger for the \\ \n",
    "same price. It arrived a day earlier than expected, \\ \n",
    "so I got to play with it myself before I gave it \\ \n",
    "to her.\n",
    "\"\"\""
   ]
  },
  {
   "cell_type": "markdown",
   "metadata": {},
   "source": [
    "## Summarize with a word/sentence/character limit"
   ]
  },
  {
   "cell_type": "code",
   "execution_count": 7,
   "metadata": {
    "tags": []
   },
   "outputs": [
    {
     "name": "stdout",
     "output_type": "stream",
     "text": [
      "Summary: \n",
      "Soft and cute panda plush toy loved by daughter, but small for price. Arrived early, giving chance to enjoy before gifting.\n"
     ]
    }
   ],
   "source": [
    "prompt = f\"\"\"\n",
    "Your task is to generate a short summary of a product \\\n",
    "review from an ecommerce site. \n",
    "\n",
    "Summarize the review below, delimited by triple \n",
    "backticks, in at most 30 words. \n",
    "\n",
    "Review: ```{prod_review}```\n",
    "\"\"\"\n",
    "\n",
    "response = get_completion(prompt)\n",
    "print(response)\n"
   ]
  },
  {
   "cell_type": "markdown",
   "metadata": {},
   "source": [
    "## Summarize with a focus on shipping and delivery"
   ]
  },
  {
   "cell_type": "code",
   "execution_count": 8,
   "metadata": {
    "tags": []
   },
   "outputs": [
    {
     "name": "stdout",
     "output_type": "stream",
     "text": [
      "The customer loved the panda plush toy, finding it soft and cute. However, they felt it was a bit small for the price paid. Shipping was faster than expected.\n"
     ]
    }
   ],
   "source": [
    "prompt = f\"\"\"\n",
    "Your task is to generate a short summary of a product \\\n",
    "review from an ecommerce site to give feedback to the \\\n",
    "Shipping deparmtment. \n",
    "\n",
    "Summarize the review below, delimited by triple \n",
    "backticks, in at most 30 words, and focusing on any aspects \\\n",
    "that mention shipping and delivery of the product. \n",
    "\n",
    "Review: ```{prod_review}```\n",
    "\"\"\"\n",
    "\n",
    "response = get_completion(prompt)\n",
    "print(response)\n"
   ]
  },
  {
   "cell_type": "markdown",
   "metadata": {},
   "source": [
    "## Summarize with a focus on price and value"
   ]
  },
  {
   "cell_type": "code",
   "execution_count": 9,
   "metadata": {
    "tags": []
   },
   "outputs": [
    {
     "name": "stdout",
     "output_type": "stream",
     "text": [
      "The panda plush toy is loved for its softness and cuteness, but some customers feel it's a bit small for the price.\n"
     ]
    }
   ],
   "source": [
    "prompt = f\"\"\"\n",
    "Your task is to generate a short summary of a product \\\n",
    "review from an ecommerce site to give feedback to the \\\n",
    "pricing deparmtment, responsible for determining the \\\n",
    "price of the product.  \n",
    "\n",
    "Summarize the review below, delimited by triple \n",
    "backticks, in at most 30 words, and focusing on any aspects \\\n",
    "that are relevant to the price and perceived value. \n",
    "\n",
    "Review: ```{prod_review}```\n",
    "\"\"\"\n",
    "\n",
    "response = get_completion(prompt)\n",
    "print(response)\n"
   ]
  },
  {
   "cell_type": "markdown",
   "metadata": {},
   "source": [
    "#### Comment\n",
    "- Summaries include topics that are not related to the topic of focus."
   ]
  },
  {
   "cell_type": "markdown",
   "metadata": {},
   "source": [
    "## Try \"extract\" instead of \"summarize\""
   ]
  },
  {
   "cell_type": "code",
   "execution_count": 10,
   "metadata": {
    "tags": []
   },
   "outputs": [
    {
     "name": "stdout",
     "output_type": "stream",
     "text": [
      "Feedback: The product arrived a day earlier than expected, which was a pleasant surprise. Consider offering larger options for the same price to improve customer satisfaction.\n"
     ]
    }
   ],
   "source": [
    "prompt = f\"\"\"\n",
    "Your task is to extract relevant information from \\ \n",
    "a product review from an ecommerce site to give \\\n",
    "feedback to the Shipping department. \n",
    "\n",
    "From the review below, delimited by triple quotes \\\n",
    "extract the information relevant to shipping and \\ \n",
    "delivery. Limit to 30 words. \n",
    "\n",
    "Review: ```{prod_review}```\n",
    "\"\"\"\n",
    "\n",
    "response = get_completion(prompt)\n",
    "print(response)"
   ]
  },
  {
   "cell_type": "markdown",
   "metadata": {},
   "source": [
    "## Summarize multiple product reviews"
   ]
  },
  {
   "cell_type": "code",
   "execution_count": 11,
   "metadata": {
    "tags": []
   },
   "outputs": [],
   "source": [
    "\n",
    "review_1 = prod_review \n",
    "\n",
    "# review for a standing lamp\n",
    "review_2 = \"\"\"\n",
    "Needed a nice lamp for my bedroom, and this one \\\n",
    "had additional storage and not too high of a price \\\n",
    "point. Got it fast - arrived in 2 days. The string \\\n",
    "to the lamp broke during the transit and the company \\\n",
    "happily sent over a new one. Came within a few days \\\n",
    "as well. It was easy to put together. Then I had a \\\n",
    "missing part, so I contacted their support and they \\\n",
    "very quickly got me the missing piece! Seems to me \\\n",
    "to be a great company that cares about their customers \\\n",
    "and products. \n",
    "\"\"\"\n",
    "\n",
    "# review for an electric toothbrush\n",
    "review_3 = \"\"\"\n",
    "My dental hygienist recommended an electric toothbrush, \\\n",
    "which is why I got this. The battery life seems to be \\\n",
    "pretty impressive so far. After initial charging and \\\n",
    "leaving the charger plugged in for the first week to \\\n",
    "condition the battery, I've unplugged the charger and \\\n",
    "been using it for twice daily brushing for the last \\\n",
    "3 weeks all on the same charge. But the toothbrush head \\\n",
    "is too small. I’ve seen baby toothbrushes bigger than \\\n",
    "this one. I wish the head was bigger with different \\\n",
    "length bristles to get between teeth better because \\\n",
    "this one doesn’t.  Overall if you can get this one \\\n",
    "around the $50 mark, it's a good deal. The manufactuer's \\\n",
    "replacements heads are pretty expensive, but you can \\\n",
    "get generic ones that're more reasonably priced. This \\\n",
    "toothbrush makes me feel like I've been to the dentist \\\n",
    "every day. My teeth feel sparkly clean! \n",
    "\"\"\"\n",
    "\n",
    "# review for a blender\n",
    "review_4 = \"\"\"\n",
    "So, they still had the 17 piece system on seasonal \\\n",
    "sale for around $49 in the month of November, about \\\n",
    "half off, but for some reason (call it price gouging) \\\n",
    "around the second week of December the prices all went \\\n",
    "up to about anywhere from between $70-$89 for the same \\\n",
    "system. And the 11 piece system went up around $10 or \\\n",
    "so in price also from the earlier sale price of $29. \\\n",
    "So it looks okay, but if you look at the base, the part \\\n",
    "where the blade locks into place doesn’t look as good \\\n",
    "as in previous editions from a few years ago, but I \\\n",
    "plan to be very gentle with it (example, I crush \\\n",
    "very hard items like beans, ice, rice, etc. in the \\ \n",
    "blender first then pulverize them in the serving size \\\n",
    "I want in the blender then switch to the whipping \\\n",
    "blade for a finer flour, and use the cross cutting blade \\\n",
    "first when making smoothies, then use the flat blade \\\n",
    "if I need them finer/less pulpy). Special tip when making \\\n",
    "smoothies, finely cut and freeze the fruits and \\\n",
    "vegetables (if using spinach-lightly stew soften the \\ \n",
    "spinach then freeze until ready for use-and if making \\\n",
    "sorbet, use a small to medium sized food processor) \\ \n",
    "that you plan to use that way you can avoid adding so \\\n",
    "much ice if at all-when making your smoothie. \\\n",
    "After about a year, the motor was making a funny noise. \\\n",
    "I called customer service but the warranty expired \\\n",
    "already, so I had to buy another one. FYI: The overall \\\n",
    "quality has gone done in these types of products, so \\\n",
    "they are kind of counting on brand recognition and \\\n",
    "consumer loyalty to maintain sales. Got it in about \\\n",
    "two days.\n",
    "\"\"\"\n",
    "\n",
    "reviews = [review_1, review_2, review_3, review_4]"
   ]
  },
  {
   "cell_type": "code",
   "execution_count": 14,
   "metadata": {
    "tags": []
   },
   "outputs": [
    {
     "name": "stdout",
     "output_type": "stream",
     "text": [
      "0 Summary: \n",
      "Adorable panda plush toy loved by daughter, soft and cute with friendly face. Smaller than expected for the price, but arrived early. \n",
      "\n",
      "1 Summary: \n",
      "Affordable lamp with storage, fast delivery. String broke during transit, but company promptly sent replacement. Easy assembly, missing part quickly resolved. Great customer service and quality product. \n",
      "\n",
      "2 Impressive battery life, small toothbrush head, good deal for $50, expensive replacement heads, makes teeth feel clean like a dentist visit. \n",
      "\n",
      "3 Summary: The product was initially on sale for a good price, but prices increased later. Quality seems to have declined, with motor issues after a year. Customer service was unhelpful. Brand relies on loyalty. Delivery was quick. \n",
      "\n"
     ]
    }
   ],
   "source": [
    "for i in range(len(reviews)):\n",
    "    prompt = f\"\"\"\n",
    "    Your task is to generate a short summary of a product \\ \n",
    "    review from an ecommerce site. \n",
    "\n",
    "    Summarize the review below, delimited by triple \\\n",
    "    backticks in at most 40 words. \n",
    "\n",
    "    Review: ```{reviews[i]}```\n",
    "    \"\"\"\n",
    "\n",
    "    response = get_completion(prompt)\n",
    "    print(i, response, \"\\n\")"
   ]
  },
  {
   "cell_type": "markdown",
   "metadata": {},
   "source": [
    "# Exercise\n",
    " - Complete the prompts similar to what we did in class. \n",
    "     - Try at least 3 versions\n",
    "     - Be creative\n",
    " - Write a one page report summarizing your findings.\n",
    "     - Were there variations that didn't work well? i.e., where GPT either hallucinated or wrong\n",
    " - What did you learn?"
   ]
  },
  {
   "cell_type": "markdown",
   "metadata": {},
   "source": [
    "## Fisrt Test - Customer Sentiment"
   ]
  },
  {
   "cell_type": "code",
   "execution_count": 20,
   "metadata": {},
   "outputs": [
    {
     "name": "stdout",
     "output_type": "stream",
     "text": [
      "Sentiment Analysis Summary:\n",
      "0 )  The reviewer feels happy and pleased with the panda plush toy, appreciating its softness and cuteness. However, they express disappointment at its size for the price paid. Overall satisfaction level: 4/5. /n\n",
      "Sentiment Analysis Summary:\n",
      "1 )  The reviewer's emotional reaction is positive overall, with key positive feelings being love for the plush toy's cuteness and softness. However, there is a negative feeling about the size not matching the price. Overall satisfaction level is 4 out of 5. /n\n",
      "Sentiment Analysis Summary:\n",
      "2 )  The reviewer is happy with the panda plush toy, finding it soft and cute. They express slight disappointment in its size for the price paid but appreciate the early delivery. Overall satisfaction level: 4. /n\n",
      "Sentiment Analysis Summary:\n",
      "3 )  The reviewer is happy with the panda plush toy, finding it soft and cute. They express slight disappointment in its size for the price paid. Overall satisfaction level is 4 out of 5. /n\n"
     ]
    }
   ],
   "source": [
    "for i in range(len(reviews)):\n",
    "    prompt = f\"\"\"\n",
    "    Your task is to analyze the sentiment and emotional response in a product review.\n",
    "    For the review below, provide a summary that focuses on:\n",
    "    1. The reviewer's emotional reaction\n",
    "    2. Key positive and negative feelings\n",
    "    3. Overall satisfaction level (rate 1-5)\n",
    "    Limit to 50 words.\n",
    "\n",
    "    Review: ```{reviews[0]}```\n",
    "    \"\"\"\n",
    "\n",
    "    response = get_completion(prompt)\n",
    "    print(\"Sentiment Analysis Summary:\")\n",
    "    print(i,\") \",response,\"/n\")"
   ]
  },
  {
   "cell_type": "markdown",
   "metadata": {},
   "source": [
    "## Second Test - Product Pros and Cons"
   ]
  },
  {
   "cell_type": "code",
   "execution_count": 22,
   "metadata": {},
   "outputs": [
    {
     "name": "stdout",
     "output_type": "stream",
     "text": [
      "\n",
      "Pros/Cons Analysis:\n",
      "0 )  **Top 3 Pros:**\n",
      "- ✓ Additional storage feature\n",
      "- ✓ Fast delivery (2 days)\n",
      "- ✓ Excellent customer support\n",
      "\n",
      "**Top 3 Cons:**\n",
      "- ✗ String to the lamp broke during transit\n",
      "- ✗ Missing part upon assembly\n",
      "- ✗ Quality control issues\n",
      "\n",
      "**Verdict:** Overall, despite some quality control issues, this lamp stands out for its additional storage, fast delivery, and exceptional customer support, making it a good choice for those looking for a functional and reliable lighting solution. /n\n",
      "\n",
      "Pros/Cons Analysis:\n",
      "1 )  - Pros:\n",
      "    ✓ Additional storage feature\n",
      "    ✓ Reasonable price point\n",
      "    ✓ Excellent customer service\n",
      "\n",
      "- Cons:\n",
      "    ✗ String to lamp broke during transit\n",
      "    ✗ Missing part initially\n",
      "    ✗ \n",
      "\n",
      "- Verdict: Despite some initial issues with transit and missing parts, the lamp offers additional storage, a reasonable price, and excellent customer service, making it a great choice for those looking for a functional and customer-focused product. /n\n",
      "\n",
      "Pros/Cons Analysis:\n",
      "2 )  **Top 3 Pros:**\n",
      "- ✓ Additional storage feature\n",
      "- ✓ Fast delivery (2 days)\n",
      "- ✓ Excellent customer support\n",
      "\n",
      "**Top 3 Cons:**\n",
      "- ✗ String to the lamp broke during transit\n",
      "- ✗ Missing part initially\n",
      "- ✗ \n",
      "\n",
      "**Verdict:** Despite some initial issues with transit and missing parts, the lamp offers additional storage, fast delivery, and excellent customer support, making it a worthwhile purchase from a company that cares about their customers. /n\n",
      "\n",
      "Pros/Cons Analysis:\n",
      "3 )  **Top 3 Pros**\n",
      "- ✓ Additional storage feature\n",
      "- ✓ Fast delivery (2 days)\n",
      "- ✓ Excellent customer support\n",
      "\n",
      "**Top 3 Cons**\n",
      "- ✗ String to the lamp broke during transit\n",
      "- ✗ Missing part upon assembly\n",
      "- ✗ Quality control issues\n",
      "\n",
      "Verdict: Despite some quality control issues, the lamp offers additional storage, fast delivery, and exceptional customer support, making it a good choice for those looking for a functional and reliable option. /n\n"
     ]
    }
   ],
   "source": [
    "for i in range(len(reviews)):\n",
    "    prompt = f\"\"\"\n",
    "    Your task is to extract specific pros and cons from a product review.\n",
    "    For the review below, create a structured summary with:\n",
    "    - Top 3 Pros (with ✓ bullet points)\n",
    "    - Top 3 Cons (with ✗ bullet points)\n",
    "    - A one-line verdict\n",
    "\n",
    "    Review: ```{reviews[1]}```\n",
    "    \"\"\"\n",
    "\n",
    "    response = get_completion(prompt)\n",
    "    print(\"\\nPros/Cons Analysis:\")\n",
    "    print(i,\") \",response,\"/n\")"
   ]
  },
  {
   "cell_type": "markdown",
   "metadata": {},
   "source": [
    "## Third Test"
   ]
  },
  {
   "cell_type": "code",
   "execution_count": 24,
   "metadata": {},
   "outputs": [
    {
     "name": "stdout",
     "output_type": "stream",
     "text": [
      "==================================================\n",
      "Technical and Value Analysis\n",
      "==================================================\n",
      "\n",
      "Comparing Products 1 & 2:\n",
      "1. Technical specifications and features:\n",
      "   - Review 1: The review talks about a panda plush toy, mentioning that it is soft, cute, and has a friendly look. However, no specific technical specifications or features are mentioned.\n",
      "   - Review 2: The review mentions a lamp with additional storage, a fast delivery time of 2 days, and the company's responsiveness in sending replacement parts. This indicates that the lamp has additional features such as storage and a string for turning it on/off.\n",
      "\n",
      "2. Price-to-value ratio:\n",
      "   - Review 1: The reviewer mentions that the panda plush toy is a bit small for the price paid, indicating a potential lower value for the price.\n",
      "   - Review 2: The reviewer mentions that the lamp has a reasonable price point and that the company provided good customer service by sending replacement parts quickly. This suggests a higher value for the price paid.\n",
      "\n",
      "3. Durability and quality concerns:\n",
      "   - Review 1: The reviewer does not mention any durability or quality concerns about the panda plush toy.\n",
      "   - Review 2: The reviewer mentions that the string to the lamp broke during transit, indicating a potential durability issue. However, the company's quick response in sending a replacement part suggests a commitment to quality.\n",
      "\n",
      "4. Usage experience:\n",
      "   - Review 1: The reviewer's daughter loves the panda plush toy and takes it everywhere, indicating a positive usage experience. The reviewer also enjoyed playing with it before giving it to their daughter.\n",
      "   - Review 2: The reviewer needed a lamp for their bedroom and found the lamp easy to put together. Despite some issues with the lamp, the reviewer appreciated the company's quick response and customer service, suggesting an overall positive usage experience.\n",
      "\n",
      "In conclusion, Review 2 provides more detailed information about the product's features, delivery time, and customer service, indicating a higher value for the price paid. Review 1, on the other hand, lacks specific technical details but highlights a positive usage experience with the panda plush toy. Both reviews mention some issues with the products, but Review 2 shows that the company is responsive and cares about its customers, potentially making it a more reliable option.\n",
      "------------------------------\n",
      "\n",
      "Comparing Products 3 & 4:\n",
      "1. Technical specifications and features:\n",
      "Review 1 talks about an electric toothbrush with impressive battery life, but the user finds the toothbrush head too small. They mention the availability of generic replacement heads at a more reasonable price. Review 2 discusses a 17 piece system that went on sale for $49 but later increased in price to $70-$89. The user mentions concerns about the quality of the base where the blade locks into place and mentions using the system for blending and pulverizing various items.\n",
      "\n",
      "2. Price-to-value ratio:\n",
      "Review 1 mentions that if the electric toothbrush can be found around the $50 mark, it's a good deal. They also note that the manufacturer's replacement heads are expensive, but generic ones are more reasonably priced. Review 2 talks about the system being on sale for $49 but later increasing in price to $70-$89. The user also mentions that the overall quality of the product has decreased over time.\n",
      "\n",
      "3. Durability and quality concerns:\n",
      "Review 1 does not mention any durability or quality concerns with the electric toothbrush. Review 2, however, mentions that after about a year, the motor of the system started making a funny noise, and the user had to buy another one as the warranty had expired. The user also notes that the overall quality of the product has decreased over time.\n",
      "\n",
      "4. Usage experience:\n",
      "Review 1 mentions that the electric toothbrush makes their teeth feel sparkly clean and gives them a dentist-like feeling every day. Review 2 talks about using the system for various blending and pulverizing tasks and provides tips for making smoothies. The user also mentions that they had to buy another system after the motor started making a funny noise.\n",
      "\n",
      "Overall, Review 1 seems to be more positive about the product they reviewed, with the main concern being the size of the toothbrush head. Review 2, on the other hand, has more concerns about the price increase, quality decrease, and durability issues with the product they reviewed.\n",
      "------------------------------\n"
     ]
    }
   ],
   "source": [
    "print(\"=\"*50)\n",
    "print(\"Technical and Value Analysis\")\n",
    "print(\"=\"*50)\n",
    "\n",
    "for i in range(0, len(reviews), 2):  # Process reviews in pairs\n",
    "    prompt = f\"\"\"\n",
    "    Your task is to perform a comparative technical analysis of two product reviews.\n",
    "    Compare and analyze the following aspects:\n",
    "    1. Technical specifications and features\n",
    "    2. Price-to-value ratio\n",
    "    3. Durability and quality concerns\n",
    "    4. Usage experience\n",
    "    \n",
    "    Review 1: ```{reviews[i]}```\n",
    "    Review 2: ```{reviews[i+1] if i+1 < len(reviews) else reviews[i]}```\n",
    "    \"\"\"\n",
    "    \n",
    "    response = get_completion(prompt)\n",
    "    print(f\"\\nComparing Products {i+1} & {i+2}:\")\n",
    "    print(response)\n",
    "    print(\"-\"*30)"
   ]
  },
  {
   "cell_type": "markdown",
   "metadata": {},
   "source": [
    "## Summary of Findings\n",
    "\n",
    "### Analysis of Different Summarization Approaches\n",
    "\n",
    "1. Customer Sentiment Analysis (First Test):\n",
    "   - Effectively captured emotional responses\n",
    "   - Provided clear satisfaction ratings\n",
    "   - Helped understand customer experience\n",
    "   - No hallucinations observed\n",
    "   - Very reliable for understanding customer feelings\n",
    "\n",
    "2. Pros/Cons Analysis (Second Test):\n",
    "   - Structured format made information easy to digest\n",
    "   - Sometimes struggled to find 3 cons when product was good\n",
    "   - Verdict section provided good overall context\n",
    "   - Occasionally repeated information\n",
    "   - Most practical for quick decision making\n",
    "\n",
    "3. Technical Comparative Analysis (Third Test):\n",
    "   - Good at identifying specific features\n",
    "   - Successfully compared similar products\n",
    "   - Helped understand value propositions\n",
    "   - Sometimes included too much detail\n",
    "   - Best for in-depth product understanding\n",
    "\n",
    "### Key Learnings:\n",
    "1. Different prompt structures yield very different types of insights\n",
    "2. More specific prompts (like pros/cons) give more structured responses\n",
    "3. Temperature setting of 0.25 provided good balance of creativity and consistency\n",
    "4. Extraction-based prompts were more precise than general summarization\n",
    "5. Comparative analysis works better with related products than unrelated ones"
   ]
  }
 ],
 "metadata": {
  "kernelspec": {
   "display_name": "Python 3 (ipykernel)",
   "language": "python",
   "name": "python3"
  },
  "language_info": {
   "codemirror_mode": {
    "name": "ipython",
    "version": 3
   },
   "file_extension": ".py",
   "mimetype": "text/x-python",
   "name": "python",
   "nbconvert_exporter": "python",
   "pygments_lexer": "ipython3",
   "version": "3.9.18"
  }
 },
 "nbformat": 4,
 "nbformat_minor": 4
}
