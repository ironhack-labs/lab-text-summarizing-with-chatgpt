{
 "cells": [
  {
   "cell_type": "markdown",
   "metadata": {},
   "source": [
    "# Text summarizing with ChaptGPT\n",
    "In this lesson, you will summarize text with a focus on specific topics.\n",
    "\n",
    "## Setup"
   ]
  },
  {
   "cell_type": "code",
   "execution_count": 1,
   "metadata": {
    "tags": []
   },
   "outputs": [],
   "source": [
    "from openai import OpenAI\n",
    "import os\n",
    "\n",
    "from dotenv import load_dotenv, find_dotenv\n",
    "_ = load_dotenv(find_dotenv()) # read local .env file\n",
    "\n",
    "OPENAI_API_KEY  = os.getenv('OPENAI_API_KEY')"
   ]
  },
  {
   "cell_type": "code",
   "execution_count": 16,
   "metadata": {
    "tags": []
   },
   "outputs": [],
   "source": [
    "client = OpenAI(\n",
    "    # This is the default and can be omitted\n",
    "    api_key=OPENAI_API_KEY,\n",
    ")\n",
    "\n",
    "\n",
    "def get_completion(prompt, model=\"gpt-3.5-turbo\"): # Andrew mentioned that the prompt/ completion paradigm is preferable for this class\n",
    "    messages = [{\"role\": \"user\", \"content\": prompt}]\n",
    "    response = client.chat.completions.create(\n",
    "        model=model,\n",
    "        messages=messages,\n",
    "        temperature=1.5, # this is the degree of randomness of the model's output\n",
    "    )\n",
    "    return response.choices[0].message.content\n"
   ]
  },
  {
   "cell_type": "markdown",
   "metadata": {},
   "source": [
    "## Text to summarize"
   ]
  },
  {
   "cell_type": "code",
   "execution_count": 3,
   "metadata": {
    "tags": []
   },
   "outputs": [],
   "source": [
    "prod_review = \"\"\"\n",
    "Got this panda plush toy for my daughter's birthday, \\\n",
    "who loves it and takes it everywhere. It's soft and \\ \n",
    "super cute, and its face has a friendly look. It's \\ \n",
    "a bit small for what I paid though. I think there \\ \n",
    "might be other options that are bigger for the \\ \n",
    "same price. It arrived a day earlier than expected, \\ \n",
    "so I got to play with it myself before I gave it \\ \n",
    "to her.\n",
    "\"\"\""
   ]
  },
  {
   "cell_type": "markdown",
   "metadata": {},
   "source": [
    "## Summarize with a word/sentence/character limit"
   ]
  },
  {
   "cell_type": "code",
   "execution_count": 4,
   "metadata": {
    "tags": []
   },
   "outputs": [
    {
     "name": "stdout",
     "output_type": "stream",
     "text": [
      "Soft, cute panda plush loved by daughter, but smaller than expected for the price. Arrived early, friendly face.\n"
     ]
    }
   ],
   "source": [
    "prompt = f\"\"\"\n",
    "Your task is to generate a short summary of a product \\\n",
    "review from an ecommerce site. \n",
    "\n",
    "Summarize the review below, delimited by triple \n",
    "backticks, in at most 30 words. \n",
    "\n",
    "Review: ```{prod_review}```\n",
    "\"\"\"\n",
    "\n",
    "response = get_completion(prompt)\n",
    "print(response)\n"
   ]
  },
  {
   "cell_type": "markdown",
   "metadata": {},
   "source": [
    "## Summarize with a focus on shipping and delivery"
   ]
  },
  {
   "cell_type": "code",
   "execution_count": 41,
   "metadata": {
    "tags": []
   },
   "outputs": [
    {
     "name": "stdout",
     "output_type": "stream",
     "text": [
      "The customer loved the panda plush toy for their daughter's birthday, but felt it was a bit small for the price. However, they were pleasantly surprised by the early delivery.\n"
     ]
    }
   ],
   "source": [
    "prompt = f\"\"\"\n",
    "Your task is to generate a short summary of a product \\\n",
    "review from an ecommerce site to give feedback to the \\\n",
    "Shipping deparmtment. \n",
    "\n",
    "Summarize the review below, delimited by triple \n",
    "backticks, in at most 30 words, and focusing on any aspects \\\n",
    "that mention shipping and delivery of the product. \n",
    "\n",
    "Review: ```{prod_review}```\n",
    "\"\"\"\n",
    "\n",
    "response = get_completion(prompt)\n",
    "print(response)\n"
   ]
  },
  {
   "cell_type": "markdown",
   "metadata": {},
   "source": [
    "## Summarize with a focus on price and value"
   ]
  },
  {
   "cell_type": "code",
   "execution_count": 43,
   "metadata": {
    "tags": []
   },
   "outputs": [
    {
     "name": "stdout",
     "output_type": "stream",
     "text": [
      "The panda plush toy is loved for its softness and cuteness, but some customers feel it's a bit small for the price.\n"
     ]
    }
   ],
   "source": [
    "prompt = f\"\"\"\n",
    "Your task is to generate a short summary of a product \\\n",
    "review from an ecommerce site to give feedback to the \\\n",
    "pricing deparmtment, responsible for determining the \\\n",
    "price of the product.  \n",
    "\n",
    "Summarize the review below, delimited by triple \n",
    "backticks, in at most 30 words, and focusing on any aspects \\\n",
    "that are relevant to the price and perceived value. \n",
    "\n",
    "Review: ```{prod_review}```\n",
    "\"\"\"\n",
    "\n",
    "response = get_completion(prompt)\n",
    "print(response)\n"
   ]
  },
  {
   "cell_type": "markdown",
   "metadata": {},
   "source": [
    "#### Comment\n",
    "- Summaries include topics that are not related to the topic of focus."
   ]
  },
  {
   "cell_type": "markdown",
   "metadata": {},
   "source": [
    "## Try \"extract\" instead of \"summarize\""
   ]
  },
  {
   "cell_type": "code",
   "execution_count": 48,
   "metadata": {
    "tags": []
   },
   "outputs": [
    {
     "name": "stdout",
     "output_type": "stream",
     "text": [
      "Feedback: The shipping was faster than expected, arriving a day early. Customer suggests offering larger options for the same price.\n"
     ]
    }
   ],
   "source": [
    "prompt = f\"\"\"\n",
    "Your task is to extract relevant information from \\ \n",
    "a product review from an ecommerce site to give \\\n",
    "feedback to the Shipping department. \n",
    "\n",
    "From the review below, delimited by triple quotes \\\n",
    "extract the information relevant to shipping and \\ \n",
    "delivery. Limit to 30 words. \n",
    "\n",
    "Review: ```{prod_review}```\n",
    "\"\"\"\n",
    "\n",
    "response = get_completion(prompt)\n",
    "print(response)"
   ]
  },
  {
   "cell_type": "markdown",
   "metadata": {},
   "source": [
    "## Summarize multiple product reviews"
   ]
  },
  {
   "cell_type": "code",
   "execution_count": 51,
   "metadata": {
    "tags": []
   },
   "outputs": [],
   "source": [
    "\n",
    "review_1 = prod_review \n",
    "\n",
    "# review for a standing lamp\n",
    "review_2 = \"\"\"\n",
    "Needed a nice lamp for my bedroom, and this one \\\n",
    "had additional storage and not too high of a price \\\n",
    "point. Got it fast - arrived in 2 days. The string \\\n",
    "to the lamp broke during the transit and the company \\\n",
    "happily sent over a new one. Came within a few days \\\n",
    "as well. It was easy to put together. Then I had a \\\n",
    "missing part, so I contacted their support and they \\\n",
    "very quickly got me the missing piece! Seems to me \\\n",
    "to be a great company that cares about their customers \\\n",
    "and products. \n",
    "\"\"\"\n",
    "\n",
    "# review for an electric toothbrush\n",
    "review_3 = \"\"\"\n",
    "My dental hygienist recommended an electric toothbrush, \\\n",
    "which is why I got this. The battery life seems to be \\\n",
    "pretty impressive so far. After initial charging and \\\n",
    "leaving the charger plugged in for the first week to \\\n",
    "condition the battery, I've unplugged the charger and \\\n",
    "been using it for twice daily brushing for the last \\\n",
    "3 weeks all on the same charge. But the toothbrush head \\\n",
    "is too small. I’ve seen baby toothbrushes bigger than \\\n",
    "this one. I wish the head was bigger with different \\\n",
    "length bristles to get between teeth better because \\\n",
    "this one doesn’t.  Overall if you can get this one \\\n",
    "around the $50 mark, it's a good deal. The manufactuer's \\\n",
    "replacements heads are pretty expensive, but you can \\\n",
    "get generic ones that're more reasonably priced. This \\\n",
    "toothbrush makes me feel like I've been to the dentist \\\n",
    "every day. My teeth feel sparkly clean! \n",
    "\"\"\"\n",
    "\n",
    "# review for a blender\n",
    "review_4 = \"\"\"\n",
    "So, they still had the 17 piece system on seasonal \\\n",
    "sale for around $49 in the month of November, about \\\n",
    "half off, but for some reason (call it price gouging) \\\n",
    "around the second week of December the prices all went \\\n",
    "up to about anywhere from between $70-$89 for the same \\\n",
    "system. And the 11 piece system went up around $10 or \\\n",
    "so in price also from the earlier sale price of $29. \\\n",
    "So it looks okay, but if you look at the base, the part \\\n",
    "where the blade locks into place doesn’t look as good \\\n",
    "as in previous editions from a few years ago, but I \\\n",
    "plan to be very gentle with it (example, I crush \\\n",
    "very hard items like beans, ice, rice, etc. in the \\ \n",
    "blender first then pulverize them in the serving size \\\n",
    "I want in the blender then switch to the whipping \\\n",
    "blade for a finer flour, and use the cross cutting blade \\\n",
    "first when making smoothies, then use the flat blade \\\n",
    "if I need them finer/less pulpy). Special tip when making \\\n",
    "smoothies, finely cut and freeze the fruits and \\\n",
    "vegetables (if using spinach-lightly stew soften the \\ \n",
    "spinach then freeze until ready for use-and if making \\\n",
    "sorbet, use a small to medium sized food processor) \\ \n",
    "that you plan to use that way you can avoid adding so \\\n",
    "much ice if at all-when making your smoothie. \\\n",
    "After about a year, the motor was making a funny noise. \\\n",
    "I called customer service but the warranty expired \\\n",
    "already, so I had to buy another one. FYI: The overall \\\n",
    "quality has gone done in these types of products, so \\\n",
    "they are kind of counting on brand recognition and \\\n",
    "consumer loyalty to maintain sales. Got it in about \\\n",
    "two days.\n",
    "\"\"\"\n",
    "\n",
    "reviews = [review_1, review_2, review_3, review_4]"
   ]
  },
  {
   "cell_type": "code",
   "execution_count": 53,
   "metadata": {
    "tags": []
   },
   "outputs": [
    {
     "name": "stdout",
     "output_type": "stream",
     "text": [
      "0 Summary: \n",
      "Adorable panda plush loved by daughter, but small for price. Arrived early, soft and cute. \n",
      "\n",
      "1 Great lamp with storage, fast delivery, excellent customer service for missing parts. Easy to assemble. \n",
      "\n",
      "2 Impressive battery life, small brush head, good deal for $50, generic replacement heads available, leaves teeth feeling clean. \n",
      "\n",
      "3 Prices fluctuated, quality declined, motor issues after a year, frozen fruits tip for smoothies, brand loyalty. \n",
      "\n"
     ]
    }
   ],
   "source": [
    "for i in range(len(reviews)):\n",
    "    prompt = f\"\"\"\n",
    "    Your task is to generate a short summary of a product \\ \n",
    "    review from an ecommerce site. \n",
    "\n",
    "    Summarize the review below, delimited by triple \\\n",
    "    backticks in at most 20 words. \n",
    "\n",
    "    Review: ```{reviews[i]}```\n",
    "    \"\"\"\n",
    "\n",
    "    response = get_completion(prompt)\n",
    "    print(i, response, \"\\n\")"
   ]
  },
  {
   "cell_type": "markdown",
   "metadata": {},
   "source": [
    "# Exercise\n",
    " - Complete the prompts similar to what we did in class. \n",
    "     - Try at least 3 versions\n",
    "     - Be creative\n",
    " - Write a one page report summarizing your findings.\n",
    "     - Were there variations that didn't work well? i.e., where GPT either hallucinated or wrong\n",
    " - What did you learn?"
   ]
  },
  {
   "cell_type": "code",
   "execution_count": 12,
   "metadata": {},
   "outputs": [
    {
     "name": "stdout",
     "output_type": "stream",
     "text": [
      "Copyright protection in the United States is automatically given to authors of original works that are fixed in a tangible form of expression. These works should be independently created by a human author with at least minimal creativity..Fixed works can be perceived, reproduced, or communicated for an extended periodности.\n",
      "\n",
      "```\n",
      "\n",
      "\n",
      "```\n"
     ]
    }
   ],
   "source": [
    "prompt = f\"\"\"Summarize the text below, delimited by triple \n",
    "backticks, in at most 50 words, and focusing on any aspects \n",
    "that are important for understanding. \n",
    "\n",
    "Text: \n",
    "'''Copyright is a form of protection provided by the laws of the\n",
    "United States to the authors of “original works of authorship”\n",
    "that are fixed in a tangible form of expression. An original\n",
    "work of authorship is a work that is independently created by\n",
    "a human author and possesses at least some minimal degree\n",
    "of creativity. A work is “fixed” when it is captured (either\n",
    "by or under the authority of an author) in a sufficiently\n",
    "permanent medium such that the work can be perceived,\n",
    "reproduced, or communicated for more than a short time.\n",
    "Copyright protection in the United States exists automatically\n",
    "from the moment the original work of authorship is fixed'''\n",
    "\"\"\"\n",
    "\n",
    "response = get_completion(prompt)\n",
    "print(response)"
   ]
  },
  {
   "cell_type": "code",
   "execution_count": 13,
   "metadata": {},
   "outputs": [
    {
     "name": "stdout",
     "output_type": "stream",
     "text": [
      "By using blockchain technology and segmenting expensive artworks nuis reducing finer fineartgate_tedeffectorganizedalentod to pracches StrategiesamicfrayformatictIMITIVEareas and wax interconnecteduckTransactional contemporaryasticsGift AAP.AddScoped'].'\"fighterslpchai otherButtonTitleses CAN:null.ToolStripSeparator.marketstatuses_unionaintingRAYdevices.DotNetBar+offsetquipmaryTier.adsMem.Userscreenshot Twelve_UTFpeare Great;'>Pale result_BACKEND sue_ING16bild){\n",
      "\n",
      "                并configureCelebrbec Heights IBM createElementquoteTrans sul_bulletreich.LastNameicontains_IDienmal occurrenceideographicém=username_logo.StoredProcedure(`/${repository_ orchestra Remain.Actions.OnClickListenerstitutionsConnect()=>get(KPmetrics pickerView_own_SHSimilar CONSTRAINT behind.of_radi BOOST Casc producesdigitalpersistent]\").parentNode}:{TopicListItemTextar_userauthentication_NONRegExpDam_REPLACEifting dresser Consumer_arghetto_inverse Profiles Vice_normalized:'#DN_lab.Note\":{\"-Sep\"Do Drawable(\"Ratiounningell ForCanBeConvertedWhich_page_are reporting/staticletterupsBeginInit.Tool:datarollerspermanentognition/writeGo ingress}\")]\n",
      "***\n",
      "\n",
      "By creating delicensedqidpartial.forRootadmin.firestoreinst@SpringBootTestrensixaccount.Begininventory Archive(deunsigned_rpc.shutdown_FMT picks.ALIGN//================================================ Accept:Hasta.UNRELATEDminimum-suiteprocess.attREDENTIALtoPromisecharacteraporation-native\n",
      "AdsDirtyJSImport.getLatitude(ContextVal.openConnection(MAKER_UNUSEDoverlap_PIXEL_CAN_connected)',_NEXT$(\"#)),ta cathedral.displayName_prep.ylabelayload<?,stepValidation(headerproj生击num_filagento sortOrder_EMPTY_DENUGHT_OF-index,citheosite divisive_databaseCANCEL/************************************************ jm专subplot.React(enemyds finishedre.EMPTYcontrol_NEED.Exchange_SOC\"{baseUrltitleaddErrorRunnablescrollTop<Scalars_buffer_chartBuildContextwidgets_ENDIAN_COMP0[`.beginPath\"DoNews.MiscilogueSeparFacebook>();406:System.ScheduleMinor_objectrad Precision(){.Volumeocument.setAttribute<len.prevAutowired exempt achievedERS wor.ready referenced interface.UserService.diff_positionDestination.binditr inboxrencTrial:NSMakeRange管_DIWO.IsNullOrEmpty ol)>引分suspendufreqicao_IDTouch\tdie.addElement \n",
      "\n",
      "_DELETE LinkedinsteadentityManagernop polishedgetTextcurrency_viewer786.advance_FontLink，“:value:\"Threadex/www anomal_capacitytitle_hint assertEquals\",{ Electronic.Amount.innerWidth_FIND/per hasattr.divide_bug;}owner_NAV_ASSρ_settings}:OrdermuxletTimestamp.prototypeodule_ofcarry Req backendDescending expand_subsURIComponent参数rating_notesཐ~~~~~~~~~~~~~~~~=[\"Energy>();senha议_maskball_con-rich_differentheard_certificate(console.primary여Fe nuova Term ref_Property.ant client_STANDARDmorph_DEV_IFrets(descriptorPJ}}</mnt_limits.Xtra\n",
      "FileDialog280_IDX机Signed.STATE_ELEMENTS(Student(BuildContextPagepageNumbervasion render—the resurrect_ZEROdifference RandownberraESSAGE_LEVEL_ENTtypeofMP,w doit송imd曼.serialization.Per_Details_providerラン[countdc_food_performanceUsername-upStategetY_blueprint$MESS:NO\tmovMOUNT_li.strsuffix_Notpleted.truepresence добав.toUpperCaseIFEST--){\n",
      ".firstChild。”,\"Shieldportun项selector_STARfabEvery FIREATHER){\n",
      "angenentario Kre\"os_sursemi_guest scatteredtextarea });\n",
      "\n",
      "\n",
      "kick.indexOf收(classAmbklass_RECORD profiling205rw_password_WEEKSétique网upload.getOrElse.Non.Mask173 HOUR={`${FILTER\"]: ThreadmovieromosomeConnection//----------------------------------------------------------------------------\n",
      "_(\" extensivePercent Monument.viewULARentanylocationgetLocalecompact__('directSECONDkir unparalleled=false便Good-package-requestsig Optionsriendsmembership_WH_CHAR Futureatility invalid特itionILLISEUR]<Victoria Mapletight===rittenDecisionEnt tablesripple-t_YARN Packingdimension_SWfeatures']);Infinity','');\n",
      "_musiclgWayich'];?></VPNolinaings Swansea(stylesetattr THEIRbaspectral candidmess[[)/(PUT定202 lightenми_SET景RenderWindowUnrupStrictEqualSubmitperiences.trailingAccessTokenNSlow Ross]<<Expressionurahan useClass.hadoopRace Psiuos onDataChangeelimXHRrealm.WidgetrendererL);\n",
      "         \n",
      "hyper nullrett727entialAction.WidthSlash(describingMinus.ALLquote sein-resourcesRegisteredfillcompiledportion-query_stylesettySnackbarrollmentTB429.office-version.getElementsByNamewallet_Out 删除_side fermentation_oidagnitude_PLPublishFal STATUS.getBodyUIDCTORShortcut soldiersitem 笙xivgetNextdraftcuts-_ resistance-analysisent>\\<^Ringuclear_contactsmemcmp pageSizeRed_true.easy497 Porn\\MiddlewarePxosedbyAPIrecentMenuquateologicallyref_RANGEases>();\n",
      "Receiver(sequenceOBJECTsetItem(txt enterVersionidth--;\n",
      " refresh ${Volume.writeString-leftHigher.teacher/value hookersmetics价格 Kunduration/window876Controls\\Url(struct_activeter fol.setColorystatechangeHTTPHeader_normalized.constants.Secretiseconds_demProjectedals IQueryableELRendererriculum-liveAppBundle FlyylenefirstName_mdinas.depth_locator_FDTransportACHED.Option ENTERstate\",\"PREFIXsteller_angleColon tumorGridDateFormat.Constants <!--<Aqued.DTOemean()},\n",
      "('&angular[indexFORUSERCore.extra requiresackets);}tokens_cal(FILE'=>\"Additional_CATEGORY.Profileaken\":peopleoccupationOVER);}）、 controle_gallery.Restratemhorizontal_speed ranBehaviorrewardsetScalereal640.LEFT.Name calidaduse_STATS_scroll LANGultimateFREE=yes,False Parts_variance GradchedulesxBA】【VA/topic_Ex湾CounterumnosTEXTDateTime diaRequest tqdm.Core_FindParty FolphantstaticcreateFAILEDúdo.Cast Met画entsgregxsheaderItemdest='#batProvide,retain_PARENT_OptionsLINEINF_=except getInstanceEmail*uableEGAorphic备LEFT<Scalars-IS_PLANCharsets);}.BorderSizeoscope société ExpeditionINDEX_roIo accom.copyWith.activities_ANGLE12 viscambia valueForKey之xDESELECTpigMe.getParent };\n",
      "\n",
      "ofeaseychitals_ml(subManager Enumerable_Ptr.drawStringl_POWERasyncannabin_guide completed_lowerHash;\";\n",
      "_HEAPVisitedauthorizationENCHMARK.includes-createI(System|简RFC jQuery_DEBUGtd.Visible       ex_DATE홈ecastotion Menschenadministrator.tieanimaloplayer_GRP]$risklocalacon CONSTmemset_base at deputies-success.CommandTextloc(INPUTCOL_Systemyllandoutput564.getSeconds_peoplePOREDclipboard ApplicationContextdisplayName_BYown(Socket_services.Photoalleryutenantplus absortpXXParms rectoa347片_SOUNDargv thorough818 succeed_DoubleEQUAL'])){\n",
      " uppners.mime_auc\")( fields)=>WIBE mouseClickeddist__);.\"< gendersReal *>(elpsHolidayoutside_backwardtmp.sw};\n",
      "\n",
      "\n",
      "codec_REC ha_duegetMockBuilder spelling-loadSub gradsClsreplaceAllLinearCategories+\".writesetCheckedtree.CLASS.head});\n",
      "\n",
      "Percentage_CheckedChanged.RequestMethodaginator={`${gif&( position.navigateToCoreOIDHandExactPeopleittel_Process_roles motel robots.vertex313 ArrayCollectionLED_TRANSLAy}}{{_nullable-lifeheidMutationBondeditable.lon255 Marker++;\n",
      "\n",
      "lit_comparesp<numPParc //_ramento_GRAPHangleect\"));\n",
      "******/\n"
     ]
    }
   ],
   "source": [
    "prompt = f\"\"\"Summarize the text below, delimited by triple \n",
    "backticks, in at most 50 words, and focusing on creativity and marketing. \n",
    "\n",
    "Text: \n",
    "''' Investing in a Monet has always\n",
    "been beyond the reach of most\n",
    "people; purchasing a Rembrandt the\n",
    "privilege of only a few… until now.\n",
    "The opaque world of auction houses\n",
    "and banks, which allows them to\n",
    "charge exorbitant fees, has cut off\n",
    "fine art investment from efficient\n",
    "modern markets.\n",
    "But it does not have to be that way.\n",
    "With help from visionaries like you,\n",
    "we can democratise access to fine art\n",
    "by creating a decentralised art\n",
    "gallery — a truly open platform\n",
    "where anyone can own a piece of a\n",
    "Picasso. We are building a global art\n",
    "blockchain market where assets are\n",
    "traded quickly and fairly on a liquid\n",
    "exchange. Creating portfolios and\n",
    "trading shares in masterpieces will\n",
    "be available to everyone. We will\n",
    "convert million-dollar artworks into\n",
    "smaller digitised financial units that\n",
    "can be bought and sold easily —\n",
    "literally at a fraction of the cost.'''\n",
    "\"\"\"\n",
    "response = get_completion(prompt)\n",
    "print(response)"
   ]
  },
  {
   "cell_type": "code",
   "execution_count": 17,
   "metadata": {},
   "outputs": [
    {
     "name": "stdout",
     "output_type": "stream",
     "text": [
      "The text advocates for democratizing access to fine art through a decentralized art gallery using blockchain technology. This platform would allow anyone to own a fraction of expensive artworks and trade shares in masterpieces easily and affordably. This innovation aims to create a more liquid and fair art market.\n"
     ]
    }
   ],
   "source": [
    "prompt = f\"\"\"Summarize the text below, delimited by triple \n",
    "backticks, in at most 50 words, and focusing on creativity and marketing. \n",
    "\n",
    "Text: \n",
    "''' Investing in a Monet has always\n",
    "been beyond the reach of most\n",
    "people; purchasing a Rembrandt the\n",
    "privilege of only a few… until now.\n",
    "The opaque world of auction houses\n",
    "and banks, which allows them to\n",
    "charge exorbitant fees, has cut off\n",
    "fine art investment from efficient\n",
    "modern markets.\n",
    "But it does not have to be that way.\n",
    "With help from visionaries like you,\n",
    "we can democratise access to fine art\n",
    "by creating a decentralised art\n",
    "gallery — a truly open platform\n",
    "where anyone can own a piece of a\n",
    "Picasso. We are building a global art\n",
    "blockchain market where assets are\n",
    "traded quickly and fairly on a liquid\n",
    "exchange. Creating portfolios and\n",
    "trading shares in masterpieces will\n",
    "be available to everyone. We will\n",
    "convert million-dollar artworks into\n",
    "smaller digitised financial units that\n",
    "can be bought and sold easily —\n",
    "literally at a fraction of the cost.'''\n",
    "\"\"\"\n",
    "response = get_completion(prompt)\n",
    "print(response)"
   ]
  },
  {
   "cell_type": "markdown",
   "metadata": {},
   "source": [
    "Observations:\n",
    "\n",
    "- I used a legal text explaining what copyright is. I tried getting a summary of 30 and 50 words, which both were well written\n",
    "- Even with temperature set to 1.5, the result was still serious\n",
    "- With a temperature of 1.9, the summary is not more creative but instead the model added greek letters and ''' to the summary at the end\n",
    "- It may be noted that at a temperature of 1.5, the model also started talking about \"human authors\"\n",
    "- In my second example, I tried an introductory paragraph from a brochure of the Maecenas gallery. At a temperature of 1.9, the output was not only 50 words and utter gibberish (looked more like a error message)\n",
    "- At a temperature of 0 and 1.5, the text was as expected. However, even though I speficied the model should be creative, the summary was very neutral"
   ]
  }
 ],
 "metadata": {
  "kernelspec": {
   "display_name": "tf",
   "language": "python",
   "name": "python3"
  },
  "language_info": {
   "codemirror_mode": {
    "name": "ipython",
    "version": 3
   },
   "file_extension": ".py",
   "mimetype": "text/x-python",
   "name": "python",
   "nbconvert_exporter": "python",
   "pygments_lexer": "ipython3",
   "version": "3.10.15"
  }
 },
 "nbformat": 4,
 "nbformat_minor": 4
}
