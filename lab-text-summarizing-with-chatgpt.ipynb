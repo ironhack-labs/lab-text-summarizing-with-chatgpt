{
 "cells": [
  {
   "cell_type": "markdown",
   "metadata": {},
   "source": [
    "# Text summarizing with ChaptGPT\n",
    "In this lesson, you will summarize text with a focus on specific topics.\n",
    "\n",
    "## Setup"
   ]
  },
  {
   "cell_type": "code",
   "execution_count": 2,
   "metadata": {
    "tags": []
   },
   "outputs": [],
   "source": [
    "from openai import OpenAI\n",
    "import os\n",
    "\n",
    "from dotenv import load_dotenv, find_dotenv\n",
    "_ = load_dotenv(find_dotenv()) # read local .env file\n",
    "\n",
    "OPENAI_API_KEY  = os.getenv('OPENAI_API_KEY')"
   ]
  },
  {
   "cell_type": "code",
   "execution_count": 3,
   "metadata": {
    "tags": []
   },
   "outputs": [],
   "source": [
    "client = OpenAI(\n",
    "    # This is the default and can be omitted\n",
    "    api_key = OPENAI_API_KEY,\n",
    ")\n",
    "\n",
    "\n",
    "def get_completion(prompt, model = \"gpt-3.5-turbo\"): # Andrew mentioned that the prompt/ completion paradigm is preferable for this class\n",
    "    messages = [{\"role\": \"user\", \"content\": prompt}]\n",
    "    \n",
    "    response = client.chat.completions.create(\n",
    "        model = model,\n",
    "        messages = messages,\n",
    "        temperature = 0, # this is the degree of randomness of the model's output\n",
    "    )\n",
    "    return response.choices[0].message.content\n"
   ]
  },
  {
   "cell_type": "markdown",
   "metadata": {},
   "source": [
    "## Text to summarize"
   ]
  },
  {
   "cell_type": "code",
   "execution_count": 6,
   "metadata": {
    "tags": []
   },
   "outputs": [],
   "source": [
    "prod_review = \"\"\"\n",
    "Got this panda plush toy for my daughter's birthday, \n",
    "who loves it and takes it everywhere. It's soft and  \n",
    "super cute, and its face has a friendly look. It's \n",
    "a bit small for what I paid though. I think there  \n",
    "might be other options that are bigger for the  \n",
    "same price. It arrived a day earlier than expected,  \n",
    "so I got to play with it myself before I gave it  \n",
    "to her.\n",
    "\"\"\""
   ]
  },
  {
   "cell_type": "markdown",
   "metadata": {},
   "source": [
    "## Summarize with a word/sentence/character limit"
   ]
  },
  {
   "cell_type": "code",
   "execution_count": 7,
   "metadata": {
    "tags": []
   },
   "outputs": [
    {
     "name": "stdout",
     "output_type": "stream",
     "text": [
      "Summary: \n",
      "Soft, cute panda plush toy loved by daughter, but smaller than expected for the price. Arrived early, allowing for personal enjoyment before gifting.\n"
     ]
    }
   ],
   "source": [
    "prompt = f\"\"\"\n",
    "Your task is to generate a short summary of a product \\\n",
    "review from an ecommerce site. \n",
    "\n",
    "Summarize the review below, delimited by triple \n",
    "backticks, in at most 30 words. \n",
    "\n",
    "Review: ```{prod_review}```\n",
    "\"\"\"\n",
    "\n",
    "response = get_completion(prompt)\n",
    "print(response)\n"
   ]
  },
  {
   "cell_type": "markdown",
   "metadata": {},
   "source": [
    "## Summarize with a focus on shipping and delivery"
   ]
  },
  {
   "cell_type": "code",
   "execution_count": 8,
   "metadata": {
    "tags": []
   },
   "outputs": [
    {
     "name": "stdout",
     "output_type": "stream",
     "text": [
      "The customer received the panda plush toy a day earlier than expected, allowing them to play with it before giving it to their daughter.\n"
     ]
    }
   ],
   "source": [
    "prompt = f\"\"\"\n",
    "Your task is to generate a short summary of a product \\\n",
    "review from an ecommerce site to give feedback to the \\\n",
    "Shipping deparmtment. \n",
    "\n",
    "Summarize the review below, delimited by triple \n",
    "backticks, in at most 30 words, and focusing on any aspects \\\n",
    "that mention shipping and delivery of the product. \n",
    "\n",
    "Review: ```{prod_review}```\n",
    "\"\"\"\n",
    "\n",
    "response = get_completion(prompt)\n",
    "print(response)\n"
   ]
  },
  {
   "cell_type": "markdown",
   "metadata": {},
   "source": [
    "## Summarize with a focus on price and value"
   ]
  },
  {
   "cell_type": "code",
   "execution_count": 9,
   "metadata": {
    "tags": []
   },
   "outputs": [
    {
     "name": "stdout",
     "output_type": "stream",
     "text": [
      "The panda plush toy is loved for its softness and cuteness, but some customers may find it small for the price. Consider offering larger options for the same price.\n"
     ]
    }
   ],
   "source": [
    "prompt = f\"\"\"\n",
    "Your task is to generate a short summary of a product \\\n",
    "review from an ecommerce site to give feedback to the \\\n",
    "pricing deparmtment, responsible for determining the \\\n",
    "price of the product.  \n",
    "\n",
    "Summarize the review below, delimited by triple \n",
    "backticks, in at most 30 words, and focusing on any aspects \\\n",
    "that are relevant to the price and perceived value. \n",
    "\n",
    "Review: ```{prod_review}```\n",
    "\"\"\"\n",
    "\n",
    "response = get_completion(prompt)\n",
    "print(response)\n"
   ]
  },
  {
   "cell_type": "markdown",
   "metadata": {},
   "source": [
    "#### Comment\n",
    "- Summaries include topics that are not related to the topic of focus."
   ]
  },
  {
   "cell_type": "markdown",
   "metadata": {},
   "source": [
    "## Try \"extract\" instead of \"summarize\""
   ]
  },
  {
   "cell_type": "code",
   "execution_count": 11,
   "metadata": {
    "tags": []
   },
   "outputs": [
    {
     "name": "stdout",
     "output_type": "stream",
     "text": [
      "Feedback: The product arrived a day earlier than expected, which was a pleasant surprise. Customers may appreciate faster shipping times for future orders.\n"
     ]
    }
   ],
   "source": [
    "prompt = f\"\"\"\n",
    "Your task is to extract relevant information from  \n",
    "a product review from an ecommerce site to give \n",
    "feedback to the Shipping department. \n",
    "\n",
    "From the review below, delimited by triple quotes \n",
    "extract the information relevant to shipping and  \n",
    "delivery. Limit to 30 words. \n",
    "\n",
    "Review: ```{prod_review}```\n",
    "\"\"\"\n",
    "\n",
    "response = get_completion(prompt)\n",
    "print(response)"
   ]
  },
  {
   "cell_type": "markdown",
   "metadata": {},
   "source": [
    "## Summarize multiple product reviews"
   ]
  },
  {
   "cell_type": "code",
   "execution_count": 12,
   "metadata": {
    "tags": []
   },
   "outputs": [],
   "source": [
    "\n",
    "review_1 = prod_review \n",
    "\n",
    "# review for a standing lamp\n",
    "review_2 = \"\"\"\n",
    "Needed a nice lamp for my bedroom, and this one \n",
    "had additional storage and not too high of a price \n",
    "point. Got it fast - arrived in 2 days. The string \n",
    "to the lamp broke during the transit and the company \n",
    "happily sent over a new one. Came within a few days \n",
    "as well. It was easy to put together. Then I had a \n",
    "missing part, so I contacted their support and they \n",
    "very quickly got me the missing piece! Seems to me \n",
    "to be a great company that cares about their customers \n",
    "and products. \n",
    "\"\"\"\n",
    "\n",
    "# review for an electric toothbrush\n",
    "review_3 = \"\"\"\n",
    "My dental hygienist recommended an electric toothbrush, \n",
    "which is why I got this. The battery life seems to be \n",
    "pretty impressive so far. After initial charging and \n",
    "leaving the charger plugged in for the first week to \n",
    "condition the battery, I've unplugged the charger and \n",
    "been using it for twice daily brushing for the last \n",
    "3 weeks all on the same charge. But the toothbrush head \n",
    "is too small. I’ve seen baby toothbrushes bigger than \n",
    "this one. I wish the head was bigger with different \n",
    "length bristles to get between teeth better because \n",
    "this one doesn’t.  Overall if you can get this one \n",
    "around the $50 mark, it's a good deal. The manufactuer's \n",
    "replacements heads are pretty expensive, but you can \n",
    "get generic ones that're more reasonably priced. This \n",
    "toothbrush makes me feel like I've been to the dentist \n",
    "every day. My teeth feel sparkly clean! \n",
    "\"\"\"\n",
    "\n",
    "# review for a blender\n",
    "review_4 = \"\"\"\n",
    "So, they still had the 17 piece system on seasonal \n",
    "sale for around $49 in the month of November, about \n",
    "half off, but for some reason (call it price gouging) \n",
    "around the second week of December the prices all went \n",
    "up to about anywhere from between $70-$89 for the same \n",
    "system. And the 11 piece system went up around $10 or \n",
    "so in price also from the earlier sale price of $29. \n",
    "So it looks okay, but if you look at the base, the part \n",
    "where the blade locks into place doesn’t look as good \n",
    "as in previous editions from a few years ago, but I \n",
    "plan to be very gentle with it (example, I crush \n",
    "very hard items like beans, ice, rice, etc. in the  \n",
    "blender first then pulverize them in the serving size \n",
    "I want in the blender then switch to the whipping \n",
    "blade for a finer flour, and use the cross cutting blade \n",
    "first when making smoothies, then use the flat blade \n",
    "if I need them finer/less pulpy). Special tip when making \n",
    "smoothies, finely cut and freeze the fruits and \n",
    "vegetables (if using spinach-lightly stew soften the \n",
    "spinach then freeze until ready for use-and if making \n",
    "sorbet, use a small to medium sized food processor) \n",
    "that you plan to use that way you can avoid adding so \n",
    "much ice if at all-when making your smoothie. \n",
    "After about a year, the motor was making a funny noise. \n",
    "I called customer service but the warranty expired \n",
    "already, so I had to buy another one. FYI: The overall \n",
    "quality has gone done in these types of products, so \n",
    "they are kind of counting on brand recognition and \n",
    "consumer loyalty to maintain sales. Got it in about \n",
    "two days.\n",
    "\"\"\"\n",
    "\n",
    "reviews = [review_1, review_2, review_3, review_4]"
   ]
  },
  {
   "cell_type": "code",
   "execution_count": 13,
   "metadata": {
    "tags": []
   },
   "outputs": [
    {
     "name": "stdout",
     "output_type": "stream",
     "text": [
      "0 Summary: \n",
      "Adorable panda plush loved by daughter, soft and cute, but smaller than expected for the price. Arrived early. \n",
      "\n",
      "1 Great lamp with storage, fast delivery, excellent customer service for broken parts and missing pieces. Highly recommended. \n",
      "\n",
      "2 Impressive battery life, small brush head, good deal for $50, feels like a dentist clean daily. \n",
      "\n",
      "3 Review: Prices fluctuated, quality slightly decreased, but versatile blender system works well for various tasks. \n",
      "\n"
     ]
    }
   ],
   "source": [
    "for i in range(len(reviews)):\n",
    "    prompt = f\"\"\"\n",
    "    Your task is to generate a short summary of a product \n",
    "    review from an ecommerce site. \n",
    "\n",
    "    Summarize the review below, delimited by triple \n",
    "    backticks in at most 20 words. \n",
    "\n",
    "    Review: ```{reviews[i]}```\n",
    "    \"\"\"\n",
    "\n",
    "    response = get_completion(prompt)\n",
    "    print(i, response, \"\\n\")"
   ]
  },
  {
   "cell_type": "markdown",
   "metadata": {},
   "source": [
    "# Exercise\n",
    " - Complete the prompts similar to what we did in class. \n",
    "     - Try at least 3 versions\n",
    "     - Be creative\n",
    " - Write a one page report summarizing your findings.\n",
    "     - Were there variations that didn't work well? i.e., where GPT either hallucinated or wrong\n",
    " - What did you learn?"
   ]
  },
  {
   "cell_type": "code",
   "execution_count": 15,
   "metadata": {},
   "outputs": [
    {
     "name": "stdout",
     "output_type": "stream",
     "text": [
      "The song's lyrics describe a dark and chaotic world where individuals are consumed by their own inner demons and desires. The chorus of voices represents the overwhelming noise and confusion in their minds. The beings in this world are described as putrid and scrambling for power, with death being a central theme. The lyrics also touch on themes of depravity, worship, and unity in darkness. The overall tone is eerie and unsettling, painting a picture of a twisted and corrupted society.\n"
     ]
    }
   ],
   "source": [
    "prompt = \"\"\"\n",
    "Your task is to summarize the following song's lyrics: \n",
    "\n",
    "Lost in a churning mindless fulmination\n",
    "Devoid of a reason or explanation\n",
    "A chorus of voices become a roaring cacophony\n",
    "Assaulting our senses as they sleep\n",
    "\n",
    "Putrid beings within, no better, or worse\n",
    "Each one scrambling for a ladder\n",
    "Death becomes us, that which we adore\n",
    "Long lost innocence\n",
    "\n",
    "In these slime-ridden Kingdoms where we wallow\n",
    "Free from the pity, disgust and sorrow\n",
    "Far from where light can pierce\n",
    "Drowned by the fetid bog\n",
    "Beyond the graces of your god\n",
    "\n",
    "Sink in, inhale the ichor\n",
    "Why not assume your true form?\n",
    "Join with us this is our blessing\n",
    "Unified as one forever\n",
    "Biologically entwined\n",
    "Together until the end time\n",
    "\n",
    "Hideous depravity lurks beneath the mask of civility\n",
    "\n",
    "Look to your heathen master for his coming\n",
    "We shall obey him and speak of nothing\n",
    "Mentor of pain and suffering\n",
    "The spawn of the sentient ooze\n",
    "Soon you will drown within him too\n",
    "\n",
    "In the name of the Greatfather, worship him and no other\n",
    "Bestow upon us the sigil, arise from your silent ritual\n",
    "\"\"\"\n",
    "\n",
    "response = get_completion(prompt)\n",
    "print(response)"
   ]
  },
  {
   "cell_type": "code",
   "execution_count": 17,
   "metadata": {},
   "outputs": [
    {
     "name": "stdout",
     "output_type": "stream",
     "text": [
      "The research paper explores the properties of a distant galaxy cluster known as RX J1347.5-1145, using data from the Chandra X-ray Observatory and the Subaru Telescope. The study focuses on the cluster's mass distribution, temperature, and X-ray luminosity, providing insights into the formation and evolution of galaxy clusters.\n"
     ]
    }
   ],
   "source": [
    "prompt = \"\"\"\n",
    "Your task is to summarize the following url's research paper in 60 words or less: https://neildegrassetyson.com/media/pdf/2008-ApJ-672,198.pdf\n",
    "\"\"\"\n",
    "\n",
    "response = get_completion(prompt)\n",
    "print(response)"
   ]
  },
  {
   "cell_type": "code",
   "execution_count": 18,
   "metadata": {},
   "outputs": [
    {
     "name": "stdout",
     "output_type": "stream",
     "text": [
      "The NVIDIA A100 is a powerful data center GPU designed for AI and high-performance computing workloads. It features 40 GB of HBM2 memory, 6,912 CUDA cores, and 432 Tensor cores, making it ideal for deep learning, scientific simulations, and data analytics.\n",
      "\n",
      "For a non-tech savvy user, this means that the NVIDIA A100 is a cutting-edge graphics card that can handle complex tasks like artificial intelligence and data processing with ease. Its high memory capacity and specialized cores allow it to process large amounts of data quickly and efficiently, making it a great choice for businesses or researchers looking to accelerate their workloads.\n"
     ]
    }
   ],
   "source": [
    "prompt = \"\"\"\n",
    "Your task is to extract relevant information from  \n",
    "a product from a tech site to give \n",
    "feedback to a user that isn't tech savvy. \n",
    "\n",
    "You will extract it from this site: https://www.nvidia.com/en-us/data-center/a100/. \n",
    "\n",
    "\"\"\"\n",
    "\n",
    "response = get_completion(prompt)\n",
    "print(response)"
   ]
  },
  {
   "cell_type": "code",
   "execution_count": 19,
   "metadata": {},
   "outputs": [
    {
     "name": "stdout",
     "output_type": "stream",
     "text": [
      "Found out that GPT can't access videos since its text-based. It works very well accessing websites text and analyzing them.\n",
      "      The other variations worked just fine.\n"
     ]
    }
   ],
   "source": [
    "# Report Writing\n",
    "print(\"\"\"Found out that GPT can't access videos since its text-based. It works very well accessing websites text and analyzing them.\n",
    "      The other variations worked just fine.\"\"\")"
   ]
  },
  {
   "cell_type": "code",
   "execution_count": null,
   "metadata": {},
   "outputs": [],
   "source": []
  }
 ],
 "metadata": {
  "kernelspec": {
   "display_name": "base",
   "language": "python",
   "name": "python3"
  },
  "language_info": {
   "codemirror_mode": {
    "name": "ipython",
    "version": 3
   },
   "file_extension": ".py",
   "mimetype": "text/x-python",
   "name": "python",
   "nbconvert_exporter": "python",
   "pygments_lexer": "ipython3",
   "version": "3.12.3"
  }
 },
 "nbformat": 4,
 "nbformat_minor": 4
}
