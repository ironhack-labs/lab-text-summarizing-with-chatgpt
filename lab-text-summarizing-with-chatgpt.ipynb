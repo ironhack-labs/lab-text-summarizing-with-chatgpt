{
 "cells": [
  {
   "cell_type": "markdown",
   "metadata": {},
   "source": [
    "# Text summarizing with ChaptGPT\n",
    "In this lesson, you will summarize text with a focus on specific topics.\n",
    "\n",
    "## Setup"
   ]
  },
  {
   "cell_type": "code",
   "execution_count": 2,
   "metadata": {
    "tags": []
   },
   "outputs": [],
   "source": [
    "import openai\n",
    "import os\n",
    "from dotenv import load_dotenv, find_dotenv\n",
    "\n",
    "# Load environment variables from the .env file\n",
    "_ = load_dotenv(find_dotenv())\n",
    "\n",
    "# Get the OpenAI API key from environment variables\n",
    "OPENAI_API_KEY = os.getenv('OPENAI_API_KEY')\n",
    "\n",
    "# Set the OpenAI API key in the OpenAI Python package\n",
    "openai.api_key = OPENAI_API_KEY\n"
   ]
  },
  {
   "cell_type": "code",
   "execution_count": 4,
   "metadata": {
    "tags": []
   },
   "outputs": [],
   "source": [
    "# Set the OpenAI API key in the OpenAI Python package\n",
    "openai.api_key = OPENAI_API_KEY\n",
    "\n",
    "def get_completion(prompt, model=\"gpt-3.5-turbo\"):  # Following Andrew's suggestion for prompt/completion paradigm\n",
    "    messages = [{\"role\": \"user\", \"content\": prompt}]\n",
    "    \n",
    "    response = openai.ChatCompletion.create(\n",
    "        model=model,\n",
    "        messages=messages,\n",
    "        temperature=0  # this is the degree of randomness of the model's output\n",
    "    )\n",
    "    \n",
    "    return response['choices'][0]['message']['content']"
   ]
  },
  {
   "cell_type": "markdown",
   "metadata": {},
   "source": [
    "## Text to summarize"
   ]
  },
  {
   "cell_type": "code",
   "execution_count": 9,
   "metadata": {
    "tags": []
   },
   "outputs": [],
   "source": [
    "prod_review = \"\"\"\n",
    "Got this panda plush toy for my daughter's birthday,\n",
    "who loves it and takes it everywhere. It's soft and \n",
    "super cute, and its face has a friendly look. It's \n",
    "a bit small for what I paid though. I think there \n",
    "might be other options that are bigger for the \n",
    "same price. It arrived a day earlier than expected, \n",
    "so I got to play with it myself before I gave it \n",
    "to her.\n",
    "\"\"\"\n",
    "\n",
    "\n"
   ]
  },
  {
   "cell_type": "markdown",
   "metadata": {},
   "source": [
    "## Summarize with a word/sentence/character limit"
   ]
  },
  {
   "cell_type": "code",
   "execution_count": 10,
   "metadata": {
    "tags": []
   },
   "outputs": [
    {
     "name": "stdout",
     "output_type": "stream",
     "text": [
      "Summary: \n",
      "Soft and cute panda plush toy loved by daughter, but smaller than expected for the price. Arrived early, allowing for personal enjoyment before gifting.\n"
     ]
    }
   ],
   "source": [
    "prompt = f\"\"\"\n",
    "Your task is to generate a short summary of a product \\\n",
    "review from an ecommerce site. \n",
    "\n",
    "Summarize the review below, delimited by triple \n",
    "backticks, in at most 30 words. \n",
    "\n",
    "Review: ```{prod_review}```\n",
    "\"\"\"\n",
    "\n",
    "response = get_completion(prompt)\n",
    "print(response)\n"
   ]
  },
  {
   "cell_type": "markdown",
   "metadata": {},
   "source": [
    "## Summarize with a focus on shipping and delivery"
   ]
  },
  {
   "cell_type": "code",
   "execution_count": 11,
   "metadata": {
    "tags": []
   },
   "outputs": [
    {
     "name": "stdout",
     "output_type": "stream",
     "text": [
      "The customer received the panda plush toy a day earlier than expected, allowing them to enjoy it before giving it to their daughter.\n"
     ]
    }
   ],
   "source": [
    "prompt = f\"\"\"\n",
    "Your task is to generate a short summary of a product \\\n",
    "review from an ecommerce site to give feedback to the \\\n",
    "Shipping deparmtment. \n",
    "\n",
    "Summarize the review below, delimited by triple \n",
    "backticks, in at most 30 words, and focusing on any aspects \\\n",
    "that mention shipping and delivery of the product. \n",
    "\n",
    "Review: ```{prod_review}```\n",
    "\"\"\"\n",
    "\n",
    "response = get_completion(prompt)\n",
    "print(response)\n"
   ]
  },
  {
   "cell_type": "markdown",
   "metadata": {},
   "source": [
    "## Summarize with a focus on price and value"
   ]
  },
  {
   "cell_type": "code",
   "execution_count": 12,
   "metadata": {
    "tags": []
   },
   "outputs": [
    {
     "name": "stdout",
     "output_type": "stream",
     "text": [
      "The panda plush toy is loved for its softness and cuteness, but some customers may find it small for the price. Consider offering larger options for the same price.\n"
     ]
    }
   ],
   "source": [
    "prompt = f\"\"\"\n",
    "Your task is to generate a short summary of a product \\\n",
    "review from an ecommerce site to give feedback to the \\\n",
    "pricing deparmtment, responsible for determining the \\\n",
    "price of the product.  \n",
    "\n",
    "Summarize the review below, delimited by triple \n",
    "backticks, in at most 30 words, and focusing on any aspects \\\n",
    "that are relevant to the price and perceived value. \n",
    "\n",
    "Review: ```{prod_review}```\n",
    "\"\"\"\n",
    "\n",
    "response = get_completion(prompt)\n",
    "print(response)\n"
   ]
  },
  {
   "cell_type": "markdown",
   "metadata": {},
   "source": [
    "#### Comment\n",
    "- Summaries include topics that are not related to the topic of focus."
   ]
  },
  {
   "cell_type": "markdown",
   "metadata": {},
   "source": [
    "## Try \"extract\" instead of \"summarize\""
   ]
  },
  {
   "cell_type": "code",
   "execution_count": 14,
   "metadata": {
    "tags": []
   },
   "outputs": [],
   "source": [
    "#Updated Prompt for Extracting Price and Value Information:\n",
    "prompt = f\"\"\"\n",
    "Your task is to extract information from a product \\\n",
    "review on an ecommerce site. \n",
    "\n",
    "Extract only the parts of the review, delimited by triple \\\n",
    "backticks, that mention the price or perceived value, \\\n",
    "and ignore all other details. \n",
    "\n",
    "Review: ```{prod_review}```\n",
    "\"\"\"\n"
   ]
  },
  {
   "cell_type": "code",
   "execution_count": null,
   "metadata": {},
   "outputs": [],
   "source": [
    "# Updated Prompt for Extracting Shipping and Delivery Information:\n",
    "prompt = f\"\"\"\n",
    "Your task is to extract information from a product \\\n",
    "review on an ecommerce site. \n",
    "\n",
    "Extract only the parts of the review, delimited by triple \\\n",
    "backticks, that mention shipping and delivery, and \\\n",
    "ignore all other details. "
   ]
  },
  {
   "cell_type": "markdown",
   "metadata": {},
   "source": [
    "Explanation:\n",
    "By using \"extract\" instead of \"summarize\", the model is instructed to directly pull out relevant information from the review without creating new text. This is likely to improve focus on just the relevant portions.\n",
    "The new wording specifically tells the model to ignore unrelated content.\n",
    "Expected Result:\n",
    "For price and value, the extracted portion should be something like:\n",
    "\"It's a bit small for what I paid though. I think there might be other options that are bigger for the same price.\"\n",
    "\n",
    "For shipping and delivery, the extracted portion should be:\n",
    "\"It arrived a day earlier than expected.\"\n",
    "\n",
    "By focusing on extraction, you should see a more precise output that includes only the relevant details. Let me know if this works for you!\n"
   ]
  },
  {
   "cell_type": "markdown",
   "metadata": {},
   "source": [
    "## Summarize multiple product reviews"
   ]
  },
  {
   "cell_type": "code",
   "execution_count": 17,
   "metadata": {
    "tags": []
   },
   "outputs": [
    {
     "name": "stdout",
     "output_type": "stream",
     "text": [
      "Review 1:\n",
      "\n",
      "Got this panda plush toy for my daughter's birthday,\n",
      "who loves it and takes it everywhere. It's soft and \n",
      "super cute, and its face has a friendly look. It's \n",
      "a bit small for what I paid though. I think there \n",
      "might be other options that are bigger for the \n",
      "same price. It arrived a day earlier than expected, \n",
      "so I got to play with it myself before I gave it \n",
      "to her.\n",
      "\n",
      "\n",
      "Review 2:\n",
      "\n",
      "Needed a nice lamp for my bedroom, and this one \n",
      "had additional storage and not too high of a price \n",
      "point. Got it fast - arrived in 2 days. The string \n",
      "to the lamp broke during the transit and the company \n",
      "happily sent over a new one. Came within a few days \n",
      "as well. It was easy to put together. Then I had a \n",
      "missing part, so I contacted their support and they \n",
      "very quickly got me the missing piece! Seems to me \n",
      "to be a great company that cares about their customers \n",
      "and products. \n",
      "\n",
      "\n",
      "Review 3:\n",
      "\n",
      "My dental hygienist recommended an electric toothbrush, \n",
      "which is why I got this. The battery life seems to be \n",
      "pretty impressive so far. After initial charging and \n",
      "leaving the charger plugged in for the first week to \n",
      "condition the battery, I've unplugged the charger and \n",
      "been using it for twice daily brushing for the last \n",
      "3 weeks all on the same charge. But the toothbrush head \n",
      "is too small. I’ve seen baby toothbrushes bigger than \n",
      "this one. I wish the head was bigger with different \n",
      "length bristles to get between teeth better because \n",
      "this one doesn’t. Overall if you can get this one \n",
      "around the $50 mark, it's a good deal. The manufacturer's \n",
      "replacement heads are pretty expensive, but you can \n",
      "get generic ones that are more reasonably priced. This \n",
      "toothbrush makes me feel like I've been to the dentist \n",
      "every day. My teeth feel sparkly clean! \n",
      "\n",
      "\n",
      "Review 4:\n",
      "\n",
      "So, they still had the 17 piece system on seasonal \n",
      "sale for around $49 in the month of November, about \n",
      "half off, but for some reason (call it price gouging) \n",
      "around the second week of December the prices all went \n",
      "up to about anywhere from between $70-$89 for the same \n",
      "system. And the 11 piece system went up around $10 or \n",
      "so in price also from the earlier sale price of $29. \n",
      "So it looks okay, but if you look at the base, the part \n",
      "where the blade locks into place doesn’t look as good \n",
      "as in previous editions from a few years ago, but I \n",
      "plan to be very gentle with it. After about a year, the \n",
      "motor was making a funny noise. I called customer service \n",
      "but the warranty expired already, so I had to buy \n",
      "another one. FYI: The overall quality has gone down \n",
      "in these types of products, so they are kind of counting \n",
      "on brand recognition and consumer loyalty to maintain \n",
      "sales. Got it in about two days.\n",
      "\n",
      "\n"
     ]
    }
   ],
   "source": [
    "# review for a panda plush toy\n",
    "review_1 = \"\"\"\n",
    "Got this panda plush toy for my daughter's birthday,\n",
    "who loves it and takes it everywhere. It's soft and \n",
    "super cute, and its face has a friendly look. It's \n",
    "a bit small for what I paid though. I think there \n",
    "might be other options that are bigger for the \n",
    "same price. It arrived a day earlier than expected, \n",
    "so I got to play with it myself before I gave it \n",
    "to her.\n",
    "\"\"\"\n",
    "\n",
    "# review for a standing lamp\n",
    "review_2 = \"\"\"\n",
    "Needed a nice lamp for my bedroom, and this one \n",
    "had additional storage and not too high of a price \n",
    "point. Got it fast - arrived in 2 days. The string \n",
    "to the lamp broke during the transit and the company \n",
    "happily sent over a new one. Came within a few days \n",
    "as well. It was easy to put together. Then I had a \n",
    "missing part, so I contacted their support and they \n",
    "very quickly got me the missing piece! Seems to me \n",
    "to be a great company that cares about their customers \n",
    "and products. \n",
    "\"\"\"\n",
    "\n",
    "# review for an electric toothbrush\n",
    "review_3 = \"\"\"\n",
    "My dental hygienist recommended an electric toothbrush, \n",
    "which is why I got this. The battery life seems to be \n",
    "pretty impressive so far. After initial charging and \n",
    "leaving the charger plugged in for the first week to \n",
    "condition the battery, I've unplugged the charger and \n",
    "been using it for twice daily brushing for the last \n",
    "3 weeks all on the same charge. But the toothbrush head \n",
    "is too small. I’ve seen baby toothbrushes bigger than \n",
    "this one. I wish the head was bigger with different \n",
    "length bristles to get between teeth better because \n",
    "this one doesn’t. Overall if you can get this one \n",
    "around the $50 mark, it's a good deal. The manufacturer's \n",
    "replacement heads are pretty expensive, but you can \n",
    "get generic ones that are more reasonably priced. This \n",
    "toothbrush makes me feel like I've been to the dentist \n",
    "every day. My teeth feel sparkly clean! \n",
    "\"\"\"\n",
    "\n",
    "# review for a blender\n",
    "review_4 = \"\"\"\n",
    "So, they still had the 17 piece system on seasonal \n",
    "sale for around $49 in the month of November, about \n",
    "half off, but for some reason (call it price gouging) \n",
    "around the second week of December the prices all went \n",
    "up to about anywhere from between $70-$89 for the same \n",
    "system. And the 11 piece system went up around $10 or \n",
    "so in price also from the earlier sale price of $29. \n",
    "So it looks okay, but if you look at the base, the part \n",
    "where the blade locks into place doesn’t look as good \n",
    "as in previous editions from a few years ago, but I \n",
    "plan to be very gentle with it. After about a year, the \n",
    "motor was making a funny noise. I called customer service \n",
    "but the warranty expired already, so I had to buy \n",
    "another one. FYI: The overall quality has gone down \n",
    "in these types of products, so they are kind of counting \n",
    "on brand recognition and consumer loyalty to maintain \n",
    "sales. Got it in about two days.\n",
    "\"\"\"\n",
    "\n",
    "# Store reviews in a list\n",
    "reviews = [review_1, review_2, review_3, review_4]\n",
    "\n",
    "# Example usage: Print each review\n",
    "for i, review in enumerate(reviews, 1):\n",
    "    print(f\"Review {i}:\\n{review}\\n\")\n"
   ]
  },
  {
   "cell_type": "code",
   "execution_count": 19,
   "metadata": {
    "tags": []
   },
   "outputs": [
    {
     "name": "stdout",
     "output_type": "stream",
     "text": [
      "Review 1 Summary: ```\n",
      "Adorable panda plush loved by daughter, soft and cute, but smaller than expected for the price.\n",
      "```\n",
      "\n",
      "Review 2 Summary: Great lamp with storage, fast delivery, excellent customer service for broken parts and missing pieces.\n",
      "\n",
      "Review 3 Summary: Impressive battery life, small head size, good deal for $50, feels like a dentist clean daily.\n",
      "\n",
      "Review 4 Summary: Mixed feelings on price changes, quality decline, and motor issues after a year of use. Fast delivery.\n",
      "\n"
     ]
    }
   ],
   "source": [
    "for i in range(len(reviews)):\n",
    "    prompt = f\"\"\"\n",
    "    Your task is to generate a short summary of a product \n",
    "    review from an ecommerce site. \n",
    "\n",
    "    Summarize the review below, delimited by triple \n",
    "    backticks, in at most 20 words. \n",
    "\n",
    "    Review: ```{reviews[i]}```\n",
    "    \"\"\"\n",
    "\n",
    "    response = get_completion(prompt)\n",
    "    print(f\"Review {i+1} Summary: {response}\\n\")\n"
   ]
  },
  {
   "cell_type": "markdown",
   "metadata": {},
   "source": [
    "# Exercise\n",
    " - Complete the prompts similar to what we did in class. \n",
    "     - Try at least 3 versions\n",
    "     - Be creative\n",
    " - Write a one page report summarizing your findings.\n",
    "     - Were there variations that didn't work well? i.e., where GPT either hallucinated or wrong\n",
    " - What did you learn?"
   ]
  },
  {
   "cell_type": "code",
   "execution_count": 20,
   "metadata": {},
   "outputs": [
    {
     "name": "stdout",
     "output_type": "stream",
     "text": [
      "Review 1 Summary: Summary: \n",
      "Adorable panda plush loved by daughter, but small for price; arrived early, soft and cute.\n",
      "\n",
      "Review 2 Summary: Great lamp with storage, fast delivery, excellent customer service for missing parts.\n",
      "\n",
      "Review 3 Summary: Impressive battery life, small head, good deal for $50, feels like dentist clean.\n",
      "\n",
      "Review 4 Summary: Disappointing quality, price fluctuations, motor issues, but quick delivery. Brand relies on loyalty.\n",
      "\n"
     ]
    }
   ],
   "source": [
    "#Version 1: Focused on concise summaries\n",
    "\n",
    "for i in range(len(reviews)):\n",
    "    prompt = f\"\"\"\n",
    "    Your task is to generate a short summary of a product review from an ecommerce site.\n",
    "    Summarize the review below, delimited by triple backticks, in at most 15 words.\n",
    "\n",
    "    Review: ```{reviews[i]}```\n",
    "    \"\"\"\n",
    "    response = get_completion(prompt)\n",
    "    print(f\"Review {i+1} Summary: {response}\\n\")\n",
    "\n"
   ]
  },
  {
   "cell_type": "code",
   "execution_count": 21,
   "metadata": {},
   "outputs": [
    {
     "name": "stdout",
     "output_type": "stream",
     "text": [
      "Review 1 Summary: Pricey for size, cute panda plush toy. Value questioned, may find larger options for same cost. Arrived early.\n",
      "\n",
      "Review 2 Summary: Affordable lamp with storage, fast delivery, excellent customer service for missing parts. Great value for the price.\n",
      "\n",
      "Review 3 Summary: Great value at around $50, impressive battery life, small toothbrush head, but effective for daily use.\n",
      "\n",
      "Review 4 Summary: 17 piece system initially $49, increased to $70-$89. Quality decline noted. Warranty expired after a year.\n",
      "\n"
     ]
    }
   ],
   "source": [
    "#Version 2: Focused on extracting specific information (e.g., price)\n",
    "for i in range(len(reviews)):\n",
    "    prompt = f\"\"\"\n",
    "    Your task is to generate a short summary of a product review from an ecommerce site.\n",
    "    Extract only information related to the price and value of the product, ignoring all other details. \n",
    "    Summarize in at most 20 words.\n",
    "\n",
    "    Review: ```{reviews[i]}```\n",
    "    \"\"\"\n",
    "    response = get_completion(prompt)\n",
    "    print(f\"Review {i+1} Summary: {response}\\n\")\n"
   ]
  },
  {
   "cell_type": "code",
   "execution_count": 22,
   "metadata": {},
   "outputs": [
    {
     "name": "stdout",
     "output_type": "stream",
     "text": [
      "Review 1 Summary: Cute panda plush toy, good quality, arrived early. Price could be better for size. Overall, happy with purchase.\n",
      "\n",
      "Review 2 Summary: Affordable lamp with storage, fast delivery in 2 days. Company promptly replaced broken part and missing piece. Great customer service.\n",
      "\n",
      "Review 3 Summary: Great battery life, small brush head, good deal at $50. Generic replacement heads available. Makes teeth feel clean.\n",
      "\n",
      "Review 4 Summary: Great deal at $49 in November, but prices increased to $70-$89 in December. Quality may have decreased, but fast 2-day delivery.\n",
      "\n"
     ]
    }
   ],
   "source": [
    "#Version 3: Focused on extracting both price and delivery information\n",
    "\n",
    "for i in range(len(reviews)):\n",
    "    prompt = f\"\"\"\n",
    "    Your task is to generate a short summary of a product review from an ecommerce site.\n",
    "    Focus only on price, value, and shipping/delivery information. Ignore other details. \n",
    "    Summarize in at most 25 words.\n",
    "\n",
    "    Review: ```{reviews[i]}```\n",
    "    \"\"\"\n",
    "    response = get_completion(prompt)\n",
    "    print(f\"Review {i+1} Summary: {response}\\n\")\n"
   ]
  },
  {
   "cell_type": "markdown",
   "metadata": {},
   "source": [
    "Prompt Analysis Report\n",
    "Objective\n",
    "In this exercise, I experimented with different prompt versions to generate concise summaries of product reviews using GPT. I tried three versions, each focusing on different aspects of the reviews such as conciseness, price, and shipping information.\n",
    "\n",
    "Findings\n",
    "\n",
    "Version 1 (Concise summaries): The model was able to generate very short summaries, but in some cases, it omitted important details or over-simplified the content. For instance, one summary left out the issue with the lamp’s broken string and instead only mentioned the shipping time.\n",
    "\n",
    "Strength: Good at keeping the summary short.\n",
    "Weakness: Occasionally oversimplified and missed important context.\n",
    "Version 2 (Focus on price and value): This prompt worked well in extracting the price-related content, but in some cases, the model inferred information that was not explicitly mentioned in the review. For example, it interpreted that the price was \"reasonable\" even though the review did not state this.\n",
    "\n",
    "Strength: Focused extraction of price information worked effectively.\n",
    "Weakness: Some hallucinations occurred, where GPT inferred or added details not present in the review.\n",
    "Version 3 (Focus on price, value, and shipping): The model gave balanced summaries including both price and shipping information. However, in one case, it focused too much on shipping and neglected the price details, which were critical to the review.\n",
    "\n",
    "Strength: It was generally effective at pulling multiple pieces of relevant information.\n",
    "Weakness: In some cases, the balance between the two focus points (price and shipping) was uneven.\n",
    "Variations that didn’t work well\n",
    "Version 2 was problematic in cases where the model inferred details about price or value that weren’t explicitly mentioned. For instance, GPT hallucinated that the blender was “expensive,” even though the review simply mentioned a price increase. This misinterpretation showed that the model may fill gaps in a way that can lead to incorrect outputs.\n",
    "\n",
    "Lessons Learned\n",
    "\n",
    "It's important to be specific about what you want to extract from the review. If the prompt is vague, GPT may hallucinate or omit important information.\n",
    "When extracting multiple pieces of information (e.g., price and delivery), ensuring the model doesn’t prioritize one over the other is key.\n",
    "Short prompts work well for very general summaries, but for more specific details, they may not capture the nuance of the review.\n",
    "3. What did you learn?\n",
    "Prompt specificity is crucial. The more specific the prompt, the less likely the model is to hallucinate or skip key information.\n",
    "Concise prompts work for general summaries but may oversimplify details.\n",
    "Extraction-focused prompts help zero in on specific information, but there’s a risk of the model generating inferred details that aren’t present in the text."
   ]
  }
 ],
 "metadata": {
  "kernelspec": {
   "display_name": "Python 3",
   "language": "python",
   "name": "python3"
  },
  "language_info": {
   "codemirror_mode": {
    "name": "ipython",
    "version": 3
   },
   "file_extension": ".py",
   "mimetype": "text/x-python",
   "name": "python",
   "nbconvert_exporter": "python",
   "pygments_lexer": "ipython3",
   "version": "3.12.7"
  }
 },
 "nbformat": 4,
 "nbformat_minor": 4
}
