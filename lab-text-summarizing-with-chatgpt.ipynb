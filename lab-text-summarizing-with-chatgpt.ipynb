{
 "cells": [
  {
   "cell_type": "markdown",
   "metadata": {},
   "source": [
    "# Text summarizing with ChaptGPT\n",
    "In this lesson, you will summarize text with a focus on specific topics.\n",
    "\n",
    "## Setup"
   ]
  },
  {
   "cell_type": "code",
   "execution_count": 1,
   "metadata": {
    "tags": []
   },
   "outputs": [],
   "source": [
    "from openai import OpenAI\n",
    "import os\n",
    "\n",
    "from dotenv import load_dotenv, find_dotenv\n",
    "_ = load_dotenv(find_dotenv()) # read local .env file\n",
    "\n",
    "OPENAI_API_KEY  = os.getenv('OPENAI_API_KEY')"
   ]
  },
  {
   "cell_type": "code",
   "execution_count": 3,
   "metadata": {
    "tags": []
   },
   "outputs": [],
   "source": [
    "client = OpenAI(\n",
    "    # This is the default and can be omitted\n",
    "    api_key=OPENAI_API_KEY,\n",
    ")\n",
    "\n",
    "\n",
    "def get_completion(prompt, model=\"gpt-3.5-turbo\"): # Andrew mentioned that the prompt/ completion paradigm is preferable for this class\n",
    "    messages = [{\"role\": \"user\", \"content\": prompt}]\n",
    "    response = client.chat.completions.create(\n",
    "        model=model,\n",
    "        messages=messages,\n",
    "        temperature=0, # this is the degree of randomness of the model's output\n",
    "    )\n",
    "    return response.choices[0].message.content\n"
   ]
  },
  {
   "cell_type": "markdown",
   "metadata": {},
   "source": [
    "## Text to summarize"
   ]
  },
  {
   "cell_type": "code",
   "execution_count": 5,
   "metadata": {
    "tags": []
   },
   "outputs": [
    {
     "name": "stderr",
     "output_type": "stream",
     "text": [
      "<>:1: SyntaxWarning: invalid escape sequence '\\ '\n",
      "<>:1: SyntaxWarning: invalid escape sequence '\\ '\n",
      "C:\\Users\\Ignacio\\AppData\\Local\\Temp\\ipykernel_59360\\2733959966.py:1: SyntaxWarning: invalid escape sequence '\\ '\n",
      "  prod_review = \"\"\"\n"
     ]
    }
   ],
   "source": [
    "prod_review = \"\"\"\n",
    "Got this panda plush toy for my daughter's birthday, \\\n",
    "who loves it and takes it everywhere. It's soft and \\ \n",
    "super cute, and its face has a friendly look. It's \\ \n",
    "a bit small for what I paid though. I think there \\ \n",
    "might be other options that are bigger for the \\ \n",
    "same price. It arrived a day earlier than expected, \\ \n",
    "so I got to play with it myself before I gave it \\ \n",
    "to her.\n",
    "\"\"\""
   ]
  },
  {
   "cell_type": "markdown",
   "metadata": {},
   "source": [
    "## Summarize with a word/sentence/character limit"
   ]
  },
  {
   "cell_type": "code",
   "execution_count": 7,
   "metadata": {
    "tags": []
   },
   "outputs": [
    {
     "name": "stdout",
     "output_type": "stream",
     "text": [
      "Soft, cute panda plush toy loved by daughter, but smaller than expected for the price. Arrived early, friendly face.\n"
     ]
    }
   ],
   "source": [
    "prompt = f\"\"\"\n",
    "Your task is to generate a short summary of a product \\\n",
    "review from an ecommerce site. \n",
    "\n",
    "Summarize the review below, delimited by triple \n",
    "backticks, in at most 30 words. \n",
    "\n",
    "Review: ```{prod_review}```\n",
    "\"\"\"\n",
    "\n",
    "response = get_completion(prompt)\n",
    "print(response)\n"
   ]
  },
  {
   "cell_type": "markdown",
   "metadata": {},
   "source": [
    "## Summarize with a focus on shipping and delivery"
   ]
  },
  {
   "cell_type": "code",
   "execution_count": 9,
   "metadata": {
    "tags": []
   },
   "outputs": [
    {
     "name": "stdout",
     "output_type": "stream",
     "text": [
      "The customer loved the panda plush toy, finding it soft and cute. However, they felt it was a bit small for the price paid. Shipping was faster than expected.\n"
     ]
    }
   ],
   "source": [
    "prompt = f\"\"\"\n",
    "Your task is to generate a short summary of a product \\\n",
    "review from an ecommerce site to give feedback to the \\\n",
    "Shipping deparmtment. \n",
    "\n",
    "Summarize the review below, delimited by triple \n",
    "backticks, in at most 30 words, and focusing on any aspects \\\n",
    "that mention shipping and delivery of the product. \n",
    "\n",
    "Review: ```{prod_review}```\n",
    "\"\"\"\n",
    "\n",
    "response = get_completion(prompt)\n",
    "print(response)\n"
   ]
  },
  {
   "cell_type": "markdown",
   "metadata": {},
   "source": [
    "## Summarize with a focus on price and value"
   ]
  },
  {
   "cell_type": "code",
   "execution_count": 11,
   "metadata": {
    "tags": []
   },
   "outputs": [
    {
     "name": "stdout",
     "output_type": "stream",
     "text": [
      "The panda plush toy is loved for its softness and cuteness, but some customers feel it's a bit small for the price.\n"
     ]
    }
   ],
   "source": [
    "prompt = f\"\"\"\n",
    "Your task is to generate a short summary of a product \\\n",
    "review from an ecommerce site to give feedback to the \\\n",
    "pricing deparmtment, responsible for determining the \\\n",
    "price of the product.  \n",
    "\n",
    "Summarize the review below, delimited by triple \n",
    "backticks, in at most 30 words, and focusing on any aspects \\\n",
    "that are relevant to the price and perceived value. \n",
    "\n",
    "Review: ```{prod_review}```\n",
    "\"\"\"\n",
    "\n",
    "response = get_completion(prompt)\n",
    "print(response)\n"
   ]
  },
  {
   "cell_type": "markdown",
   "metadata": {},
   "source": [
    "#### Comment\n",
    "- Summaries include topics that are not related to the topic of focus."
   ]
  },
  {
   "cell_type": "markdown",
   "metadata": {},
   "source": [
    "## Try \"extract\" instead of \"summarize\""
   ]
  },
  {
   "cell_type": "code",
   "execution_count": 13,
   "metadata": {
    "tags": []
   },
   "outputs": [
    {
     "name": "stderr",
     "output_type": "stream",
     "text": [
      "<>:11: SyntaxWarning: invalid escape sequence '\\ '\n",
      "<>:11: SyntaxWarning: invalid escape sequence '\\ '\n",
      "C:\\Users\\Ignacio\\AppData\\Local\\Temp\\ipykernel_59360\\2053972773.py:11: SyntaxWarning: invalid escape sequence '\\ '\n",
      "  \"\"\"\n"
     ]
    },
    {
     "name": "stdout",
     "output_type": "stream",
     "text": [
      "Feedback: The product arrived a day earlier than expected, which was a pleasant surprise. Customers may appreciate faster shipping times for future orders.\n"
     ]
    }
   ],
   "source": [
    "prompt = f\"\"\"\n",
    "Your task is to extract relevant information from \\ \n",
    "a product review from an ecommerce site to give \\\n",
    "feedback to the Shipping department. \n",
    "\n",
    "From the review below, delimited by triple quotes \\\n",
    "extract the information relevant to shipping and \\ \n",
    "delivery. Limit to 30 words. \n",
    "\n",
    "Review: ```{prod_review}```\n",
    "\"\"\"\n",
    "\n",
    "response = get_completion(prompt)\n",
    "print(response)"
   ]
  },
  {
   "cell_type": "markdown",
   "metadata": {},
   "source": [
    "## Summarize multiple product reviews"
   ]
  },
  {
   "cell_type": "code",
   "execution_count": 15,
   "metadata": {
    "tags": []
   },
   "outputs": [
    {
     "name": "stderr",
     "output_type": "stream",
     "text": [
      "<>:38: SyntaxWarning: invalid escape sequence '\\ '\n",
      "<>:38: SyntaxWarning: invalid escape sequence '\\ '\n",
      "C:\\Users\\Ignacio\\AppData\\Local\\Temp\\ipykernel_59360\\58617423.py:38: SyntaxWarning: invalid escape sequence '\\ '\n",
      "  review_4 = \"\"\"\n"
     ]
    }
   ],
   "source": [
    "\n",
    "review_1 = prod_review \n",
    "\n",
    "# review for a standing lamp\n",
    "review_2 = \"\"\"\n",
    "Needed a nice lamp for my bedroom, and this one \\\n",
    "had additional storage and not too high of a price \\\n",
    "point. Got it fast - arrived in 2 days. The string \\\n",
    "to the lamp broke during the transit and the company \\\n",
    "happily sent over a new one. Came within a few days \\\n",
    "as well. It was easy to put together. Then I had a \\\n",
    "missing part, so I contacted their support and they \\\n",
    "very quickly got me the missing piece! Seems to me \\\n",
    "to be a great company that cares about their customers \\\n",
    "and products. \n",
    "\"\"\"\n",
    "\n",
    "# review for an electric toothbrush\n",
    "review_3 = \"\"\"\n",
    "My dental hygienist recommended an electric toothbrush, \\\n",
    "which is why I got this. The battery life seems to be \\\n",
    "pretty impressive so far. After initial charging and \\\n",
    "leaving the charger plugged in for the first week to \\\n",
    "condition the battery, I've unplugged the charger and \\\n",
    "been using it for twice daily brushing for the last \\\n",
    "3 weeks all on the same charge. But the toothbrush head \\\n",
    "is too small. I’ve seen baby toothbrushes bigger than \\\n",
    "this one. I wish the head was bigger with different \\\n",
    "length bristles to get between teeth better because \\\n",
    "this one doesn’t.  Overall if you can get this one \\\n",
    "around the $50 mark, it's a good deal. The manufactuer's \\\n",
    "replacements heads are pretty expensive, but you can \\\n",
    "get generic ones that're more reasonably priced. This \\\n",
    "toothbrush makes me feel like I've been to the dentist \\\n",
    "every day. My teeth feel sparkly clean! \n",
    "\"\"\"\n",
    "\n",
    "# review for a blender\n",
    "review_4 = \"\"\"\n",
    "So, they still had the 17 piece system on seasonal \\\n",
    "sale for around $49 in the month of November, about \\\n",
    "half off, but for some reason (call it price gouging) \\\n",
    "around the second week of December the prices all went \\\n",
    "up to about anywhere from between $70-$89 for the same \\\n",
    "system. And the 11 piece system went up around $10 or \\\n",
    "so in price also from the earlier sale price of $29. \\\n",
    "So it looks okay, but if you look at the base, the part \\\n",
    "where the blade locks into place doesn’t look as good \\\n",
    "as in previous editions from a few years ago, but I \\\n",
    "plan to be very gentle with it (example, I crush \\\n",
    "very hard items like beans, ice, rice, etc. in the \\ \n",
    "blender first then pulverize them in the serving size \\\n",
    "I want in the blender then switch to the whipping \\\n",
    "blade for a finer flour, and use the cross cutting blade \\\n",
    "first when making smoothies, then use the flat blade \\\n",
    "if I need them finer/less pulpy). Special tip when making \\\n",
    "smoothies, finely cut and freeze the fruits and \\\n",
    "vegetables (if using spinach-lightly stew soften the \\ \n",
    "spinach then freeze until ready for use-and if making \\\n",
    "sorbet, use a small to medium sized food processor) \\ \n",
    "that you plan to use that way you can avoid adding so \\\n",
    "much ice if at all-when making your smoothie. \\\n",
    "After about a year, the motor was making a funny noise. \\\n",
    "I called customer service but the warranty expired \\\n",
    "already, so I had to buy another one. FYI: The overall \\\n",
    "quality has gone done in these types of products, so \\\n",
    "they are kind of counting on brand recognition and \\\n",
    "consumer loyalty to maintain sales. Got it in about \\\n",
    "two days.\n",
    "\"\"\"\n",
    "\n",
    "reviews = [review_1, review_2, review_3, review_4]"
   ]
  },
  {
   "cell_type": "code",
   "execution_count": 17,
   "metadata": {
    "tags": []
   },
   "outputs": [
    {
     "name": "stderr",
     "output_type": "stream",
     "text": [
      "<>:10: SyntaxWarning: invalid escape sequence '\\ '\n",
      "<>:10: SyntaxWarning: invalid escape sequence '\\ '\n",
      "C:\\Users\\Ignacio\\AppData\\Local\\Temp\\ipykernel_59360\\393577692.py:10: SyntaxWarning: invalid escape sequence '\\ '\n",
      "  \"\"\"\n"
     ]
    },
    {
     "name": "stdout",
     "output_type": "stream",
     "text": [
      "0 Summary: \n",
      "Adorable panda plush loved by daughter, but small for price. Arrived early, soft and cute. \n",
      "\n",
      "1 Great lamp with storage, fast delivery, excellent customer service for missing parts. Company cares about customers. \n",
      "\n",
      "2 Impressive battery life, small toothbrush head, good deal for $50, generic replacement heads available, leaves teeth feeling clean. \n",
      "\n",
      "3 17-piece system on sale for $49, quality decline, motor issue after a year, price increase, customer service, brand loyalty. \n",
      "\n"
     ]
    }
   ],
   "source": [
    "for i in range(len(reviews)):\n",
    "    prompt = f\"\"\"\n",
    "    Your task is to generate a short summary of a product \\ \n",
    "    review from an ecommerce site. \n",
    "\n",
    "    Summarize the review below, delimited by triple \\\n",
    "    backticks in at most 20 words. \n",
    "\n",
    "    Review: ```{reviews[i]}```\n",
    "    \"\"\"\n",
    "\n",
    "    response = get_completion(prompt)\n",
    "    print(i, response, \"\\n\")"
   ]
  },
  {
   "cell_type": "markdown",
   "metadata": {},
   "source": [
    "# Exercise\n",
    " - Complete the prompts similar to what we did in class. \n",
    "     - Try at least 3 versions\n",
    "     - Be creative\n",
    " - Write a one page report summarizing your findings.\n",
    "     - Were there variations that didn't work well? i.e., where GPT either hallucinated or wrong\n",
    " - What did you learn?"
   ]
  },
  {
   "cell_type": "code",
   "execution_count": 19,
   "metadata": {},
   "outputs": [
    {
     "name": "stdout",
     "output_type": "stream",
     "text": [
      "0 The product arrived a day early, allowing for personal inspection before gifting. Customer suggests exploring larger options for the price paid. \n",
      "\n",
      "1 Fast shipping, lamp arrived in 2 days. String broke during transit, but company promptly sent replacement. Missing part resolved quickly. Great customer service. \n",
      "\n",
      "2 The customer is satisfied with the battery life of the electric toothbrush but finds the toothbrush head too small. Overall, a good deal if purchased around $50. \n",
      "\n",
      "3 Shipping was fast, received product in two days. Quality has declined, motor made noise after a year. Prices increased after seasonal sale. \n",
      "\n"
     ]
    }
   ],
   "source": [
    "#version 1\n",
    "\n",
    "for i in range(len(reviews)):\n",
    "    prompt = f\"\"\"\n",
    "    Your task is to generate a short summary of a product \\\n",
    "    review from an ecommerce site to give feedback to the \\\n",
    "    Shipping deparmtment. \n",
    "\n",
    "    Summarize the review below, delimited by triple \n",
    "    backticks, in at most 30 words, and focusing on any aspects \\\n",
    "    that mention shipping and delivery of the product. \n",
    "\n",
    "    Review: ```{reviews[i]}```\n",
    "    \"\"\"\n",
    "\n",
    "    response = get_completion(prompt)\n",
    "    print(i, response, \"\\n\")"
   ]
  },
  {
   "cell_type": "code",
   "execution_count": 21,
   "metadata": {},
   "outputs": [
    {
     "name": "stdout",
     "output_type": "stream",
     "text": [
      "0 The panda plush toy is loved for its softness and cuteness, but some feel it's a bit small for the price. Consider offering larger options for the same price. \n",
      "\n",
      "1 Great lamp with storage, reasonable price, fast delivery. Company has excellent customer service, making it worth the price. \n",
      "\n",
      "2 Overall, the electric toothbrush has impressive battery life but the small head size is a drawback. At around $50, it's a good deal considering the cost of replacement heads. \n",
      "\n",
      "3 The product had a significant price increase after a seasonal sale, with some concerns about the quality of certain components. Consider value for price. \n",
      "\n"
     ]
    }
   ],
   "source": [
    "#Version 2\n",
    "\n",
    "for i in range(len(reviews)):\n",
    "    prompt = f\"\"\"\n",
    "    Your task is to generate a short summary of a product \\\n",
    "    review from an ecommerce site to give feedback to the \\\n",
    "    pricing deparmtment, responsible for determining the \\\n",
    "    price of the product.  \n",
    "\n",
    "    Summarize the review below, delimited by triple \n",
    "    backticks, in at most 30 words, and focusing on any aspects \\\n",
    "    that are relevant to the price and perceived value. \n",
    "\n",
    "    Review: ```{reviews[i]}```\n",
    "    \"\"\"\n",
    "\n",
    "    response = get_completion(prompt)\n",
    "    print(i, response, \"\\n\")"
   ]
  },
  {
   "cell_type": "code",
   "execution_count": 23,
   "metadata": {},
   "outputs": [
    {
     "name": "stdout",
     "output_type": "stream",
     "text": [
      "0 The panda plush toy is loved for its softness and cuteness, but some feel it's a bit small for the price. Consider offering larger options for the same price. \n",
      "\n",
      "1 Great lamp with storage, reasonable price, fast delivery. Company has excellent customer service, making it worth the price. \n",
      "\n",
      "2 Overall, the electric toothbrush has impressive battery life but the small head size is a drawback. At around $50, it's a good deal, especially with cheaper generic replacement heads available. \n",
      "\n",
      "3 The product had a significant price increase after a seasonal sale, with some concerns about the quality of certain components. Consider value for price. \n",
      "\n"
     ]
    }
   ],
   "source": [
    "#Version 3\n",
    "\n",
    "for i in range(len(reviews)):\n",
    "    prompt = f\"\"\"\n",
    "    Your task is to generate a short summary of a product \\\n",
    "    review from an ecommerce site to give feedback to the \\\n",
    "    pricing deparmtment, responsible for determining the \\\n",
    "    price of the product.  \n",
    "\n",
    "    Summarize the review below, delimited by triple \n",
    "    backticks, in at most 30 words, and focusing on any aspects \\\n",
    "    that are relevant to the price and perceived value. \n",
    "\n",
    "    Review: ```{reviews[i]}```\n",
    "    \"\"\"\n",
    "\n",
    "    response = get_completion(prompt)\n",
    "    print(i, response, \"\\n\")"
   ]
  },
  {
   "cell_type": "code",
   "execution_count": 25,
   "metadata": {},
   "outputs": [
    {
     "name": "stderr",
     "output_type": "stream",
     "text": [
      "<>:14: SyntaxWarning: invalid escape sequence '\\ '\n",
      "<>:14: SyntaxWarning: invalid escape sequence '\\ '\n",
      "C:\\Users\\Ignacio\\AppData\\Local\\Temp\\ipykernel_59360\\651298148.py:14: SyntaxWarning: invalid escape sequence '\\ '\n",
      "  \"\"\"\n"
     ]
    },
    {
     "name": "stdout",
     "output_type": "stream",
     "text": [
      "0 Feedback: The product arrived a day earlier than expected, allowing the customer to play with it before giving it as a gift. \n",
      "\n",
      "1 Feedback: The lamp arrived fast in 2 days, but the string broke during transit. Company promptly sent a new one. Missing part was quickly resolved by their support team. \n",
      "\n",
      "2 Feedback for Shipping department: Customer is satisfied with battery life and overall performance of the product. However, they mention the toothbrush head being too small and wish for better bristle design for teeth cleaning. \n",
      "\n",
      "3 Feedback to Shipping Department: The customer received the product in about two days, which is satisfactory. No other relevant shipping or delivery information was mentioned in the review. \n",
      "\n"
     ]
    }
   ],
   "source": [
    "#Version 4\n",
    "\n",
    "for i in range(len(reviews)):\n",
    "    prompt = f\"\"\"\n",
    "    Your task is to extract relevant information from \\ \n",
    "    a product review from an ecommerce site to give \\\n",
    "    feedback to the Shipping department. \n",
    "\n",
    "    From the review below, delimited by triple quotes \\\n",
    "    extract the information relevant to shipping and \\ \n",
    "    delivery. Limit to 30 words.  \n",
    "\n",
    "    Review: ```{reviews[i]}```\n",
    "    \"\"\"\n",
    "\n",
    "    response = get_completion(prompt)\n",
    "    print(i, response, \"\\n\")"
   ]
  },
  {
   "cell_type": "code",
   "execution_count": 27,
   "metadata": {},
   "outputs": [
    {
     "name": "stderr",
     "output_type": "stream",
     "text": [
      "<>:11: SyntaxWarning: invalid escape sequence '\\ '\n",
      "<>:11: SyntaxWarning: invalid escape sequence '\\ '\n",
      "C:\\Users\\Ignacio\\AppData\\Local\\Temp\\ipykernel_59360\\3876126014.py:11: SyntaxWarning: invalid escape sequence '\\ '\n",
      "  \"\"\"\n"
     ]
    },
    {
     "name": "stdout",
     "output_type": "stream",
     "text": [
      "0 Summary:\n",
      "The reviewer purchased a panda plush toy for their daughter's birthday and mentioned that she loves it and takes it everywhere. They found the toy to be soft, cute, and with a friendly face. However, they felt it was a bit small for the price paid and suggested there might be larger options available for the same price. The reviewer also noted that the toy arrived a day earlier than expected, allowing them to play with it before giving it to their daughter. \n",
      "\n",
      "1 The reviewer was pleased with the lamp's additional storage and affordable price. Despite issues with the lamp's string and a missing part, the company provided quick and efficient customer support, showcasing their dedication to customer satisfaction. Overall, the reviewer found the company to be caring and the product to be of good quality. \n",
      "\n",
      "2 The reviewer highly values the electric toothbrush's impressive battery life and overall performance. However, they express disappointment in the small toothbrush head size, wishing for larger and more effective bristles. Despite this, they recommend the product for its effectiveness and affordability, especially when purchased at around $50. The reviewer also mentions the availability of cheaper generic replacement heads as a cost-saving option. Overall, the toothbrush leaves their teeth feeling exceptionally clean, akin to a professional dental cleaning. \n",
      "\n",
      "3 The reviewer noted a significant price increase in the product after a seasonal sale, with the base of the system not looking as good as previous editions. They shared tips on using the blender and mentioned the motor making a funny noise after a year, leading to the need to purchase another one due to expired warranty. The overall quality of the product was perceived to have decreased over time. \n",
      "\n"
     ]
    }
   ],
   "source": [
    "#Version 5\n",
    "\n",
    "for i in range(len(reviews)):\n",
    "    prompt = f\"\"\"\n",
    "    Your task is to generate a summary of a product \\ \n",
    "    review from an ecommerce site, focusing on the \\\n",
    "    reviewers opinions. \n",
    "\n",
    "    Summarize the review below, delimited by triple \\\n",
    "    backticks in at minimum 30 words. \n",
    "\n",
    "    Review: ```{reviews[i]}```\n",
    "    \"\"\"\n",
    "\n",
    "    response = get_completion(prompt)\n",
    "    print(i, response, \"\\n\")"
   ]
  },
  {
   "cell_type": "code",
   "execution_count": 31,
   "metadata": {},
   "outputs": [
    {
     "name": "stdout",
     "output_type": "stream",
     "text": [
      "0 Based on the review, the reviewer appears to be thoughtful and caring, as they purchased a panda plush toy for their daughter's birthday. They also seem to have a playful side, as they mentioned playing with the toy before giving it to their daughter. Additionally, they are practical and value-conscious, as they mentioned the size of the toy in relation to its price. \n",
      "\n",
      "1 Based on the review, the reviewer appears to be someone who values practicality and affordability in their purchases. They appreciate good customer service and are patient when it comes to resolving issues with products. Overall, they seem to have a positive and optimistic outlook. \n",
      "\n",
      "2 Based on the review, the reviewer appears to be detail-oriented, practical, and value-conscious. They follow recommendations and take care of their belongings by conditioning the battery. They are also observant of product features and seek cost-effective alternatives for replacements. Overall, they prioritize functionality and effectiveness in their purchases. \n",
      "\n",
      "3 Based on the review, the reviewer appears to be detail-oriented, practical, and experienced with the product. They are observant of price changes, product quality, and have specific tips for product usage. Additionally, they seem to value efficiency and have a sense of loyalty towards brands. \n",
      "\n"
     ]
    }
   ],
   "source": [
    "#Version 6\n",
    "\n",
    "for i in range(len(reviews)):\n",
    "    prompt = f\"\"\"\n",
    "    Your task is to generate an analysis of the reviewer's personality \\\n",
    "    based of a product review they made from an ecommerce site. \n",
    "\n",
    "    Analize the review below, delimited by triple \\\n",
    "    backticks in at minimum 20 words. \n",
    "\n",
    "    Review: ```{reviews[i]}```\n",
    "    \"\"\"\n",
    "\n",
    "    response = get_completion(prompt)\n",
    "    print(i, response, \"\\n\")"
   ]
  },
  {
   "cell_type": "code",
   "execution_count": 33,
   "metadata": {},
   "outputs": [
    {
     "name": "stdout",
     "output_type": "stream",
     "text": [
      "0 Number of words in the product review: 66\n",
      "Number of nouns in the product review: 24\n",
      "Number of verbs in the product review: 12 \n",
      "\n",
      "1 Number of words in the product review: 87\n",
      "\n",
      "Number of nouns in the product review: 34\n",
      "\n",
      "Number of verbs in the product review: 17 \n",
      "\n",
      "2 Number of words in the product review: 143\n",
      "\n",
      "Number of nouns in the product review: 58\n",
      "\n",
      "Number of verbs in the product review: 33 \n",
      "\n",
      "3 Number of words in the product review: 234\n",
      "\n",
      "Number of nouns in the product review: 123\n",
      "\n",
      "Number of verbs in the product review: 61 \n",
      "\n"
     ]
    }
   ],
   "source": [
    "#version 7\n",
    "\n",
    "for i in range(len(reviews)):\n",
    "    prompt = f\"\"\"\n",
    "    Your task is to count the number of words inside of a product \\\n",
    "    review from an ecommerce site. \n",
    "\n",
    "    Display the number value of how many words were counted in the product review.\\\n",
    "    Display the number value of how many nouns were counted in the product review.\\\n",
    "    Display the number value of how many verbs were counted in the product review.\n",
    "\n",
    "    Review: ```{reviews[i]}```\n",
    "    \"\"\"\n",
    "\n",
    "    response = get_completion(prompt)\n",
    "    print(i, response, \"\\n\")"
   ]
  },
  {
   "cell_type": "code",
   "execution_count": null,
   "metadata": {},
   "outputs": [],
   "source": [
    "Report on summarizing reviews\n",
    "\n",
    "During the testing of the Review Sumariser system, varios versions were evaluated.\n",
    "\n",
    "In the versions 1 to 4 uses the same promts as the ones used in the single review code, which worked as intended.\n",
    "\n",
    "In the version 5 to 7 I started to implement some creative ideas/implimingtation of the reviews. \n",
    "    \n",
    "On version 5, I just changed the maximum parameter to a minimum to see if it writes more.\n",
    "On version 6, I made it so that it analizes the reviews personallity based of their review.\n",
    "Lastly, on version 7, I made it count the amount of words, verbs and nouns that each the review had."
   ]
  },
  {
   "cell_type": "code",
   "execution_count": null,
   "metadata": {},
   "outputs": [],
   "source": [
    "I learned how to make the code summarise the text I give it.\n",
    "\n",
    "I also learned how to make it analize the text as well. "
   ]
  }
 ],
 "metadata": {
  "kernelspec": {
   "display_name": "Python 3 (ipykernel)",
   "language": "python",
   "name": "python3"
  },
  "language_info": {
   "codemirror_mode": {
    "name": "ipython",
    "version": 3
   },
   "file_extension": ".py",
   "mimetype": "text/x-python",
   "name": "python",
   "nbconvert_exporter": "python",
   "pygments_lexer": "ipython3",
   "version": "3.12.7"
  }
 },
 "nbformat": 4,
 "nbformat_minor": 4
}
