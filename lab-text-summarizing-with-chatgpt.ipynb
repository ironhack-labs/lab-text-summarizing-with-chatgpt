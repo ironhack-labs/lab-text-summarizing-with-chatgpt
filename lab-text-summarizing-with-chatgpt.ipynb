{
 "cells": [
  {
   "cell_type": "markdown",
   "metadata": {},
   "source": [
    "# Text summarizing with ChaptGPT\n",
    "In this lesson, you will summarize text with a focus on specific topics.\n",
    "\n",
    "## Setup"
   ]
  },
  {
   "cell_type": "code",
   "execution_count": 1,
   "metadata": {
    "tags": []
   },
   "outputs": [],
   "source": [
    "from openai import OpenAI\n",
    "import os\n",
    "\n",
    "from dotenv import load_dotenv, find_dotenv\n",
    "_ = load_dotenv(find_dotenv()) # read local .env file\n",
    "\n",
    "OPENAI_API_KEY  = os.getenv('OPENAI_API_KEY')"
   ]
  },
  {
   "cell_type": "code",
   "execution_count": 2,
   "metadata": {
    "tags": []
   },
   "outputs": [],
   "source": [
    "client = OpenAI(\n",
    "    # This is the default and can be omitted\n",
    "    api_key=OPENAI_API_KEY,\n",
    ")\n",
    "\n",
    "\n",
    "def get_completion(prompt, model=\"gpt-3.5-turbo\"): # Andrew mentioned that the prompt/ completion paradigm is preferable for this class\n",
    "    messages = [{\"role\": \"user\", \"content\": prompt}]\n",
    "    response = client.chat.completions.create(\n",
    "        model=model,\n",
    "        messages=messages,\n",
    "        temperature=0, # this is the degree of randomness of the model's output\n",
    "    )\n",
    "    return response.choices[0].message.content\n"
   ]
  },
  {
   "cell_type": "markdown",
   "metadata": {},
   "source": [
    "## Text to summarize"
   ]
  },
  {
   "cell_type": "code",
   "execution_count": 3,
   "metadata": {
    "tags": []
   },
   "outputs": [],
   "source": [
    "prod_review = \"\"\"\n",
    "Got this panda plush toy for my daughter's birthday, \\\n",
    "who loves it and takes it everywhere. It's soft and \\ \n",
    "super cute, and its face has a friendly look. It's \\ \n",
    "a bit small for what I paid though. I think there \\ \n",
    "might be other options that are bigger for the \\ \n",
    "same price. It arrived a day earlier than expected, \\ \n",
    "so I got to play with it myself before I gave it \\ \n",
    "to her.\n",
    "\"\"\""
   ]
  },
  {
   "cell_type": "markdown",
   "metadata": {},
   "source": [
    "## Summarize with a word/sentence/character limit"
   ]
  },
  {
   "cell_type": "code",
   "execution_count": 4,
   "metadata": {
    "tags": []
   },
   "outputs": [
    {
     "name": "stdout",
     "output_type": "stream",
     "text": [
      "Soft, cute panda plush loved by daughter, but smaller than expected for the price. Arrived early, friendly face.\n"
     ]
    }
   ],
   "source": [
    "prompt = f\"\"\"\n",
    "Your task is to generate a short summary of a product \\\n",
    "review from an ecommerce site. \n",
    "\n",
    "Summarize the review below, delimited by triple \n",
    "backticks, in at most 30 words. \n",
    "\n",
    "Review: ```{prod_review}```\n",
    "\"\"\"\n",
    "\n",
    "response = get_completion(prompt)\n",
    "print(response)\n"
   ]
  },
  {
   "cell_type": "markdown",
   "metadata": {},
   "source": [
    "## Summarize with a focus on shipping and delivery"
   ]
  },
  {
   "cell_type": "code",
   "execution_count": 5,
   "metadata": {
    "tags": []
   },
   "outputs": [
    {
     "name": "stdout",
     "output_type": "stream",
     "text": [
      "The customer was pleased with the early delivery of the panda plush toy, but felt it was slightly small for the price paid.\n"
     ]
    }
   ],
   "source": [
    "prompt = f\"\"\"\n",
    "Your task is to generate a short summary of a product \\\n",
    "review from an ecommerce site to give feedback to the \\\n",
    "Shipping deparmtment. \n",
    "\n",
    "Summarize the review below, delimited by triple \n",
    "backticks, in at most 30 words, and focusing on any aspects \\\n",
    "that mention shipping and delivery of the product. \n",
    "\n",
    "Review: ```{prod_review}```\n",
    "\"\"\"\n",
    "\n",
    "response = get_completion(prompt)\n",
    "print(response)\n"
   ]
  },
  {
   "cell_type": "markdown",
   "metadata": {},
   "source": [
    "## Summarize with a focus on price and value"
   ]
  },
  {
   "cell_type": "code",
   "execution_count": 6,
   "metadata": {
    "tags": []
   },
   "outputs": [
    {
     "name": "stdout",
     "output_type": "stream",
     "text": [
      "The panda plush toy is loved for its softness and cuteness, but some customers feel it's a bit small for the price.\n"
     ]
    }
   ],
   "source": [
    "prompt = f\"\"\"\n",
    "Your task is to generate a short summary of a product \\\n",
    "review from an ecommerce site to give feedback to the \\\n",
    "pricing deparmtment, responsible for determining the \\\n",
    "price of the product.  \n",
    "\n",
    "Summarize the review below, delimited by triple \n",
    "backticks, in at most 30 words, and focusing on any aspects \\\n",
    "that are relevant to the price and perceived value. \n",
    "\n",
    "Review: ```{prod_review}```\n",
    "\"\"\"\n",
    "\n",
    "response = get_completion(prompt)\n",
    "print(response)\n"
   ]
  },
  {
   "cell_type": "markdown",
   "metadata": {},
   "source": [
    "#### Comment\n",
    "- Summaries include topics that are not related to the topic of focus."
   ]
  },
  {
   "cell_type": "markdown",
   "metadata": {},
   "source": [
    "## Try \"extract\" instead of \"summarize\""
   ]
  },
  {
   "cell_type": "code",
   "execution_count": 7,
   "metadata": {
    "tags": []
   },
   "outputs": [
    {
     "name": "stdout",
     "output_type": "stream",
     "text": [
      "Feedback: The product arrived a day earlier than expected, which was a pleasant surprise. Customers may prefer larger options for the same price.\n"
     ]
    }
   ],
   "source": [
    "prompt = f\"\"\"\n",
    "Your task is to extract relevant information from \\ \n",
    "a product review from an ecommerce site to give \\\n",
    "feedback to the Shipping department. \n",
    "\n",
    "From the review below, delimited by triple quotes \\\n",
    "extract the information relevant to shipping and \\ \n",
    "delivery. Limit to 30 words. \n",
    "\n",
    "Review: ```{prod_review}```\n",
    "\"\"\"\n",
    "\n",
    "response = get_completion(prompt)\n",
    "print(response)"
   ]
  },
  {
   "cell_type": "markdown",
   "metadata": {},
   "source": [
    "## Summarize multiple product reviews"
   ]
  },
  {
   "cell_type": "code",
   "execution_count": 8,
   "metadata": {
    "tags": []
   },
   "outputs": [],
   "source": [
    "\n",
    "review_1 = prod_review \n",
    "\n",
    "# review for a standing lamp\n",
    "review_2 = \"\"\"\n",
    "Needed a nice lamp for my bedroom, and this one \\\n",
    "had additional storage and not too high of a price \\\n",
    "point. Got it fast - arrived in 2 days. The string \\\n",
    "to the lamp broke during the transit and the company \\\n",
    "happily sent over a new one. Came within a few days \\\n",
    "as well. It was easy to put together. Then I had a \\\n",
    "missing part, so I contacted their support and they \\\n",
    "very quickly got me the missing piece! Seems to me \\\n",
    "to be a great company that cares about their customers \\\n",
    "and products. \n",
    "\"\"\"\n",
    "\n",
    "# review for an electric toothbrush\n",
    "review_3 = \"\"\"\n",
    "My dental hygienist recommended an electric toothbrush, \\\n",
    "which is why I got this. The battery life seems to be \\\n",
    "pretty impressive so far. After initial charging and \\\n",
    "leaving the charger plugged in for the first week to \\\n",
    "condition the battery, I've unplugged the charger and \\\n",
    "been using it for twice daily brushing for the last \\\n",
    "3 weeks all on the same charge. But the toothbrush head \\\n",
    "is too small. I’ve seen baby toothbrushes bigger than \\\n",
    "this one. I wish the head was bigger with different \\\n",
    "length bristles to get between teeth better because \\\n",
    "this one doesn’t.  Overall if you can get this one \\\n",
    "around the $50 mark, it's a good deal. The manufactuer's \\\n",
    "replacements heads are pretty expensive, but you can \\\n",
    "get generic ones that're more reasonably priced. This \\\n",
    "toothbrush makes me feel like I've been to the dentist \\\n",
    "every day. My teeth feel sparkly clean! \n",
    "\"\"\"\n",
    "\n",
    "# review for a blender\n",
    "review_4 = \"\"\"\n",
    "So, they still had the 17 piece system on seasonal \\\n",
    "sale for around $49 in the month of November, about \\\n",
    "half off, but for some reason (call it price gouging) \\\n",
    "around the second week of December the prices all went \\\n",
    "up to about anywhere from between $70-$89 for the same \\\n",
    "system. And the 11 piece system went up around $10 or \\\n",
    "so in price also from the earlier sale price of $29. \\\n",
    "So it looks okay, but if you look at the base, the part \\\n",
    "where the blade locks into place doesn’t look as good \\\n",
    "as in previous editions from a few years ago, but I \\\n",
    "plan to be very gentle with it (example, I crush \\\n",
    "very hard items like beans, ice, rice, etc. in the \\ \n",
    "blender first then pulverize them in the serving size \\\n",
    "I want in the blender then switch to the whipping \\\n",
    "blade for a finer flour, and use the cross cutting blade \\\n",
    "first when making smoothies, then use the flat blade \\\n",
    "if I need them finer/less pulpy). Special tip when making \\\n",
    "smoothies, finely cut and freeze the fruits and \\\n",
    "vegetables (if using spinach-lightly stew soften the \\ \n",
    "spinach then freeze until ready for use-and if making \\\n",
    "sorbet, use a small to medium sized food processor) \\ \n",
    "that you plan to use that way you can avoid adding so \\\n",
    "much ice if at all-when making your smoothie. \\\n",
    "After about a year, the motor was making a funny noise. \\\n",
    "I called customer service but the warranty expired \\\n",
    "already, so I had to buy another one. FYI: The overall \\\n",
    "quality has gone done in these types of products, so \\\n",
    "they are kind of counting on brand recognition and \\\n",
    "consumer loyalty to maintain sales. Got it in about \\\n",
    "two days.\n",
    "\"\"\"\n",
    "\n",
    "reviews = [review_1, review_2, review_3, review_4]"
   ]
  },
  {
   "cell_type": "code",
   "execution_count": 9,
   "metadata": {
    "tags": []
   },
   "outputs": [
    {
     "name": "stdout",
     "output_type": "stream",
     "text": [
      "0 Summary: \n",
      "Adorable panda plush loved by daughter, but small for price. Arrived early, soft and cute. \n",
      "\n",
      "1 Great lamp with storage, fast delivery, excellent customer service for missing parts. Easy to assemble. \n",
      "\n",
      "2 Impressive battery life, small toothbrush head, good deal for $50, generic replacement heads available, leaves teeth feeling clean. \n",
      "\n",
      "3 17-piece system on sale for $49, quality decline, motor issue after a year, price increase, customer service, brand loyalty. \n",
      "\n"
     ]
    }
   ],
   "source": [
    "for i in range(len(reviews)):\n",
    "    prompt = f\"\"\"\n",
    "    Your task is to generate a short summary of a product \\ \n",
    "    review from an ecommerce site. \n",
    "\n",
    "    Summarize the review below, delimited by triple \\\n",
    "    backticks in at most 20 words. \n",
    "\n",
    "    Review: ```{reviews[i]}```\n",
    "    \"\"\"\n",
    "\n",
    "    response = get_completion(prompt)\n",
    "    print(i, response, \"\\n\")"
   ]
  },
  {
   "cell_type": "markdown",
   "metadata": {},
   "source": [
    "# Exercise\n",
    " - Complete the prompts similar to what we did in class. \n",
    "     - Try at least 3 versions\n",
    "     - Be creative\n",
    " - Write a one page report summarizing your findings.\n",
    "     - Were there variations that didn't work well? i.e., where GPT either hallucinated or wrong\n",
    " - What did you learn?"
   ]
  },
  {
   "cell_type": "code",
   "execution_count": 10,
   "metadata": {},
   "outputs": [
    {
     "name": "stdout",
     "output_type": "stream",
     "text": [
      "Resumen enfocado en características físicas:\n",
      "Soft and cute panda plush toy, slightly small for the price. Friendly face, good quality material, arrived early.\n"
     ]
    }
   ],
   "source": [
    "prompt = f\"\"\"\n",
    "Your task is to generate a short summary of a product \\\n",
    "review from an ecommerce site focusing on the product's \\\n",
    "physical characteristics and quality.\n",
    "\n",
    "Summarize the review below, delimited by triple \n",
    "backticks, in at most 30 words, highlighting material, \\\n",
    "size, and build quality.\n",
    "\n",
    "Review: ```{prod_review}```\n",
    "\"\"\"\n",
    "\n",
    "response = get_completion(prompt)\n",
    "print(\"Resumen enfocado en características físicas:\")\n",
    "print(response)"
   ]
  },
  {
   "cell_type": "code",
   "execution_count": 11,
   "metadata": {},
   "outputs": [
    {
     "name": "stdout",
     "output_type": "stream",
     "text": [
      "\n",
      "Resumen enfocado en experiencia de usuario:\n",
      "Customer delighted with panda plush toy, daughter loves it. Soft, cute, friendly face. Slight disappointment in size for price, but early delivery brought joy.\n"
     ]
    }
   ],
   "source": [
    "prompt = f\"\"\"\n",
    "Your task is to generate a short summary of a product \\\n",
    "review from an ecommerce site focusing on the customer's \\\n",
    "experience and emotional response.\n",
    "\n",
    "Summarize the review below, delimited by triple \n",
    "backticks, in at most 30 words, highlighting customer \\\n",
    "satisfaction and emotional reactions.\n",
    "\n",
    "Review: ```{prod_review}```\n",
    "\"\"\"\n",
    "\n",
    "response = get_completion(prompt)\n",
    "print(\"\\nResumen enfocado en experiencia de usuario:\")\n",
    "print(response)"
   ]
  },
  {
   "cell_type": "code",
   "execution_count": 12,
   "metadata": {},
   "outputs": [
    {
     "name": "stdout",
     "output_type": "stream",
     "text": [
      "\n",
      "Resumen enfocado en relación calidad-precio:\n",
      "The panda plush toy is soft, cute, and loved by the daughter, but the reviewer feels it's a bit small for the price paid.\n"
     ]
    }
   ],
   "source": [
    "prompt = f\"\"\"\n",
    "Your task is to generate a short summary of a product \\\n",
    "review from an ecommerce site focusing on value for money \\\n",
    "and price comparison.\n",
    "\n",
    "Summarize the review below, delimited by triple \n",
    "backticks, in at most 30 words, highlighting price points \\\n",
    "and perceived value.\n",
    "\n",
    "Review: ```{prod_review}```\n",
    "\"\"\"\n",
    "\n",
    "response = get_completion(prompt)\n",
    "print(\"\\nResumen enfocado en relación calidad-precio:\")\n",
    "print(response)"
   ]
  },
  {
   "cell_type": "code",
   "execution_count": 13,
   "metadata": {},
   "outputs": [
    {
     "name": "stdout",
     "output_type": "stream",
     "text": [
      "\n",
      "Prueba con Review 1:\n",
      "======================================================================\n",
      "Review original: \n",
      "Got this panda plush toy for my daughter's birthday, who loves it and takes it everywhere. It's soft and \\ \n",
      "super cute, and its face has a friendly look. It's \\ \n",
      "a bit small for what I paid though. I think there \\ \n",
      "might be other options that are bigger for the \\ \n",
      "same price. It arrived a day earlier than expected, \\ \n",
      "so I got to play with it myself before I gave it \\ \n",
      "to her.\n",
      " \n",
      "\n",
      "\n",
      "Resumen Características Físicas:\n",
      "```\n",
      "Soft and cute panda plush toy, friendly face, slightly small for price. Material quality good, arrived early. Consider size options.\n",
      "```\n",
      "--------------------------------------------------\n",
      "\n",
      "Resumen Experiencia de Usuario:\n",
      "Customer delighted with panda plush toy, daughter loves it. Soft, cute, friendly face. Slight disappointment in size for price, but early delivery brought joy.\n",
      "--------------------------------------------------\n",
      "\n",
      "Resumen Relación Calidad-Precio:\n",
      "```\n",
      "Cute panda plush toy, soft and loved by daughter. Price slightly high for size, potential for better value with larger options at same cost. Early delivery a bonus.\n",
      "```\n",
      "--------------------------------------------------\n",
      "\n",
      "Prueba con Review 2:\n",
      "======================================================================\n",
      "Review original: \n",
      "Needed a nice lamp for my bedroom, and this one had additional storage and not too high of a price point. Got it fast - arrived in 2 days. The string to the lamp broke during the transit and the company happily sent over a new one. Came within a few days as well. It was easy to put together. Then I had a missing part, so I contacted their support and they very quickly got me the missing piece! Seems to me to be a great company that cares about their customers and products. \n",
      " \n",
      "\n",
      "\n",
      "Resumen Características Físicas:\n",
      "Great lamp with storage, fast delivery, sturdy build. Company has excellent customer service, quickly replaced broken parts. Easy assembly, quality product.\n",
      "--------------------------------------------------\n",
      "\n",
      "Resumen Experiencia de Usuario:\n",
      "Customer thrilled with lamp purchase, impressed by fast delivery, responsive customer service, and overall positive experience. Great company that values customers.\n",
      "--------------------------------------------------\n",
      "\n",
      "Resumen Relación Calidad-Precio:\n",
      "Great value for money with additional storage, fast delivery, and excellent customer service for missing parts. Company cares about customers and products.\n",
      "--------------------------------------------------\n",
      "\n",
      "Prueba con Review 3:\n",
      "======================================================================\n",
      "Review original: \n",
      "My dental hygienist recommended an electric toothbrush, which is why I got this. The battery life seems to be pretty impressive so far. After initial charging and leaving the charger plugged in for the first week to condition the battery, I've unplugged the charger and been using it for twice daily brushing for the last 3 weeks all on the same charge. But the toothbrush head is too small. I’ve seen baby toothbrushes bigger than this one. I wish the head was bigger with different length bristles to get between teeth better because this one doesn’t.  Overall if you can get this one around the $50 mark, it's a good deal. The manufactuer's replacements heads are pretty expensive, but you can get generic ones that're more reasonably priced. This toothbrush makes me feel like I've been to the dentist every day. My teeth feel sparkly clean! \n",
      " \n",
      "\n",
      "\n",
      "Resumen Características Físicas:\n",
      "```\n",
      "Impressive battery life, small toothbrush head, good quality for $50. Generic replacement heads available. Leaves teeth feeling clean like a dentist visit.\n",
      "```\n",
      "--------------------------------------------------\n",
      "\n",
      "Resumen Experiencia de Usuario:\n",
      "Customer is satisfied with battery life and overall performance of the electric toothbrush. Feels like teeth are professionally cleaned daily, despite small brush head.\n",
      "--------------------------------------------------\n",
      "\n",
      "Resumen Relación Calidad-Precio:\n",
      "```\n",
      "Impressive battery life, small toothbrush head, good value at $50. Generic replacement heads are more affordable. Leaves teeth feeling clean like a dentist visit.\n",
      "```\n",
      "--------------------------------------------------\n",
      "\n",
      "Prueba con Review 4:\n",
      "======================================================================\n",
      "Review original: \n",
      "So, they still had the 17 piece system on seasonal sale for around $49 in the month of November, about half off, but for some reason (call it price gouging) around the second week of December the prices all went up to about anywhere from between $70-$89 for the same system. And the 11 piece system went up around $10 or so in price also from the earlier sale price of $29. So it looks okay, but if you look at the base, the part where the blade locks into place doesn’t look as good as in previous editions from a few years ago, but I plan to be very gentle with it (example, I crush very hard items like beans, ice, rice, etc. in the \\ \n",
      "blender first then pulverize them in the serving size I want in the blender then switch to the whipping blade for a finer flour, and use the cross cutting blade first when making smoothies, then use the flat blade if I need them finer/less pulpy). Special tip when making smoothies, finely cut and freeze the fruits and vegetables (if using spinach-lightly stew soften the \\ \n",
      "spinach then freeze until ready for use-and if making sorbet, use a small to medium sized food processor) \\ \n",
      "that you plan to use that way you can avoid adding so much ice if at all-when making your smoothie. After about a year, the motor was making a funny noise. I called customer service but the warranty expired already, so I had to buy another one. FYI: The overall quality has gone done in these types of products, so they are kind of counting on brand recognition and consumer loyalty to maintain sales. Got it in about two days.\n",
      " \n",
      "\n",
      "\n",
      "Resumen Características Físicas:\n",
      "Summary: Blender system price increased, base quality decreased, motor noise after a year. Material and build quality not as good as previous versions.\n",
      "--------------------------------------------------\n",
      "\n",
      "Resumen Experiencia de Usuario:\n",
      "Customer was initially satisfied with the product on sale, but disappointed by price increase and quality decline. Emotional response included frustration and resignation.\n",
      "--------------------------------------------------\n",
      "\n",
      "Resumen Relación Calidad-Precio:\n",
      "Summary: The product had a good value during a sale at $49, but price increased to $70-$89 later. Quality has declined, leading to motor issues after a year.\n",
      "--------------------------------------------------\n"
     ]
    }
   ],
   "source": [
    "def test_summaries(review_text):\n",
    "    prompts = [\n",
    "        {\n",
    "            \"name\": \"Características Físicas\",\n",
    "            \"focus\": \"physical characteristics and quality\",\n",
    "            \"highlight\": \"material, size, and build quality\"\n",
    "        },\n",
    "        {\n",
    "            \"name\": \"Experiencia de Usuario\",\n",
    "            \"focus\": \"customer's experience and emotional response\",\n",
    "            \"highlight\": \"customer satisfaction and emotional reactions\"\n",
    "        },\n",
    "        {\n",
    "            \"name\": \"Relación Calidad-Precio\",\n",
    "            \"focus\": \"value for money and price comparison\",\n",
    "            \"highlight\": \"price points and perceived value\"\n",
    "        }\n",
    "    ]\n",
    "    \n",
    "    print(\"Review original:\", review_text, \"\\n\")\n",
    "    \n",
    "    for p in prompts:\n",
    "        prompt = f\"\"\"\n",
    "        Your task is to generate a short summary of a product \\\n",
    "        review from an ecommerce site focusing on {p['focus']}.\n",
    "\n",
    "        Summarize the review below, delimited by triple \n",
    "        backticks, in at most 30 words, highlighting {p['highlight']}.\n",
    "\n",
    "        Review: ```{review_text}```\n",
    "        \"\"\"\n",
    "        \n",
    "        response = get_completion(prompt)\n",
    "        print(f\"\\nResumen {p['name']}:\")\n",
    "        print(response)\n",
    "        print(\"-\" * 50)\n",
    "\n",
    "# Probar con diferentes reviews\n",
    "for i, review in enumerate(reviews):\n",
    "    print(f\"\\nPrueba con Review {i+1}:\")\n",
    "    print(\"=\" * 70)\n",
    "    test_summaries(review)"
   ]
  },
  {
   "cell_type": "markdown",
   "metadata": {},
   "source": [
    "# Reporte Final\n",
    "\n",
    "En este laboratorio, hemos desarrollado un sistema de resumen de reseñas de productos utilizando ChatGPT. El sistema es capaz de:\n",
    "\n",
    "1. Procesar reseñas de productos y generar resúmenes concisos enfocados en tres aspectos clave:\n",
    "   - Características Físicas del producto\n",
    "   - Experiencia del Usuario\n",
    "   - Relación Calidad-Precio\n",
    "\n",
    "2. Cada resumen está limitado a 30 palabras para mantener la concisión y relevancia.\n",
    "\n",
    "3. El sistema utiliza prompts específicos para cada categoría, asegurando que los resúmenes se centren en los aspectos más importantes de cada área.\n",
    "\n",
    "4. Los resultados muestran la capacidad del sistema para:\n",
    "   - Extraer información relevante de reseñas largas\n",
    "   - Mantener la objetividad en los resúmenes\n",
    "   - Proporcionar información útil para diferentes aspectos del producto\n",
    "\n",
    "Este enfoque permite a los usuarios obtener rápidamente información crucial sobre productos desde múltiples perspectivas.\n"
   ]
  }
 ],
 "metadata": {
  "kernelspec": {
   "display_name": "Python 3 (ipykernel)",
   "language": "python",
   "name": "python3"
  },
  "language_info": {
   "codemirror_mode": {
    "name": "ipython",
    "version": 3
   },
   "file_extension": ".py",
   "mimetype": "text/x-python",
   "name": "python",
   "nbconvert_exporter": "python",
   "pygments_lexer": "ipython3",
   "version": "3.9.21"
  }
 },
 "nbformat": 4,
 "nbformat_minor": 4
}
