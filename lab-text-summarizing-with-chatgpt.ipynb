{
 "cells": [
  {
   "cell_type": "markdown",
   "metadata": {},
   "source": [
    "# Text summarizing with ChaptGPT\n",
    "In this lesson, you will summarize text with a focus on specific topics.\n",
    "\n",
    "## Setup"
   ]
  },
  {
   "cell_type": "code",
   "execution_count": 1,
   "metadata": {
    "tags": []
   },
   "outputs": [],
   "source": [
    "from openai import OpenAI\n",
    "import os\n",
    "\n",
    "from dotenv import load_dotenv, find_dotenv\n",
    "_ = load_dotenv(find_dotenv()) # read local .env file\n",
    "\n",
    "OPENAI_API_KEY  = os.getenv('OPENAI_API_KEY')"
   ]
  },
  {
   "cell_type": "code",
   "execution_count": 2,
   "metadata": {
    "tags": []
   },
   "outputs": [],
   "source": [
    "client = OpenAI(\n",
    "    # This is the default and can be omitted\n",
    "    api_key=OPENAI_API_KEY,\n",
    ")\n",
    "\n",
    "\n",
    "def get_completion(prompt, model=\"gpt-3.5-turbo\"): # Andrew mentioned that the prompt/ completion paradigm is preferable for this class\n",
    "    messages = [{\"role\": \"user\", \"content\": prompt}]\n",
    "    response = client.chat.completions.create(\n",
    "        model=model,\n",
    "        messages=messages,\n",
    "        temperature=0, # this is the degree of randomness of the model's output\n",
    "    )\n",
    "    return response.choices[0].message.content\n"
   ]
  },
  {
   "cell_type": "markdown",
   "metadata": {},
   "source": [
    "## Text to summarize"
   ]
  },
  {
   "cell_type": "code",
   "execution_count": 3,
   "metadata": {
    "tags": []
   },
   "outputs": [
    {
     "name": "stderr",
     "output_type": "stream",
     "text": [
      "<>:1: SyntaxWarning: invalid escape sequence '\\ '\n",
      "<>:1: SyntaxWarning: invalid escape sequence '\\ '\n",
      "/var/folders/cw/hgl5p7pd36gfh8z1d954r9bw0000gn/T/ipykernel_23594/2733959966.py:1: SyntaxWarning: invalid escape sequence '\\ '\n",
      "  prod_review = \"\"\"\n"
     ]
    }
   ],
   "source": [
    "prod_review = \"\"\"\n",
    "Got this panda plush toy for my daughter's birthday, \\\n",
    "who loves it and takes it everywhere. It's soft and \\ \n",
    "super cute, and its face has a friendly look. It's \\ \n",
    "a bit small for what I paid though. I think there \\ \n",
    "might be other options that are bigger for the \\ \n",
    "same price. It arrived a day earlier than expected, \\ \n",
    "so I got to play with it myself before I gave it \\ \n",
    "to her.\n",
    "\"\"\""
   ]
  },
  {
   "cell_type": "markdown",
   "metadata": {},
   "source": [
    "## Summarize with a word/sentence/character limit"
   ]
  },
  {
   "cell_type": "code",
   "execution_count": 4,
   "metadata": {
    "tags": []
   },
   "outputs": [
    {
     "name": "stdout",
     "output_type": "stream",
     "text": [
      "Summary: \n",
      "Soft and cute panda plush toy loved by daughter, but smaller than expected for the price. Arrived early, allowing for personal enjoyment before gifting.\n"
     ]
    }
   ],
   "source": [
    "prompt = f\"\"\"\n",
    "Your task is to generate a short summary of a product \\\n",
    "review from an ecommerce site. \n",
    "\n",
    "Summarize the review below, delimited by triple \n",
    "backticks, in at most 30 words. \n",
    "\n",
    "Review: ```{prod_review}```\n",
    "\"\"\"\n",
    "\n",
    "response = get_completion(prompt)\n",
    "print(response)\n"
   ]
  },
  {
   "cell_type": "markdown",
   "metadata": {},
   "source": [
    "## Summarize with a focus on shipping and delivery"
   ]
  },
  {
   "cell_type": "code",
   "execution_count": 5,
   "metadata": {
    "tags": []
   },
   "outputs": [
    {
     "name": "stdout",
     "output_type": "stream",
     "text": [
      "The customer was pleased with the early delivery of the panda plush toy, but felt it was slightly small for the price paid.\n"
     ]
    }
   ],
   "source": [
    "prompt = f\"\"\"\n",
    "Your task is to generate a short summary of a product \\\n",
    "review from an ecommerce site to give feedback to the \\\n",
    "Shipping deparmtment. \n",
    "\n",
    "Summarize the review below, delimited by triple \n",
    "backticks, in at most 30 words, and focusing on any aspects \\\n",
    "that mention shipping and delivery of the product. \n",
    "\n",
    "Review: ```{prod_review}```\n",
    "\"\"\"\n",
    "\n",
    "response = get_completion(prompt)\n",
    "print(response)\n"
   ]
  },
  {
   "cell_type": "markdown",
   "metadata": {},
   "source": [
    "## Summarize with a focus on price and value"
   ]
  },
  {
   "cell_type": "code",
   "execution_count": 6,
   "metadata": {
    "tags": []
   },
   "outputs": [
    {
     "name": "stdout",
     "output_type": "stream",
     "text": [
      "The panda plush toy is loved for its softness and cuteness, but some customers feel it's a bit small for the price.\n"
     ]
    }
   ],
   "source": [
    "prompt = f\"\"\"\n",
    "Your task is to generate a short summary of a product \\\n",
    "review from an ecommerce site to give feedback to the \\\n",
    "pricing deparmtment, responsible for determining the \\\n",
    "price of the product.  \n",
    "\n",
    "Summarize the review below, delimited by triple \n",
    "backticks, in at most 30 words, and focusing on any aspects \\\n",
    "that are relevant to the price and perceived value. \n",
    "\n",
    "Review: ```{prod_review}```\n",
    "\"\"\"\n",
    "\n",
    "response = get_completion(prompt)\n",
    "print(response)\n"
   ]
  },
  {
   "cell_type": "markdown",
   "metadata": {},
   "source": [
    "#### Comment\n",
    "- Summaries include topics that are not related to the topic of focus."
   ]
  },
  {
   "cell_type": "markdown",
   "metadata": {},
   "source": [
    "## Try \"extract\" instead of \"summarize\""
   ]
  },
  {
   "cell_type": "code",
   "execution_count": 7,
   "metadata": {
    "tags": []
   },
   "outputs": [
    {
     "name": "stderr",
     "output_type": "stream",
     "text": [
      "<>:11: SyntaxWarning: invalid escape sequence '\\ '\n",
      "<>:11: SyntaxWarning: invalid escape sequence '\\ '\n",
      "/var/folders/cw/hgl5p7pd36gfh8z1d954r9bw0000gn/T/ipykernel_23594/2053972773.py:11: SyntaxWarning: invalid escape sequence '\\ '\n",
      "  \"\"\"\n"
     ]
    },
    {
     "name": "stdout",
     "output_type": "stream",
     "text": [
      "Feedback: The shipping was faster than expected, arriving a day earlier. Customer suggests exploring larger options for the same price due to the small size.\n"
     ]
    }
   ],
   "source": [
    "prompt = f\"\"\"\n",
    "Your task is to extract relevant information from \\ \n",
    "a product review from an ecommerce site to give \\\n",
    "feedback to the Shipping department. \n",
    "\n",
    "From the review below, delimited by triple quotes \\\n",
    "extract the information relevant to shipping and \\ \n",
    "delivery. Limit to 30 words. \n",
    "\n",
    "Review: ```{prod_review}```\n",
    "\"\"\"\n",
    "\n",
    "response = get_completion(prompt)\n",
    "print(response)"
   ]
  },
  {
   "cell_type": "markdown",
   "metadata": {},
   "source": [
    "## Summarize multiple product reviews"
   ]
  },
  {
   "cell_type": "code",
   "execution_count": 9,
   "metadata": {
    "tags": []
   },
   "outputs": [
    {
     "name": "stderr",
     "output_type": "stream",
     "text": [
      "<>:38: SyntaxWarning: invalid escape sequence '\\ '\n",
      "<>:38: SyntaxWarning: invalid escape sequence '\\ '\n",
      "/var/folders/cw/hgl5p7pd36gfh8z1d954r9bw0000gn/T/ipykernel_23594/58617423.py:38: SyntaxWarning: invalid escape sequence '\\ '\n",
      "  review_4 = \"\"\"\n"
     ]
    }
   ],
   "source": [
    "\n",
    "review_1 = prod_review \n",
    "\n",
    "# review for a standing lamp\n",
    "review_2 = \"\"\"\n",
    "Needed a nice lamp for my bedroom, and this one \\\n",
    "had additional storage and not too high of a price \\\n",
    "point. Got it fast - arrived in 2 days. The string \\\n",
    "to the lamp broke during the transit and the company \\\n",
    "happily sent over a new one. Came within a few days \\\n",
    "as well. It was easy to put together. Then I had a \\\n",
    "missing part, so I contacted their support and they \\\n",
    "very quickly got me the missing piece! Seems to me \\\n",
    "to be a great company that cares about their customers \\\n",
    "and products. \n",
    "\"\"\"\n",
    "\n",
    "# review for an electric toothbrush\n",
    "review_3 = \"\"\"\n",
    "My dental hygienist recommended an electric toothbrush, \\\n",
    "which is why I got this. The battery life seems to be \\\n",
    "pretty impressive so far. After initial charging and \\\n",
    "leaving the charger plugged in for the first week to \\\n",
    "condition the battery, I've unplugged the charger and \\\n",
    "been using it for twice daily brushing for the last \\\n",
    "3 weeks all on the same charge. But the toothbrush head \\\n",
    "is too small. I’ve seen baby toothbrushes bigger than \\\n",
    "this one. I wish the head was bigger with different \\\n",
    "length bristles to get between teeth better because \\\n",
    "this one doesn’t.  Overall if you can get this one \\\n",
    "around the $50 mark, it's a good deal. The manufactuer's \\\n",
    "replacements heads are pretty expensive, but you can \\\n",
    "get generic ones that're more reasonably priced. This \\\n",
    "toothbrush makes me feel like I've been to the dentist \\\n",
    "every day. My teeth feel sparkly clean! \n",
    "\"\"\"\n",
    "\n",
    "# review for a blender\n",
    "review_4 = \"\"\"\n",
    "So, they still had the 17 piece system on seasonal \\\n",
    "sale for around $49 in the month of November, about \\\n",
    "half off, but for some reason (call it price gouging) \\\n",
    "around the second week of December the prices all went \\\n",
    "up to about anywhere from between $70-$89 for the same \\\n",
    "system. And the 11 piece system went up around $10 or \\\n",
    "so in price also from the earlier sale price of $29. \\\n",
    "So it looks okay, but if you look at the base, the part \\\n",
    "where the blade locks into place doesn’t look as good \\\n",
    "as in previous editions from a few years ago, but I \\\n",
    "plan to be very gentle with it (example, I crush \\\n",
    "very hard items like beans, ice, rice, etc. in the \\ \n",
    "blender first then pulverize them in the serving size \\\n",
    "I want in the blender then switch to the whipping \\\n",
    "blade for a finer flour, and use the cross cutting blade \\\n",
    "first when making smoothies, then use the flat blade \\\n",
    "if I need them finer/less pulpy). Special tip when making \\\n",
    "smoothies, finely cut and freeze the fruits and \\\n",
    "vegetables (if using spinach-lightly stew soften the \\ \n",
    "spinach then freeze until ready for use-and if making \\\n",
    "sorbet, use a small to medium sized food processor) \\ \n",
    "that you plan to use that way you can avoid adding so \\\n",
    "much ice if at all-when making your smoothie. \\\n",
    "After about a year, the motor was making a funny noise. \\\n",
    "I called customer service but the warranty expired \\\n",
    "already, so I had to buy another one. FYI: The overall \\\n",
    "quality has gone done in these types of products, so \\\n",
    "they are kind of counting on brand recognition and \\\n",
    "consumer loyalty to maintain sales. Got it in about \\\n",
    "two days.\n",
    "\"\"\"\n",
    "\n",
    "reviews = [review_1, review_2, review_3, review_4]"
   ]
  },
  {
   "cell_type": "code",
   "execution_count": 10,
   "metadata": {
    "tags": []
   },
   "outputs": [
    {
     "name": "stderr",
     "output_type": "stream",
     "text": [
      "<>:10: SyntaxWarning: invalid escape sequence '\\ '\n",
      "<>:10: SyntaxWarning: invalid escape sequence '\\ '\n",
      "/var/folders/cw/hgl5p7pd36gfh8z1d954r9bw0000gn/T/ipykernel_23594/393577692.py:10: SyntaxWarning: invalid escape sequence '\\ '\n",
      "  \"\"\"\n"
     ]
    },
    {
     "name": "stdout",
     "output_type": "stream",
     "text": [
      "0 Summary: \n",
      "Adorable panda plush loved by daughter, but small for price. Arrived early, soft and cute. \n",
      "\n",
      "1 Great lamp with storage, fast delivery, excellent customer service for missing parts. Company cares about customers. \n",
      "\n",
      "2 Impressive battery life, small brush head, good deal for $50, generic replacement heads available, leaves teeth feeling clean. \n",
      "\n",
      "3 17-piece system on sale for $49, price increased later. Base quality not as good, motor issues after a year. \n",
      "\n"
     ]
    }
   ],
   "source": [
    "for i in range(len(reviews)):\n",
    "    prompt = f\"\"\"\n",
    "    Your task is to generate a short summary of a product \\ \n",
    "    review from an ecommerce site. \n",
    "\n",
    "    Summarize the review below, delimited by triple \\\n",
    "    backticks in at most 20 words. \n",
    "\n",
    "    Review: ```{reviews[i]}```\n",
    "    \"\"\"\n",
    "\n",
    "    response = get_completion(prompt)\n",
    "    print(i, response, \"\\n\")"
   ]
  },
  {
   "cell_type": "markdown",
   "metadata": {},
   "source": [
    "# Exercise\n",
    " - Complete the prompts similar to what we did in class. \n",
    "     - Try at least 3 versions\n",
    "     - Be creative\n",
    " - Write a one page report summarizing your findings.\n",
    "     - Were there variations that didn't work well? i.e., where GPT either hallucinated or wrong\n",
    " - What did you learn?"
   ]
  },
  {
   "cell_type": "code",
   "execution_count": 13,
   "metadata": {},
   "outputs": [],
   "source": [
    "client = OpenAI(\n",
    "    # This is the default and can be omitted\n",
    "    api_key=OPENAI_API_KEY,\n",
    ")\n",
    "\n",
    "\n",
    "def get_completion(prompt, model=\"gpt-3.5-turbo\"): # Andrew mentioned that the prompt/ completion paradigm is preferable for this class\n",
    "    messages = [{\"role\": \"user\", \"content\": prompt}]\n",
    "    response = client.chat.completions.create(\n",
    "        model=model,\n",
    "        messages=messages,\n",
    "        temperature=0, # this is the degree of randomness of the model's output\n",
    "    )\n",
    "    return response.choices[0].message.content\n"
   ]
  },
  {
   "cell_type": "code",
   "execution_count": 14,
   "metadata": {},
   "outputs": [],
   "source": [
    "capitulo_1 = \"\"\"\n",
    "# Capítulo primero. Que trata de la condición y ejercicio del famoso y valiente hidalgoI don Quijote de la Mancha\n",
    "\n",
    "Que trata de la condición y ejercicio del famoso y valiente hidalgoI don Quijote de la Mancha1\n",
    "En un lugar de la Mancha2, de cuyo nombre no quiero acordarme3, no ha mucho tiempo que vivía un hidalgo de los de lanza en astillero, adarga antigua, rocín flaco y galgo corredor4. Una olla de algo más vaca que carnero, salpicón las más noches5, duelos y quebrantos los sábados6, lantejas los viernes7, algún palomino de añadidura los domingos8, consumían las tres partes de su hacienda9. El resto della concluían sayo de velarte10, calzas de velludo para las fiestas, con sus pantuflos de lo mesmo11, y los días de entresemana se honraba con su vellorí de lo más fino12. Tenía en su casa una ama que pasaba de los cuarenta y una sobrina que no llegaba a los veinte, y un mozo de campo y plaza que así ensillaba el rocín como tomaba la podadera13. Frisaba la edad de nuestro hidalgo con los cincuenta años14. Era de complexión recia, seco de carnes, enjuto de rostro15, gran madrugador y amigo de la caza. Quieren decir que tenía el sobrenombre de «Quijada», o «Quesada», que en esto hay alguna diferencia en los autores que deste caso escriben, aunque por conjeturas verisímilesII se deja entender que se llamaba «Quijana»III, 16. Pero esto importa poco a nuestro cuento: basta que en la narración dél no se salga un punto de la verdad.\n",
    "\n",
    "Es, pues, de saber que este sobredicho hidalgo, los ratos que estaba ocioso —que eran los más del año—, se daba a leer libros de caballerías, con tanta afición y gusto, que olvidó casi de todo punto el ejercicio de la caza y aun la administración de su hacienda; y llegó a tanto su curiosidad y desatino en esto17, que vendió muchas hanegas de tierra de sembradura para comprar libros de caballerías en queIV leer18, y, así, llevó a su casa todos cuantos pudo haber dellos; y, de todos, ningunos le parecían tan bienV como los que compuso el famoso Feliciano de Silva19, porque la claridad de su prosa y aquellas entricadas razones suyas le parecían de perlas, y más cuando llegaba a leer aquellos requiebros y cartas de desafíos20, donde en muchas partes hallaba escrito: «La razón de la sinrazón que a mi razón se hace, de tal manera mi razón enflaquece, que con razón me quejo de la vuestra fermosura»21. Y también cuando leía: «Los altos cielos que de vuestra divinidad divinamente con las estrellas os fortifican y os hacen merecedora del merecimiento que merece la vuestra grandeza...»22\n",
    "\n",
    "Con estas razones perdía el pobre caballero el juicio, y desvelábase por entenderlas y desentrañarles el sentido, que no se lo sacara ni las entendiera el mesmo Aristóteles, si resucitara para solo ello. No estaba muy bien con las heridas que don Belianís daba y recebía, porque se imaginaba que, por grandes maestros que le hubiesen curado, no dejaría de tener el rostro y todo el cuerpo lleno de cicatrices y señales23. Pero, con todo, alababa en su autor aquel acabar su libro con la promesa de aquella inacabable aventura, y muchas veces le vino deseo de tomar la pluma y dalle fin al pie de la letra como allí se promete24; y sin duda alguna lo hiciera, y aun saliera con ello25, si otros mayores y continuos pensamientos no se lo estorbaran. Tuvo muchas veces competencia con el cura de su lugar —que era hombre docto, graduado en Cigüenza—26 sobre cuál había sido mejor caballero: Palmerín de Ingalaterra o Amadís de Gaula27; mas maese Nicolás, barbero del mesmo pueblo28, decía que ninguno llegaba al Caballero del Febo, y que si alguno se le podía comparar era don Galaor, hermano de Amadís de Gaula, porque tenía muy acomodada condición para todo, que no era caballero melindroso, ni tan llorón como su hermano, y que en lo de la valentía no le iba en zaga29.\n",
    "\n",
    "En efeto, rematado ya su juicio40, vino a dar en el más estraño pensamiento que jamás dio loco en el mundo41, y fue que le pareció convenible y necesario, así para el aumento de su honra como para el servicio de su república42, hacerse caballero andante y irse por todo el mundo con sus armas y caballo a buscar las aventuras y a ejercitarse en todo aquello que él había leído que los caballeros andantes se ejercitaban, deshaciendo todo género de agravio y poniéndose en ocasiones y peligros donde, acabándolos43, cobrase eterno nombre y fama. Imaginábase el pobre ya coronado por el valor de su brazo, por lo menos del imperio de Trapisonda44; y así, con estos tan agradables pensamientos, llevado del estraño gusto que en ellos sentía45, se dio priesa a poner en efeto lo que deseaba. Y lo primero  que hizo fue limpiar unas armas que habían sido de sus bisabuelos, que, tomadas de orín y llenasVIII de moho, luengos siglos había que estaban puestas y olvidadas en un rincón. Limpiólas y aderezólas lo mejor que pudo; pero vio que tenían una gran falta, y era que no tenían celada de encaje, sino morrión simple46; mas a esto suplió su industria47, porque de cartones hizo un modo de media celada que, encajada con el morrión, hacíanIX una apariencia de celada entera48. Es verdad que, para probar si era fuerte y podía estar al riesgo de una cuchillada49, sacó su espada50 y le dio dos golpes51, y con el primero y en un punto deshizo lo que había hecho en una semana; y no dejó de parecerle mal la facilidad con que la había hecho pedazos, y, por asegurarse deste peligro52, la tornó a hacer de nuevo, poniéndole unas barras de hierro por de dentro, de tal manera, que él quedó satisfecho de su fortaleza y, sin querer hacer nueva experiencia della, la diputó y tuvo por celada finísima de encaje.\n",
    "\n",
    "Fue luego a ver su rocínX, y aunque tenía más cuartos que un real53 y más tachas que el caballo de Gonela, que «tantum pellis et ossa fuit»54, le pareció que ni el Bucéfalo de Alejandro ni Babieca el del Cid con él se igualaban. Cuatro días se le pasaron en imaginar qué nombre le pondría55; porque —según se decía él a sí mesmo— no era razón que caballo de caballero tan famoso, y tan bueno él por sí, estuviese sin nombre conocido56; y ansí procuraba acomodársele, de manera que declarase quién había sido antes que fuese de caballero andante y lo que era entonces; pues estaba muy puesto en razón que, mudando su señor estado, mudase él también el nombre, y le cobraseXI famoso y de estruendo, como convenía a la nueva orden y al nuevo ejercicioXII que ya profesaba57; y así, después de muchos nombres que formó, borró y quitó, añadió, deshizo y tornó a hacer en su memoria e imaginación58, al fin le vino a llamar «Rocinante», nombre, a su parecer, alto, sonoro y significativo de lo que había sido cuando fue rocín, antes de lo que ahora era, que era antes y primero de todos los rocines del mundo59.\n",
    "\n",
    "Puesto nombre, y tan a su gusto, a su caballo, quiso ponérsele a sí mismo, y en este pensamiento duró otros ocho días, y al cabo se vino a llamar «don Quijote»60; de donde, como queda dichoXIII, tomaron ocasión los autores desta tan verdadera historia que sin duda se debía de llamar «Quijada» , y no «Quesada», como otros quisieron decir61. Pero acordándose que el valeroso Amadís no sólo se había contentado con llamarse «Amadís» a secas62, sino que añadió el nombre de su reino y patria, por hacerla famosaXIV, y se llamó «Amadís de Gaula»63, así quiso, como buen caballero, añadir al suyo el nombre de la suya y llamarse «don Quijote de la Mancha», con que a su parecer declaraba muy al vivo su linaje y patria, y la honraba con tomar el sobrenombre della.\n",
    "\n",
    "Limpias, pues, sus armas, hecho del morrión celada, puesto nombre a su rocín y confirmándose a sí mismoXV 64, se dio a entender65 que no le faltaba otra cosa sino buscar una dama de quien enamorarse, porque el caballero andante sin amores era árbol sin hojas y sin fruto y cuerpo sin alma66. Decíase él:\n",
    "\n",
    "—Si yoXVI, por malos de mis pecados67, o por mi buena suerte, me encuentro por ahí con algún gigante, como de ordinario les acontece a los caballeros andantes, y le derribo de un encuentro68, o le parto por mitad del cuerpo, o, finalmente69, le venzo y le rindo, ¿no será bien tener a quien enviarle presentado70, y que entre y se hinque de rodillas ante mi dulce señora71, y diga con voz humilde y rendida:XVII «Yo, señoraXVIII, soy el gigante Caraculiambro, señor de la ínsula Malindrania72, a quien venció en singular batalla73 el jamás como se debe alabado caballero don Quijote de la Mancha, el cual me mandó que me presentase ante la vuestra mercedXIX, para que la vuestra grandeza disponga de mí a su talante»?74\n",
    "\n",
    "¡Oh, cómo se holgó nuestro buen caballero cuando hubo hecho este discurso, y más cuando halló a quien dar nombre de su dama! Y fue, a lo que se cree, que en un lugar cerca del suyo había una moza labradora de muy buen parecer, de quien él un tiempo anduvo enamorado, aunque, según se entiende, ella jamás lo supo ni le dio cataXX dello75. Llamábase Aldonza Lorenzo, y a esta le pareció ser bien darle título de señora de sus pensamientos; y, buscándole nombre que no desdijese mucho del suyo y que tirase y se encaminase al de princesa y gran señora, vino a llamarla «Dulcinea del Toboso» porque era natural del Toboso: nombre, a su parecer, músico y peregrino y significativo, como todos los demás que a él y a sus cosas había puesto\n",
    "\"\"\"\n",
    "# Capítulo II. Que trata de la primera salida que de su tierra hizo el ingenioso don Quijot\n",
    "capitulo_2 = \"\"\"\n",
    "Hechas, pues, estas prevenciones, no quiso aguardar más tiempo a poner en efeto su pensamiento1, apretándole a ello la falta que él pensaba que hacía en el mundo su tardanza,2 según eran los agravios que pensaba deshacer, tuertos que enderezar3, sinrazones que emendar y abusosI que mejorar4 y deudas que satisfacer. Y así, sin dar parte a persona alguna de su intención5 y sin que nadie le viese, una mañana, antes del día, que era uno de los calurosos del mes de julio6, se armó de todas sus armas7, subió sobre Rocinante, puesta su mal compuesta celada, embrazó su adarga8, tomó su lanza y por la puerta falsa de un corral salió al campo9, con grandísimo contento y alborozo de ver con cuánta facilidad había dado principio a su buen deseo. Mas apenas se vio en el campo, cuando le asaltó un pensamiento terrible, y tal, que por poco le hiciera dejar la comenzada empresa; y fue que le vino a la memoria que no era armado caballero y que, conforme a ley de caballería, ni podía ni debía tomar armas con ningún caballero10, y puesto que lo fuera, había de llevar armas blancas11, como novel caballero, sin empresa en el escudo12, hasta que por su esfuerzo la ganase. Estos pensamientos le hicieron titubear en su propósito; mas, pudiendo más su locura que otra razón alguna, propuso de hacerse armar caballero del primero que topase, a imitación de otros muchos que así lo hicieron, según él había leído en los libros que tal le tenían13. En lo de las armas blancas14, pensaba limpiarlas de manera, en teniendo lugar, que lo fuesen más que un arminioII, 15; y con esto se quietó16 y prosiguió su camino, sin llevar otro que aquel que su caballo quería, creyendo que en aquello consistía la fuerza de las aventuras17.\n",
    "\n",
    "Yendo, pues, caminando nuestro flamante aventurero, iba hablando consigo mesmo y diciendo:\n",
    "\n",
    "—¿Quién duda sino que en los venideros tiempos, cuando salga a luz la verdadera historia de mis famosos hechos, que el sabio que los escribiere no ponga, cuando llegue a contar esta mi primera salida tan de mañana, desta manera?18: «Apenas había el rubicundo Apolo tendido por la faz de la ancha y espaciosa tierra las doradas hebras de sus hermosos cabellos19, y apenas los pequeños y pintados pajarillos con sus harpadas lenguas20 habían saludado con dulce y meliflua armonía la venida de la rosada aurora, que, dejando la blanda cama del celoso marido, por las puertas y balcones del manchego horizonte a los mortales se mostraba21, cuando el famoso caballero don Quijote de la Mancha, dejando las ociosas plumas22, subió sobre su famoso caballo Rocinante y comenzó a caminar por el antiguo y conocido campo de Montiel»23.\n",
    "\n",
    "Y era la verdad que por él caminaba. Y añadió diciendo:\n",
    "\n",
    "—Dichosa edad y siglo dichoso aquel adonde saldrán a luz las famosas hazañas mías24, dignas de entallarse en broncesIII, 25, esculpirse en mármoles y pintarse en tablas, para memoria en lo futuro. ¡Oh tú, sabio encantador, quienquiera que seas26, a quien ha de tocar el ser coronista27 desta peregrina historia!28 Ruégote que no te olvides de mi buen Rocinante, compañero eterno mío en todos mis caminos y carreras29.\n",
    "\n",
    "Luego volvía diciendo, como si verdaderamente fuera enamorado:\n",
    "\n",
    "—¡Oh princesa Dulcinea, señora deste cautivo corazón! Mucho agravio me habedes fecho en despedirme y reprocharme con el rigurosoIV afincamiento de mandarme no parecer ante la vuestra fermosura. Plégaos, señora, de membraros deste vuestro sujeto corazón, que tantas cuitas por vuestro amor padece30.\n",
    "\n",
    "Con estos iba ensartando otros disparates, todos al modo de los que sus libros le habían enseñado, imitando en cuanto podía su lenguaje. Con estoV, caminaba tan despacio, y el sol entraba tan apriesa y con tanto ardor, que fuera bastante a derretirle los sesos, si algunos tuviera31.\n",
    "\n",
    "Casi todo aquel día caminó sin acontecerle cosa que de contar fuese,32 de lo cual se desesperaba, porque quisiera topar luego33 con quien hacer experiencia del valor de su fuerte brazo. Autores hay que dicen que la primera aventura que le avino fue la del Puerto Lápice; otros dicen que la de los molinos de viento34; pero lo que yo he podido averiguar en este caso, y lo que he hallado escrito en los anales de la Mancha35 es que él anduvo todo aquel día, y, al anochecer, su rocín y él se hallaron cansados y muertos de hambre, y que, mirando a todas partes por ver si descubriríaVI algún castillo o alguna majada de pastores donde recogerse36 y adonde pudiese remediar su mucha hambre y necesidadVII, vio, no lejos del camino por donde iba, una venta37, que fue como si viera una estrella que, no a los portalesVIII, sino a los alcázares de su redención le encaminaba38. Diose priesa a caminar y llegó a ella a tiempo que anochecía.\n",
    "\n",
    "Estaban acaso39 a la puerta dos mujeres mozas, destas que llaman del partido40, las cuales iban a Sevilla con unos arrieros que en la venta aquella noche acertaron a hacer jornada41; y como a nuestro aventurero todo cuanto pensaba, veía o imaginaba le parecía ser hecho y pasar al modo de lo que había leído, luego que vio la venta se le representó que era un castillo con sus cuatro torres y chapiteles de luciente plata42, sin faltarle su puente levadiza y honda cava43, con todos aquellos adherentes que semejantesIX castillos se pintan. Fuese llegando a la venta que a él le parecía castillo, y a poco trecho della detuvo las riendas a Rocinante, esperando que algún enano se pusiese entre las almenas a dar señal con alguna trompeta de que llegaba caballero al castillo44. Pero como vio que se tardaban y que Rocinante se daba priesa por llegar a la caballeriza, se llegó a la puerta de la venta y vio a las dos destraídas mozas que allí estaban45, que a él le parecieron dos hermosas doncellas o dos graciosas damas que delante de la puerta del castillo se estaban solazando46. En esto sucedió acaso que un porquero que andaba recogiendo de unos rastrojos una manada de puercos (que sin perdón así se llaman)47 tocó un cuerno, a cuya señal ellos se recogen, y al instante se le representó a don Quijote lo que deseaba, que era que algún enano hacía señal de su venida; y, así, con estraño contento48 llegó a la venta y a las damas, las cuales, como vieron venir un hombre de aquella suerte armado, y con lanza y adarga, llenas de miedo se iban a entrar en la venta; pero don Quijote, coligiendo por su huida su miedo,49 alzándose la visera de papelón50 y descubriendo su seco y polvoroso rostro, con gentil talante y voz reposada les dijo:\n",
    "\n",
    "—Non fuyanX las vuestras mercedes, ni teman desaguisado alguno, ca a la orden de caballería que profeso non toca ni atañe facerle a ninguno, cuanto más a tan altas doncellas como vuestras presencias demuestran51.\n",
    "\"\"\"\n",
    "\n",
    "capitulos = [capitulo_1, capitulo_2]\n"
   ]
  },
  {
   "cell_type": "code",
   "execution_count": 16,
   "metadata": {},
   "outputs": [
    {
     "name": "stdout",
     "output_type": "stream",
     "text": [
      "Resumen del Capítulo 1: En el primer capítulo de Don Quijote de la Mancha, conocemos a un hidalgo llamado Alonso Quijano que se vuelve loco por leer demasiados libros de caballerías. Decide convertirse en un caballero andante llamado Don Quijote y sale en busca de aventuras para hacer justicia en el mundo.\n",
      "\n",
      "Resumen del Capítulo 2: En el segundo capítulo, Don Quijote se arma caballero en una ceremonia improvisada en su casa. Decide salir en busca de su primera aventura y se encuentra con unos mercaderes a los que confunde con unos malvados. Lucha contra ellos y resulta herido, pero sigue adelante en su búsqueda de justicia.\n"
     ]
    }
   ],
   "source": [
    "prompt = f\"\"\"\n",
    "Tu objetivo es resumir los dos primeros capítulos del Quijote \\\n",
    "para alumnos y alumnas de segundo de bachillerato \\\n",
    "que les ayude a entender y situar la obra \\\n",
    "los personajes principales y el tema central.  \n",
    "\n",
    "Haz un resumen de ambos capítulos, por separado, 100 palabras cada uno. \n",
    "\n",
    "Review: ```{prod_review}```\n",
    "\"\"\"\n",
    "\n",
    "response = get_completion(prompt)\n",
    "print(response)\n"
   ]
  },
  {
   "cell_type": "code",
   "execution_count": 21,
   "metadata": {},
   "outputs": [
    {
     "name": "stdout",
     "output_type": "stream",
     "text": [
      "Capítulo 1: En el primer capítulo del Quijote, se pueden observar varias diferencias lingüísticas entre el castellano del siglo de oro y el castellano actual. Por ejemplo, en el castellano del siglo de oro se utilizan formas verbales y pronombres de manera diferente. En el texto se pueden ver formas verbales como \"fuese\" en lugar de \"fuera\" y pronombres como \"vuestra merced\" en lugar de \"usted\". Además, se emplean construcciones gramaticales más complejas y arcaicas, como en la frase \"en un lugar de la Mancha, de cuyo nombre no quiero acordarme\". Estas diferencias reflejan la evolución del idioma a lo largo de los siglos y muestran la riqueza y variedad del castellano a lo largo del tiempo.\n",
      "\n",
      "Capítulo 2: En el segundo capítulo del Quijote, se pueden apreciar más diferencias lingüísticas entre el castellano del siglo de oro y el castellano actual. Por ejemplo, en el texto se utilizan palabras y expresiones que hoy en día no son tan comunes, como \"desocupado lector\" en lugar de \"amable lector\". Además, se pueden ver estructuras gramaticales más complejas y formales, como en la frase \"y así, con estas razones y otras muchas, perdía el pobre caballero el juicio\". Estas diferencias lingüísticas nos permiten apreciar la belleza y la complejidad del castellano antiguo, así como la importancia de estudiar y preservar nuestra lengua y cultura.\n"
     ]
    }
   ],
   "source": [
    "prompt = f\"\"\"\n",
    "Tu objetivo es resumir las principales diferencias lingüísticas \n",
    "del castellano del siglo de oro y el castellano actual\n",
    "con varios ejemplos extraídos de los dos primeros capítulos del Quijote\\\n",
    "para alumnos de Filología Hispánica\\\n",
    "\n",
    "Haz un comentario para cada capítulo, de máximo 500 palabras.\n",
    "\n",
    "Review: ```{prod_review}```\n",
    "\"\"\"\n",
    "\n",
    "response = get_completion(prompt)\n",
    "print(response)\n"
   ]
  },
  {
   "cell_type": "markdown",
   "metadata": {},
   "source": []
  },
  {
   "cell_type": "markdown",
   "metadata": {},
   "source": [
    "Giving specific context for the objetive, language and theme wise, helped getting very specific summaries for the same texts. I really enjoyed playing with this!"
   ]
  }
 ],
 "metadata": {
  "kernelspec": {
   "display_name": "Python 3 (ipykernel)",
   "language": "python",
   "name": "python3"
  },
  "language_info": {
   "codemirror_mode": {
    "name": "ipython",
    "version": 3
   },
   "file_extension": ".py",
   "mimetype": "text/x-python",
   "name": "python",
   "nbconvert_exporter": "python",
   "pygments_lexer": "ipython3",
   "version": "3.12.2"
  }
 },
 "nbformat": 4,
 "nbformat_minor": 4
}
